{
 "cells": [
  {
   "cell_type": "code",
   "execution_count": 2,
   "metadata": {
    "vscode": {
     "languageId": "r"
    }
   },
   "outputs": [
    {
     "name": "stderr",
     "output_type": "stream",
     "text": [
      "Warning message:\n",
      "“package ‘ggplot2’ was built under R version 4.3.2”\n",
      "Warning message:\n",
      "“package ‘tidyr’ was built under R version 4.3.2”\n",
      "Warning message:\n",
      "“package ‘readr’ was built under R version 4.3.2”\n",
      "Warning message:\n",
      "“package ‘dplyr’ was built under R version 4.3.2”\n",
      "Warning message:\n",
      "“package ‘stringr’ was built under R version 4.3.2”\n",
      "── \u001b[1mAttaching core tidyverse packages\u001b[22m ──────────────────────── tidyverse 2.0.0 ──\n",
      "\u001b[32m✔\u001b[39m \u001b[34mdplyr    \u001b[39m 1.1.4     \u001b[32m✔\u001b[39m \u001b[34mreadr    \u001b[39m 2.1.5\n",
      "\u001b[32m✔\u001b[39m \u001b[34mforcats  \u001b[39m 1.0.0     \u001b[32m✔\u001b[39m \u001b[34mstringr  \u001b[39m 1.5.1\n",
      "\u001b[32m✔\u001b[39m \u001b[34mggplot2  \u001b[39m 3.5.0     \u001b[32m✔\u001b[39m \u001b[34mtibble   \u001b[39m 3.2.1\n",
      "\u001b[32m✔\u001b[39m \u001b[34mlubridate\u001b[39m 1.9.3     \u001b[32m✔\u001b[39m \u001b[34mtidyr    \u001b[39m 1.3.1\n",
      "\u001b[32m✔\u001b[39m \u001b[34mpurrr    \u001b[39m 1.0.2     \n",
      "── \u001b[1mConflicts\u001b[22m ────────────────────────────────────────── tidyverse_conflicts() ──\n",
      "\u001b[31m✖\u001b[39m \u001b[34mdplyr\u001b[39m::\u001b[32mfilter()\u001b[39m masks \u001b[34mstats\u001b[39m::filter()\n",
      "\u001b[31m✖\u001b[39m \u001b[34mdplyr\u001b[39m::\u001b[32mlag()\u001b[39m    masks \u001b[34mstats\u001b[39m::lag()\n",
      "\u001b[36mℹ\u001b[39m Use the conflicted package (\u001b[3m\u001b[34m<http://conflicted.r-lib.org/>\u001b[39m\u001b[23m) to force all conflicts to become errors\n",
      "\n",
      "Attaching package: ‘anndata’\n",
      "\n",
      "\n",
      "The following object is masked from ‘package:readr’:\n",
      "\n",
      "    read_csv\n",
      "\n",
      "\n",
      "\n",
      "Attaching package: ‘gridExtra’\n",
      "\n",
      "\n",
      "The following object is masked from ‘package:dplyr’:\n",
      "\n",
      "    combine\n",
      "\n",
      "\n"
     ]
    }
   ],
   "source": [
    "knitr::opts_chunk$set(echo = TRUE)\n",
    "library(tidyverse)\n",
    "library(anndata)\n",
    "library(ggExtra)\n",
    "library(gridExtra)"
   ]
  },
  {
   "cell_type": "markdown",
   "metadata": {},
   "source": [
    "## Creating an anndata object for benchmarking\n",
    "\n",
    "Step 1: creating anndata object\n",
    "* Load miRNA inferred activity, expression count and annotations\n",
    "* Match and subset inferred activity to expression count\n",
    "* Store activity and expression as layers in anndata object\n",
    "\n",
    "Step 2: computing correlations coefficients \n",
    "* For each miRNA compute Spearman and Pearson correlation betweeen activity and expression \n",
    "    * Compute p-value \n",
    "* add to `var` variable in anndata object\n",
    "\n",
    "Step 3: Add means\n",
    "* compute mean expression and add to `var` variable\n",
    "* compute mean mean pearson and spearman correlation and add to `uns` variable \n",
    "\n"
   ]
  },
  {
   "cell_type": "markdown",
   "metadata": {},
   "source": [
    "## Step 1\n",
    "\n",
    "#### loading data"
   ]
  },
  {
   "cell_type": "code",
   "execution_count": 16,
   "metadata": {
    "vscode": {
     "languageId": "r"
    }
   },
   "outputs": [
    {
     "data": {
      "text/html": [
       "<table class=\"dataframe\">\n",
       "<caption>A data.frame: 6 × 13</caption>\n",
       "<thead>\n",
       "\t<tr><th></th><th scope=col>sample_id</th><th scope=col>cancer_type</th><th scope=col>sample_submitter_id</th><th scope=col>cancer_name</th><th scope=col>primary_site</th><th scope=col>sample_type</th><th scope=col>tissue_type</th><th scope=col>tumor_descriptor</th><th scope=col>age_at_index</th><th scope=col>gender</th><th scope=col>vital_status</th><th scope=col>tissue_or_organ_of_origin</th><th scope=col>color</th></tr>\n",
       "\t<tr><th></th><th scope=col>&lt;chr&gt;</th><th scope=col>&lt;chr&gt;</th><th scope=col>&lt;chr&gt;</th><th scope=col>&lt;chr&gt;</th><th scope=col>&lt;chr&gt;</th><th scope=col>&lt;chr&gt;</th><th scope=col>&lt;chr&gt;</th><th scope=col>&lt;chr&gt;</th><th scope=col>&lt;chr&gt;</th><th scope=col>&lt;chr&gt;</th><th scope=col>&lt;chr&gt;</th><th scope=col>&lt;chr&gt;</th><th scope=col>&lt;chr&gt;</th></tr>\n",
       "</thead>\n",
       "<tbody>\n",
       "\t<tr><th scope=row>1</th><td>TCGA-EW-A6SA-01A-21R-A32P-07</td><td>BRCA</td><td>TCGA-EW-A6SA-01A</td><td>Breast Invasive Carcinoma</td><td>Breast</td><td>Primary Tumor      </td><td>Tumor </td><td>Primary       </td><td>59</td><td>male</td><td>Alive</td><td>Breast, NOS     </td><td>#ED1E91</td></tr>\n",
       "\t<tr><th scope=row>2</th><td>TCGA-E2-A14W-01A-11R-A12D-07</td><td>BRCA</td><td>TCGA-E2-A14W-01A</td><td>Breast Invasive Carcinoma</td><td>Breast</td><td>Primary Tumor      </td><td>Tumor </td><td>Primary       </td><td>78</td><td>male</td><td>Alive</td><td>Breast, NOS     </td><td>#ED1E91</td></tr>\n",
       "\t<tr><th scope=row>3</th><td>TCGA-EW-A1PD-01A-11R-A144-07</td><td>BRCA</td><td>TCGA-EW-A1PD-01A</td><td>Breast Invasive Carcinoma</td><td>Breast</td><td>Primary Tumor      </td><td>Tumor </td><td>Primary       </td><td>61</td><td>male</td><td>Alive</td><td>Breast, NOS     </td><td>#ED1E91</td></tr>\n",
       "\t<tr><th scope=row>4</th><td>TCGA-55-1594-01A-01R-0946-07</td><td>LUAD</td><td>TCGA-55-1594-01A</td><td>Lung Adenocarcinoma      </td><td>Lung  </td><td>Primary Tumor      </td><td>Tumor </td><td>Primary       </td><td>68</td><td>male</td><td>Alive</td><td>Lower lobe, lung</td><td>#D2C3DF</td></tr>\n",
       "\t<tr><th scope=row>5</th><td>TCGA-49-6742-11A-01R-1858-07</td><td>LUAD</td><td>TCGA-49-6742-11A</td><td>Lung Adenocarcinoma      </td><td>Lung  </td><td>Solid Tissue Normal</td><td>Normal</td><td>Not Applicable</td><td>70</td><td>male</td><td>Dead </td><td>Upper lobe, lung</td><td>#D2C3DF</td></tr>\n",
       "\t<tr><th scope=row>6</th><td>TCGA-50-5932-11A-01R-1755-07</td><td>LUAD</td><td>TCGA-50-5932-11A</td><td>Lung Adenocarcinoma      </td><td>Lung  </td><td>Solid Tissue Normal</td><td>Normal</td><td>Not Applicable</td><td>75</td><td>male</td><td>Dead </td><td>Upper lobe, lung</td><td>#D2C3DF</td></tr>\n",
       "</tbody>\n",
       "</table>\n"
      ],
      "text/latex": [
       "A data.frame: 6 × 13\n",
       "\\begin{tabular}{r|lllllllllllll}\n",
       "  & sample\\_id & cancer\\_type & sample\\_submitter\\_id & cancer\\_name & primary\\_site & sample\\_type & tissue\\_type & tumor\\_descriptor & age\\_at\\_index & gender & vital\\_status & tissue\\_or\\_organ\\_of\\_origin & color\\\\\n",
       "  & <chr> & <chr> & <chr> & <chr> & <chr> & <chr> & <chr> & <chr> & <chr> & <chr> & <chr> & <chr> & <chr>\\\\\n",
       "\\hline\n",
       "\t1 & TCGA-EW-A6SA-01A-21R-A32P-07 & BRCA & TCGA-EW-A6SA-01A & Breast Invasive Carcinoma & Breast & Primary Tumor       & Tumor  & Primary        & 59 & male & Alive & Breast, NOS      & \\#ED1E91\\\\\n",
       "\t2 & TCGA-E2-A14W-01A-11R-A12D-07 & BRCA & TCGA-E2-A14W-01A & Breast Invasive Carcinoma & Breast & Primary Tumor       & Tumor  & Primary        & 78 & male & Alive & Breast, NOS      & \\#ED1E91\\\\\n",
       "\t3 & TCGA-EW-A1PD-01A-11R-A144-07 & BRCA & TCGA-EW-A1PD-01A & Breast Invasive Carcinoma & Breast & Primary Tumor       & Tumor  & Primary        & 61 & male & Alive & Breast, NOS      & \\#ED1E91\\\\\n",
       "\t4 & TCGA-55-1594-01A-01R-0946-07 & LUAD & TCGA-55-1594-01A & Lung Adenocarcinoma       & Lung   & Primary Tumor       & Tumor  & Primary        & 68 & male & Alive & Lower lobe, lung & \\#D2C3DF\\\\\n",
       "\t5 & TCGA-49-6742-11A-01R-1858-07 & LUAD & TCGA-49-6742-11A & Lung Adenocarcinoma       & Lung   & Solid Tissue Normal & Normal & Not Applicable & 70 & male & Dead  & Upper lobe, lung & \\#D2C3DF\\\\\n",
       "\t6 & TCGA-50-5932-11A-01R-1755-07 & LUAD & TCGA-50-5932-11A & Lung Adenocarcinoma       & Lung   & Solid Tissue Normal & Normal & Not Applicable & 75 & male & Dead  & Upper lobe, lung & \\#D2C3DF\\\\\n",
       "\\end{tabular}\n"
      ],
      "text/markdown": [
       "\n",
       "A data.frame: 6 × 13\n",
       "\n",
       "| <!--/--> | sample_id &lt;chr&gt; | cancer_type &lt;chr&gt; | sample_submitter_id &lt;chr&gt; | cancer_name &lt;chr&gt; | primary_site &lt;chr&gt; | sample_type &lt;chr&gt; | tissue_type &lt;chr&gt; | tumor_descriptor &lt;chr&gt; | age_at_index &lt;chr&gt; | gender &lt;chr&gt; | vital_status &lt;chr&gt; | tissue_or_organ_of_origin &lt;chr&gt; | color &lt;chr&gt; |\n",
       "|---|---|---|---|---|---|---|---|---|---|---|---|---|---|\n",
       "| 1 | TCGA-EW-A6SA-01A-21R-A32P-07 | BRCA | TCGA-EW-A6SA-01A | Breast Invasive Carcinoma | Breast | Primary Tumor       | Tumor  | Primary        | 59 | male | Alive | Breast, NOS      | #ED1E91 |\n",
       "| 2 | TCGA-E2-A14W-01A-11R-A12D-07 | BRCA | TCGA-E2-A14W-01A | Breast Invasive Carcinoma | Breast | Primary Tumor       | Tumor  | Primary        | 78 | male | Alive | Breast, NOS      | #ED1E91 |\n",
       "| 3 | TCGA-EW-A1PD-01A-11R-A144-07 | BRCA | TCGA-EW-A1PD-01A | Breast Invasive Carcinoma | Breast | Primary Tumor       | Tumor  | Primary        | 61 | male | Alive | Breast, NOS      | #ED1E91 |\n",
       "| 4 | TCGA-55-1594-01A-01R-0946-07 | LUAD | TCGA-55-1594-01A | Lung Adenocarcinoma       | Lung   | Primary Tumor       | Tumor  | Primary        | 68 | male | Alive | Lower lobe, lung | #D2C3DF |\n",
       "| 5 | TCGA-49-6742-11A-01R-1858-07 | LUAD | TCGA-49-6742-11A | Lung Adenocarcinoma       | Lung   | Solid Tissue Normal | Normal | Not Applicable | 70 | male | Dead  | Upper lobe, lung | #D2C3DF |\n",
       "| 6 | TCGA-50-5932-11A-01R-1755-07 | LUAD | TCGA-50-5932-11A | Lung Adenocarcinoma       | Lung   | Solid Tissue Normal | Normal | Not Applicable | 75 | male | Dead  | Upper lobe, lung | #D2C3DF |\n",
       "\n"
      ],
      "text/plain": [
       "  sample_id                    cancer_type sample_submitter_id\n",
       "1 TCGA-EW-A6SA-01A-21R-A32P-07 BRCA        TCGA-EW-A6SA-01A   \n",
       "2 TCGA-E2-A14W-01A-11R-A12D-07 BRCA        TCGA-E2-A14W-01A   \n",
       "3 TCGA-EW-A1PD-01A-11R-A144-07 BRCA        TCGA-EW-A1PD-01A   \n",
       "4 TCGA-55-1594-01A-01R-0946-07 LUAD        TCGA-55-1594-01A   \n",
       "5 TCGA-49-6742-11A-01R-1858-07 LUAD        TCGA-49-6742-11A   \n",
       "6 TCGA-50-5932-11A-01R-1755-07 LUAD        TCGA-50-5932-11A   \n",
       "  cancer_name               primary_site sample_type         tissue_type\n",
       "1 Breast Invasive Carcinoma Breast       Primary Tumor       Tumor      \n",
       "2 Breast Invasive Carcinoma Breast       Primary Tumor       Tumor      \n",
       "3 Breast Invasive Carcinoma Breast       Primary Tumor       Tumor      \n",
       "4 Lung Adenocarcinoma       Lung         Primary Tumor       Tumor      \n",
       "5 Lung Adenocarcinoma       Lung         Solid Tissue Normal Normal     \n",
       "6 Lung Adenocarcinoma       Lung         Solid Tissue Normal Normal     \n",
       "  tumor_descriptor age_at_index gender vital_status tissue_or_organ_of_origin\n",
       "1 Primary          59           male   Alive        Breast, NOS              \n",
       "2 Primary          78           male   Alive        Breast, NOS              \n",
       "3 Primary          61           male   Alive        Breast, NOS              \n",
       "4 Primary          68           male   Alive        Lower lobe, lung         \n",
       "5 Not Applicable   70           male   Dead         Upper lobe, lung         \n",
       "6 Not Applicable   75           male   Dead         Upper lobe, lung         \n",
       "  color  \n",
       "1 #ED1E91\n",
       "2 #ED1E91\n",
       "3 #ED1E91\n",
       "4 #D2C3DF\n",
       "5 #D2C3DF\n",
       "6 #D2C3DF"
      ]
     },
     "metadata": {},
     "output_type": "display_data"
    }
   ],
   "source": [
    "sample_anno <- readRDS(\"/faststorage/project/jsp_student_projects/shared_data/TCGA_counts/TCGA_sample_anno_match.rds\")\n",
    "head(sample_anno)"
   ]
  },
  {
   "cell_type": "code",
   "execution_count": 17,
   "metadata": {
    "vscode": {
     "languageId": "r"
    }
   },
   "outputs": [
    {
     "data": {
      "text/html": [
       "<style>\n",
       ".list-inline {list-style: none; margin:0; padding: 0}\n",
       ".list-inline>li {display: inline-block}\n",
       ".list-inline>li:not(:last-child)::after {content: \"\\00b7\"; padding: 0 .5ex}\n",
       "</style>\n",
       "<ol class=list-inline><li>50</li><li>15</li></ol>\n"
      ],
      "text/latex": [
       "\\begin{enumerate*}\n",
       "\\item 50\n",
       "\\item 15\n",
       "\\end{enumerate*}\n"
      ],
      "text/markdown": [
       "1. 50\n",
       "2. 15\n",
       "\n",
       "\n"
      ],
      "text/plain": [
       "[1] 50 15"
      ]
     },
     "metadata": {},
     "output_type": "display_data"
    },
    {
     "data": {
      "text/html": [
       "<table class=\"dataframe\">\n",
       "<caption>A data.frame: 6 × 15</caption>\n",
       "<thead>\n",
       "\t<tr><th></th><th scope=col>sample_id</th><th scope=col>tSNE_1</th><th scope=col>tSNE_2</th><th scope=col>cancer_type</th><th scope=col>sample_submitter_id</th><th scope=col>cancer_name</th><th scope=col>primary_site</th><th scope=col>sample_type</th><th scope=col>tissue_type</th><th scope=col>tumor_descriptor</th><th scope=col>age_at_index</th><th scope=col>gender</th><th scope=col>vital_status</th><th scope=col>tissue_or_organ_of_origin</th><th scope=col>color</th></tr>\n",
       "\t<tr><th></th><th scope=col>&lt;chr&gt;</th><th scope=col>&lt;dbl&gt;</th><th scope=col>&lt;dbl&gt;</th><th scope=col>&lt;chr&gt;</th><th scope=col>&lt;chr&gt;</th><th scope=col>&lt;chr&gt;</th><th scope=col>&lt;chr&gt;</th><th scope=col>&lt;chr&gt;</th><th scope=col>&lt;chr&gt;</th><th scope=col>&lt;chr&gt;</th><th scope=col>&lt;chr&gt;</th><th scope=col>&lt;chr&gt;</th><th scope=col>&lt;chr&gt;</th><th scope=col>&lt;chr&gt;</th><th scope=col>&lt;chr&gt;</th></tr>\n",
       "</thead>\n",
       "<tbody>\n",
       "\t<tr><th scope=row>1</th><td>TCGA-SR-A6MR-01A-11R-A35L-07</td><td>-33.888853</td><td>-13.92731</td><td>PCPG</td><td>TCGA-SR-A6MR-01A</td><td>Pheochromocytoma and Paraganglioma</td><td>Adrenal Gland</td><td>Primary Tumor                                  </td><td>Tumor</td><td>Primary</td><td>41</td><td>male  </td><td>Alive</td><td>Retroperitoneum          </td><td>#E7C41D</td></tr>\n",
       "\t<tr><th scope=row>2</th><td>TCGA-ZF-A9RN-01A-11R-A42T-07</td><td>-49.316755</td><td> 20.83248</td><td>BLCA</td><td>TCGA-ZF-A9RN-01A</td><td>Bladder Urothelial Carcinoma      </td><td>Bladder      </td><td>Primary Tumor                                  </td><td>Tumor</td><td>Primary</td><td>67</td><td>female</td><td>Dead </td><td>Posterior wall of bladder</td><td>#F9D2DB</td></tr>\n",
       "\t<tr><th scope=row>3</th><td>TCGA-K4-A5RH-01A-11R-A30C-07</td><td>-17.742814</td><td> 27.42942</td><td>BLCA</td><td>TCGA-K4-A5RH-01A</td><td>Bladder Urothelial Carcinoma      </td><td>Bladder      </td><td>Primary Tumor                                  </td><td>Tumor</td><td>Primary</td><td>69</td><td>male  </td><td>Alive</td><td>Trigone of bladder       </td><td>#F9D2DB</td></tr>\n",
       "\t<tr><th scope=row>4</th><td>TCGA-AB-2992-03A-01T-0735-13</td><td>-71.126769</td><td> 17.87096</td><td>LAML</td><td>TCGA-AB-2992-03A</td><td>Acute Myeloid Leukemia            </td><td>Bone Marrow  </td><td>Primary Blood Derived Cancer - Peripheral Blood</td><td>Tumor</td><td>Primary</td><td>32</td><td>female</td><td>Dead </td><td>Bone marrow              </td><td>#744C27</td></tr>\n",
       "\t<tr><th scope=row>5</th><td>TCGA-S9-A6U0-01A-12R-A32Q-07</td><td> 67.920451</td><td>-43.85719</td><td>LGG </td><td>TCGA-S9-A6U0-01A</td><td>Brain Lower Grade Glioma          </td><td>Brain        </td><td>Primary Tumor                                  </td><td>Tumor</td><td>Primary</td><td>46</td><td>male  </td><td>Dead </td><td>Cerebrum                 </td><td>#D49DC6</td></tr>\n",
       "\t<tr><th scope=row>6</th><td>TCGA-DH-A66F-01A-11R-A29R-07</td><td>  4.754665</td><td> 15.83679</td><td>LGG </td><td>TCGA-DH-A66F-01A</td><td>Brain Lower Grade Glioma          </td><td>Brain        </td><td>Primary Tumor                                  </td><td>Tumor</td><td>Primary</td><td>49</td><td>male  </td><td>Alive</td><td>Cerebrum                 </td><td>#D49DC6</td></tr>\n",
       "</tbody>\n",
       "</table>\n"
      ],
      "text/latex": [
       "A data.frame: 6 × 15\n",
       "\\begin{tabular}{r|lllllllllllllll}\n",
       "  & sample\\_id & tSNE\\_1 & tSNE\\_2 & cancer\\_type & sample\\_submitter\\_id & cancer\\_name & primary\\_site & sample\\_type & tissue\\_type & tumor\\_descriptor & age\\_at\\_index & gender & vital\\_status & tissue\\_or\\_organ\\_of\\_origin & color\\\\\n",
       "  & <chr> & <dbl> & <dbl> & <chr> & <chr> & <chr> & <chr> & <chr> & <chr> & <chr> & <chr> & <chr> & <chr> & <chr> & <chr>\\\\\n",
       "\\hline\n",
       "\t1 & TCGA-SR-A6MR-01A-11R-A35L-07 & -33.888853 & -13.92731 & PCPG & TCGA-SR-A6MR-01A & Pheochromocytoma and Paraganglioma & Adrenal Gland & Primary Tumor                                   & Tumor & Primary & 41 & male   & Alive & Retroperitoneum           & \\#E7C41D\\\\\n",
       "\t2 & TCGA-ZF-A9RN-01A-11R-A42T-07 & -49.316755 &  20.83248 & BLCA & TCGA-ZF-A9RN-01A & Bladder Urothelial Carcinoma       & Bladder       & Primary Tumor                                   & Tumor & Primary & 67 & female & Dead  & Posterior wall of bladder & \\#F9D2DB\\\\\n",
       "\t3 & TCGA-K4-A5RH-01A-11R-A30C-07 & -17.742814 &  27.42942 & BLCA & TCGA-K4-A5RH-01A & Bladder Urothelial Carcinoma       & Bladder       & Primary Tumor                                   & Tumor & Primary & 69 & male   & Alive & Trigone of bladder        & \\#F9D2DB\\\\\n",
       "\t4 & TCGA-AB-2992-03A-01T-0735-13 & -71.126769 &  17.87096 & LAML & TCGA-AB-2992-03A & Acute Myeloid Leukemia             & Bone Marrow   & Primary Blood Derived Cancer - Peripheral Blood & Tumor & Primary & 32 & female & Dead  & Bone marrow               & \\#744C27\\\\\n",
       "\t5 & TCGA-S9-A6U0-01A-12R-A32Q-07 &  67.920451 & -43.85719 & LGG  & TCGA-S9-A6U0-01A & Brain Lower Grade Glioma           & Brain         & Primary Tumor                                   & Tumor & Primary & 46 & male   & Dead  & Cerebrum                  & \\#D49DC6\\\\\n",
       "\t6 & TCGA-DH-A66F-01A-11R-A29R-07 &   4.754665 &  15.83679 & LGG  & TCGA-DH-A66F-01A & Brain Lower Grade Glioma           & Brain         & Primary Tumor                                   & Tumor & Primary & 49 & male   & Alive & Cerebrum                  & \\#D49DC6\\\\\n",
       "\\end{tabular}\n"
      ],
      "text/markdown": [
       "\n",
       "A data.frame: 6 × 15\n",
       "\n",
       "| <!--/--> | sample_id &lt;chr&gt; | tSNE_1 &lt;dbl&gt; | tSNE_2 &lt;dbl&gt; | cancer_type &lt;chr&gt; | sample_submitter_id &lt;chr&gt; | cancer_name &lt;chr&gt; | primary_site &lt;chr&gt; | sample_type &lt;chr&gt; | tissue_type &lt;chr&gt; | tumor_descriptor &lt;chr&gt; | age_at_index &lt;chr&gt; | gender &lt;chr&gt; | vital_status &lt;chr&gt; | tissue_or_organ_of_origin &lt;chr&gt; | color &lt;chr&gt; |\n",
       "|---|---|---|---|---|---|---|---|---|---|---|---|---|---|---|---|\n",
       "| 1 | TCGA-SR-A6MR-01A-11R-A35L-07 | -33.888853 | -13.92731 | PCPG | TCGA-SR-A6MR-01A | Pheochromocytoma and Paraganglioma | Adrenal Gland | Primary Tumor                                   | Tumor | Primary | 41 | male   | Alive | Retroperitoneum           | #E7C41D |\n",
       "| 2 | TCGA-ZF-A9RN-01A-11R-A42T-07 | -49.316755 |  20.83248 | BLCA | TCGA-ZF-A9RN-01A | Bladder Urothelial Carcinoma       | Bladder       | Primary Tumor                                   | Tumor | Primary | 67 | female | Dead  | Posterior wall of bladder | #F9D2DB |\n",
       "| 3 | TCGA-K4-A5RH-01A-11R-A30C-07 | -17.742814 |  27.42942 | BLCA | TCGA-K4-A5RH-01A | Bladder Urothelial Carcinoma       | Bladder       | Primary Tumor                                   | Tumor | Primary | 69 | male   | Alive | Trigone of bladder        | #F9D2DB |\n",
       "| 4 | TCGA-AB-2992-03A-01T-0735-13 | -71.126769 |  17.87096 | LAML | TCGA-AB-2992-03A | Acute Myeloid Leukemia             | Bone Marrow   | Primary Blood Derived Cancer - Peripheral Blood | Tumor | Primary | 32 | female | Dead  | Bone marrow               | #744C27 |\n",
       "| 5 | TCGA-S9-A6U0-01A-12R-A32Q-07 |  67.920451 | -43.85719 | LGG  | TCGA-S9-A6U0-01A | Brain Lower Grade Glioma           | Brain         | Primary Tumor                                   | Tumor | Primary | 46 | male   | Dead  | Cerebrum                  | #D49DC6 |\n",
       "| 6 | TCGA-DH-A66F-01A-11R-A29R-07 |   4.754665 |  15.83679 | LGG  | TCGA-DH-A66F-01A | Brain Lower Grade Glioma           | Brain         | Primary Tumor                                   | Tumor | Primary | 49 | male   | Alive | Cerebrum                  | #D49DC6 |\n",
       "\n"
      ],
      "text/plain": [
       "  sample_id                    tSNE_1     tSNE_2    cancer_type\n",
       "1 TCGA-SR-A6MR-01A-11R-A35L-07 -33.888853 -13.92731 PCPG       \n",
       "2 TCGA-ZF-A9RN-01A-11R-A42T-07 -49.316755  20.83248 BLCA       \n",
       "3 TCGA-K4-A5RH-01A-11R-A30C-07 -17.742814  27.42942 BLCA       \n",
       "4 TCGA-AB-2992-03A-01T-0735-13 -71.126769  17.87096 LAML       \n",
       "5 TCGA-S9-A6U0-01A-12R-A32Q-07  67.920451 -43.85719 LGG        \n",
       "6 TCGA-DH-A66F-01A-11R-A29R-07   4.754665  15.83679 LGG        \n",
       "  sample_submitter_id cancer_name                        primary_site \n",
       "1 TCGA-SR-A6MR-01A    Pheochromocytoma and Paraganglioma Adrenal Gland\n",
       "2 TCGA-ZF-A9RN-01A    Bladder Urothelial Carcinoma       Bladder      \n",
       "3 TCGA-K4-A5RH-01A    Bladder Urothelial Carcinoma       Bladder      \n",
       "4 TCGA-AB-2992-03A    Acute Myeloid Leukemia             Bone Marrow  \n",
       "5 TCGA-S9-A6U0-01A    Brain Lower Grade Glioma           Brain        \n",
       "6 TCGA-DH-A66F-01A    Brain Lower Grade Glioma           Brain        \n",
       "  sample_type                                     tissue_type tumor_descriptor\n",
       "1 Primary Tumor                                   Tumor       Primary         \n",
       "2 Primary Tumor                                   Tumor       Primary         \n",
       "3 Primary Tumor                                   Tumor       Primary         \n",
       "4 Primary Blood Derived Cancer - Peripheral Blood Tumor       Primary         \n",
       "5 Primary Tumor                                   Tumor       Primary         \n",
       "6 Primary Tumor                                   Tumor       Primary         \n",
       "  age_at_index gender vital_status tissue_or_organ_of_origin color  \n",
       "1 41           male   Alive        Retroperitoneum           #E7C41D\n",
       "2 67           female Dead         Posterior wall of bladder #F9D2DB\n",
       "3 69           male   Alive        Trigone of bladder        #F9D2DB\n",
       "4 32           female Dead         Bone marrow               #744C27\n",
       "5 46           male   Dead         Cerebrum                  #D49DC6\n",
       "6 49           male   Alive        Cerebrum                  #D49DC6"
      ]
     },
     "metadata": {},
     "output_type": "display_data"
    }
   ],
   "source": [
    "tSNE <- readRDS(\"/faststorage/project/jsp_student_projects/miRNA_DGD_DE_F2024/processed_data/mRna_tSNE.rds\")\n",
    "dim(tSNE)\n",
    "head(tSNE)"
   ]
  },
  {
   "cell_type": "code",
   "execution_count": 18,
   "metadata": {
    "vscode": {
     "languageId": "r"
    }
   },
   "outputs": [
    {
     "data": {
      "text/html": [
       "<table class=\"dataframe\">\n",
       "<caption>A data.frame: 6 × 19</caption>\n",
       "<thead>\n",
       "\t<tr><th></th><th scope=col>seq</th><th scope=col>name</th><th scope=col>species</th><th scope=col>seed7</th><th scope=col>seed7target</th><th scope=col>tcgamatcher</th><th scope=col>tcga1match</th><th scope=col>chartr</th><th scope=col>inOncomir</th><th scope=col>sum_effect</th><th scope=col>oncoTissue</th><th scope=col>generalMatcher</th><th scope=col>expMatch</th><th scope=col>expidx</th><th scope=col>memicor</th><th scope=col>totalTargets</th><th scope=col>geneTargets</th><th scope=col>pexpidx</th><th scope=col>htmed</th></tr>\n",
       "\t<tr><th></th><th scope=col>&lt;chr&gt;</th><th scope=col>&lt;chr&gt;</th><th scope=col>&lt;chr&gt;</th><th scope=col>&lt;chr&gt;</th><th scope=col>&lt;chr&gt;</th><th scope=col>&lt;chr&gt;</th><th scope=col>&lt;int&gt;</th><th scope=col>&lt;chr&gt;</th><th scope=col>&lt;lgl&gt;</th><th scope=col>&lt;chr&gt;</th><th scope=col>&lt;chr&gt;</th><th scope=col>&lt;chr&gt;</th><th scope=col>&lt;chr&gt;</th><th scope=col>&lt;chr&gt;</th><th scope=col>&lt;dbl&gt;</th><th scope=col>&lt;dbl&gt;</th><th scope=col>&lt;int&gt;</th><th scope=col>&lt;dbl&gt;</th><th scope=col>&lt;dbl&gt;</th></tr>\n",
       "</thead>\n",
       "<tbody>\n",
       "\t<tr><th scope=row>113</th><td>TGAGGTAGTAGGTTGTATAGTT</td><td>hsa-let-7a-5p  </td><td>Homo sapiens</td><td>GAGGTAG</td><td>CTACCTC</td><td>hsa-let-7a  </td><td>0</td><td>UGAGGUAGUAGGUUGUAUAGUU</td><td>TRUE</td><td>notOncomir</td><td>notOncomir</td><td>7a</td><td>1;2;3</td><td>1;2;3</td><td>-0.24365084</td><td>1810</td><td>1634</td><td>2</td><td>48994.36</td></tr>\n",
       "\t<tr><th scope=row>114</th><td>CTATACAATCTACTGTCTTTC </td><td>hsa-let-7a-3p  </td><td>Homo sapiens</td><td>TATACAA</td><td>TTGTATA</td><td>hsa-let-7a  </td><td>0</td><td>CUAUACAAUCUACUGUCUUUC </td><td>TRUE</td><td>notOncomir</td><td>notOncomir</td><td>7a</td><td>1;3  </td><td>1;2;3</td><td> 0.04408362</td><td>4090</td><td>3103</td><td>2</td><td>48994.36</td></tr>\n",
       "\t<tr><th scope=row>115</th><td>CTGTACAGCCTCCTAGCTTTCC</td><td>hsa-let-7a-2-3p</td><td>Homo sapiens</td><td>TGTACAG</td><td>CTGTACA</td><td>hsa-let-7a-2</td><td>2</td><td>CUGUACAGCCUCCUAGCUUUCC</td><td>TRUE</td><td>notOncomir</td><td>notOncomir</td><td>7a</td><td>2    </td><td>2    </td><td> 0.18436039</td><td>2434</td><td>2119</td><td>2</td><td>48994.36</td></tr>\n",
       "\t<tr><th scope=row>116</th><td>TGAGGTAGTAGGTTGTGTGGTT</td><td>hsa-let-7b-5p  </td><td>Homo sapiens</td><td>GAGGTAG</td><td>CTACCTC</td><td>hsa-let-7b  </td><td>4</td><td>UGAGGUAGUAGGUUGUGUGGUU</td><td>TRUE</td><td>notOncomir</td><td>notOncomir</td><td>7b</td><td>4    </td><td>4    </td><td>-0.09012501</td><td>1810</td><td>1634</td><td>4</td><td>73792.76</td></tr>\n",
       "\t<tr><th scope=row>117</th><td>CTATACAACCTACTGCCTTCCC</td><td>hsa-let-7b-3p  </td><td>Homo sapiens</td><td>TATACAA</td><td>TTGTATA</td><td>hsa-let-7b  </td><td>4</td><td>CUAUACAACCUACUGCCUUCCC</td><td>TRUE</td><td>notOncomir</td><td>notOncomir</td><td>7b</td><td>4    </td><td>4    </td><td> 0.08668485</td><td>4090</td><td>3103</td><td>4</td><td>73792.76</td></tr>\n",
       "\t<tr><th scope=row>118</th><td>TGAGGTAGTAGGTTGTATGGTT</td><td>hsa-let-7c-5p  </td><td>Homo sapiens</td><td>GAGGTAG</td><td>CTACCTC</td><td>hsa-let-7c  </td><td>5</td><td>UGAGGUAGUAGGUUGUAUGGUU</td><td>TRUE</td><td>notOncomir</td><td>notOncomir</td><td>7c</td><td>5    </td><td>5    </td><td>-0.25704022</td><td>1810</td><td>1634</td><td>5</td><td>21967.36</td></tr>\n",
       "</tbody>\n",
       "</table>\n"
      ],
      "text/latex": [
       "A data.frame: 6 × 19\n",
       "\\begin{tabular}{r|lllllllllllllllllll}\n",
       "  & seq & name & species & seed7 & seed7target & tcgamatcher & tcga1match & chartr & inOncomir & sum\\_effect & oncoTissue & generalMatcher & expMatch & expidx & memicor & totalTargets & geneTargets & pexpidx & htmed\\\\\n",
       "  & <chr> & <chr> & <chr> & <chr> & <chr> & <chr> & <int> & <chr> & <lgl> & <chr> & <chr> & <chr> & <chr> & <chr> & <dbl> & <dbl> & <int> & <dbl> & <dbl>\\\\\n",
       "\\hline\n",
       "\t113 & TGAGGTAGTAGGTTGTATAGTT & hsa-let-7a-5p   & Homo sapiens & GAGGTAG & CTACCTC & hsa-let-7a   & 0 & UGAGGUAGUAGGUUGUAUAGUU & TRUE & notOncomir & notOncomir & 7a & 1;2;3 & 1;2;3 & -0.24365084 & 1810 & 1634 & 2 & 48994.36\\\\\n",
       "\t114 & CTATACAATCTACTGTCTTTC  & hsa-let-7a-3p   & Homo sapiens & TATACAA & TTGTATA & hsa-let-7a   & 0 & CUAUACAAUCUACUGUCUUUC  & TRUE & notOncomir & notOncomir & 7a & 1;3   & 1;2;3 &  0.04408362 & 4090 & 3103 & 2 & 48994.36\\\\\n",
       "\t115 & CTGTACAGCCTCCTAGCTTTCC & hsa-let-7a-2-3p & Homo sapiens & TGTACAG & CTGTACA & hsa-let-7a-2 & 2 & CUGUACAGCCUCCUAGCUUUCC & TRUE & notOncomir & notOncomir & 7a & 2     & 2     &  0.18436039 & 2434 & 2119 & 2 & 48994.36\\\\\n",
       "\t116 & TGAGGTAGTAGGTTGTGTGGTT & hsa-let-7b-5p   & Homo sapiens & GAGGTAG & CTACCTC & hsa-let-7b   & 4 & UGAGGUAGUAGGUUGUGUGGUU & TRUE & notOncomir & notOncomir & 7b & 4     & 4     & -0.09012501 & 1810 & 1634 & 4 & 73792.76\\\\\n",
       "\t117 & CTATACAACCTACTGCCTTCCC & hsa-let-7b-3p   & Homo sapiens & TATACAA & TTGTATA & hsa-let-7b   & 4 & CUAUACAACCUACUGCCUUCCC & TRUE & notOncomir & notOncomir & 7b & 4     & 4     &  0.08668485 & 4090 & 3103 & 4 & 73792.76\\\\\n",
       "\t118 & TGAGGTAGTAGGTTGTATGGTT & hsa-let-7c-5p   & Homo sapiens & GAGGTAG & CTACCTC & hsa-let-7c   & 5 & UGAGGUAGUAGGUUGUAUGGUU & TRUE & notOncomir & notOncomir & 7c & 5     & 5     & -0.25704022 & 1810 & 1634 & 5 & 21967.36\\\\\n",
       "\\end{tabular}\n"
      ],
      "text/markdown": [
       "\n",
       "A data.frame: 6 × 19\n",
       "\n",
       "| <!--/--> | seq &lt;chr&gt; | name &lt;chr&gt; | species &lt;chr&gt; | seed7 &lt;chr&gt; | seed7target &lt;chr&gt; | tcgamatcher &lt;chr&gt; | tcga1match &lt;int&gt; | chartr &lt;chr&gt; | inOncomir &lt;lgl&gt; | sum_effect &lt;chr&gt; | oncoTissue &lt;chr&gt; | generalMatcher &lt;chr&gt; | expMatch &lt;chr&gt; | expidx &lt;chr&gt; | memicor &lt;dbl&gt; | totalTargets &lt;dbl&gt; | geneTargets &lt;int&gt; | pexpidx &lt;dbl&gt; | htmed &lt;dbl&gt; |\n",
       "|---|---|---|---|---|---|---|---|---|---|---|---|---|---|---|---|---|---|---|---|\n",
       "| 113 | TGAGGTAGTAGGTTGTATAGTT | hsa-let-7a-5p   | Homo sapiens | GAGGTAG | CTACCTC | hsa-let-7a   | 0 | UGAGGUAGUAGGUUGUAUAGUU | TRUE | notOncomir | notOncomir | 7a | 1;2;3 | 1;2;3 | -0.24365084 | 1810 | 1634 | 2 | 48994.36 |\n",
       "| 114 | CTATACAATCTACTGTCTTTC  | hsa-let-7a-3p   | Homo sapiens | TATACAA | TTGTATA | hsa-let-7a   | 0 | CUAUACAAUCUACUGUCUUUC  | TRUE | notOncomir | notOncomir | 7a | 1;3   | 1;2;3 |  0.04408362 | 4090 | 3103 | 2 | 48994.36 |\n",
       "| 115 | CTGTACAGCCTCCTAGCTTTCC | hsa-let-7a-2-3p | Homo sapiens | TGTACAG | CTGTACA | hsa-let-7a-2 | 2 | CUGUACAGCCUCCUAGCUUUCC | TRUE | notOncomir | notOncomir | 7a | 2     | 2     |  0.18436039 | 2434 | 2119 | 2 | 48994.36 |\n",
       "| 116 | TGAGGTAGTAGGTTGTGTGGTT | hsa-let-7b-5p   | Homo sapiens | GAGGTAG | CTACCTC | hsa-let-7b   | 4 | UGAGGUAGUAGGUUGUGUGGUU | TRUE | notOncomir | notOncomir | 7b | 4     | 4     | -0.09012501 | 1810 | 1634 | 4 | 73792.76 |\n",
       "| 117 | CTATACAACCTACTGCCTTCCC | hsa-let-7b-3p   | Homo sapiens | TATACAA | TTGTATA | hsa-let-7b   | 4 | CUAUACAACCUACUGCCUUCCC | TRUE | notOncomir | notOncomir | 7b | 4     | 4     |  0.08668485 | 4090 | 3103 | 4 | 73792.76 |\n",
       "| 118 | TGAGGTAGTAGGTTGTATGGTT | hsa-let-7c-5p   | Homo sapiens | GAGGTAG | CTACCTC | hsa-let-7c   | 5 | UGAGGUAGUAGGUUGUAUGGUU | TRUE | notOncomir | notOncomir | 7c | 5     | 5     | -0.25704022 | 1810 | 1634 | 5 | 21967.36 |\n",
       "\n"
      ],
      "text/plain": [
       "    seq                    name            species      seed7   seed7target\n",
       "113 TGAGGTAGTAGGTTGTATAGTT hsa-let-7a-5p   Homo sapiens GAGGTAG CTACCTC    \n",
       "114 CTATACAATCTACTGTCTTTC  hsa-let-7a-3p   Homo sapiens TATACAA TTGTATA    \n",
       "115 CTGTACAGCCTCCTAGCTTTCC hsa-let-7a-2-3p Homo sapiens TGTACAG CTGTACA    \n",
       "116 TGAGGTAGTAGGTTGTGTGGTT hsa-let-7b-5p   Homo sapiens GAGGTAG CTACCTC    \n",
       "117 CTATACAACCTACTGCCTTCCC hsa-let-7b-3p   Homo sapiens TATACAA TTGTATA    \n",
       "118 TGAGGTAGTAGGTTGTATGGTT hsa-let-7c-5p   Homo sapiens GAGGTAG CTACCTC    \n",
       "    tcgamatcher  tcga1match chartr                 inOncomir sum_effect\n",
       "113 hsa-let-7a   0          UGAGGUAGUAGGUUGUAUAGUU TRUE      notOncomir\n",
       "114 hsa-let-7a   0          CUAUACAAUCUACUGUCUUUC  TRUE      notOncomir\n",
       "115 hsa-let-7a-2 2          CUGUACAGCCUCCUAGCUUUCC TRUE      notOncomir\n",
       "116 hsa-let-7b   4          UGAGGUAGUAGGUUGUGUGGUU TRUE      notOncomir\n",
       "117 hsa-let-7b   4          CUAUACAACCUACUGCCUUCCC TRUE      notOncomir\n",
       "118 hsa-let-7c   5          UGAGGUAGUAGGUUGUAUGGUU TRUE      notOncomir\n",
       "    oncoTissue generalMatcher expMatch expidx memicor     totalTargets\n",
       "113 notOncomir 7a             1;2;3    1;2;3  -0.24365084 1810        \n",
       "114 notOncomir 7a             1;3      1;2;3   0.04408362 4090        \n",
       "115 notOncomir 7a             2        2       0.18436039 2434        \n",
       "116 notOncomir 7b             4        4      -0.09012501 1810        \n",
       "117 notOncomir 7b             4        4       0.08668485 4090        \n",
       "118 notOncomir 7c             5        5      -0.25704022 1810        \n",
       "    geneTargets pexpidx htmed   \n",
       "113 1634        2       48994.36\n",
       "114 3103        2       48994.36\n",
       "115 2119        2       48994.36\n",
       "116 1634        4       73792.76\n",
       "117 3103        4       73792.76\n",
       "118 1634        5       21967.36"
      ]
     },
     "metadata": {},
     "output_type": "display_data"
    }
   ],
   "source": [
    "extended_anno <- readRDS(\"~/jsp_student_projects/shared_data/microRNA/hg19_humir.rds\")\n",
    "head(extended_anno)"
   ]
  },
  {
   "cell_type": "code",
   "execution_count": 19,
   "metadata": {
    "vscode": {
     "languageId": "r"
    }
   },
   "outputs": [
    {
     "data": {
      "text/html": [
       "<table class=\"dataframe\">\n",
       "<caption>A data.frame: 6 × 4</caption>\n",
       "<thead>\n",
       "\t<tr><th></th><th scope=col>mature_iso_id</th><th scope=col>mirna_type</th><th scope=col>mature_iso_name_miRBase</th><th scope=col>mature_iso_validation_miRBase</th></tr>\n",
       "\t<tr><th></th><th scope=col>&lt;chr&gt;</th><th scope=col>&lt;chr&gt;</th><th scope=col>&lt;chr&gt;</th><th scope=col>&lt;chr&gt;</th></tr>\n",
       "</thead>\n",
       "<tbody>\n",
       "\t<tr><th scope=row>1</th><td>MIMAT0000062</td><td>mature</td><td>hsa-let-7a-5p  </td><td>experimental</td></tr>\n",
       "\t<tr><th scope=row>2</th><td>MIMAT0010195</td><td>mature</td><td>hsa-let-7a-2-3p</td><td>experimental</td></tr>\n",
       "\t<tr><th scope=row>3</th><td>MIMAT0000063</td><td>mature</td><td>hsa-let-7b-5p  </td><td>experimental</td></tr>\n",
       "\t<tr><th scope=row>4</th><td>MIMAT0004482</td><td>mature</td><td>hsa-let-7b-3p  </td><td>experimental</td></tr>\n",
       "\t<tr><th scope=row>5</th><td>MIMAT0000064</td><td>mature</td><td>hsa-let-7c-5p  </td><td>experimental</td></tr>\n",
       "\t<tr><th scope=row>6</th><td>MIMAT0026472</td><td>mature</td><td>hsa-let-7c-3p  </td><td>experimental</td></tr>\n",
       "</tbody>\n",
       "</table>\n"
      ],
      "text/latex": [
       "A data.frame: 6 × 4\n",
       "\\begin{tabular}{r|llll}\n",
       "  & mature\\_iso\\_id & mirna\\_type & mature\\_iso\\_name\\_miRBase & mature\\_iso\\_validation\\_miRBase\\\\\n",
       "  & <chr> & <chr> & <chr> & <chr>\\\\\n",
       "\\hline\n",
       "\t1 & MIMAT0000062 & mature & hsa-let-7a-5p   & experimental\\\\\n",
       "\t2 & MIMAT0010195 & mature & hsa-let-7a-2-3p & experimental\\\\\n",
       "\t3 & MIMAT0000063 & mature & hsa-let-7b-5p   & experimental\\\\\n",
       "\t4 & MIMAT0004482 & mature & hsa-let-7b-3p   & experimental\\\\\n",
       "\t5 & MIMAT0000064 & mature & hsa-let-7c-5p   & experimental\\\\\n",
       "\t6 & MIMAT0026472 & mature & hsa-let-7c-3p   & experimental\\\\\n",
       "\\end{tabular}\n"
      ],
      "text/markdown": [
       "\n",
       "A data.frame: 6 × 4\n",
       "\n",
       "| <!--/--> | mature_iso_id &lt;chr&gt; | mirna_type &lt;chr&gt; | mature_iso_name_miRBase &lt;chr&gt; | mature_iso_validation_miRBase &lt;chr&gt; |\n",
       "|---|---|---|---|---|\n",
       "| 1 | MIMAT0000062 | mature | hsa-let-7a-5p   | experimental |\n",
       "| 2 | MIMAT0010195 | mature | hsa-let-7a-2-3p | experimental |\n",
       "| 3 | MIMAT0000063 | mature | hsa-let-7b-5p   | experimental |\n",
       "| 4 | MIMAT0004482 | mature | hsa-let-7b-3p   | experimental |\n",
       "| 5 | MIMAT0000064 | mature | hsa-let-7c-5p   | experimental |\n",
       "| 6 | MIMAT0026472 | mature | hsa-let-7c-3p   | experimental |\n",
       "\n"
      ],
      "text/plain": [
       "  mature_iso_id mirna_type mature_iso_name_miRBase\n",
       "1 MIMAT0000062  mature     hsa-let-7a-5p          \n",
       "2 MIMAT0010195  mature     hsa-let-7a-2-3p        \n",
       "3 MIMAT0000063  mature     hsa-let-7b-5p          \n",
       "4 MIMAT0004482  mature     hsa-let-7b-3p          \n",
       "5 MIMAT0000064  mature     hsa-let-7c-5p          \n",
       "6 MIMAT0026472  mature     hsa-let-7c-3p          \n",
       "  mature_iso_validation_miRBase\n",
       "1 experimental                 \n",
       "2 experimental                 \n",
       "3 experimental                 \n",
       "4 experimental                 \n",
       "5 experimental                 \n",
       "6 experimental                 "
      ]
     },
     "metadata": {},
     "output_type": "display_data"
    }
   ],
   "source": [
    "anno_match <- readRDS(\"/faststorage/project/jsp_student_projects/shared_data/TCGA_counts/TCGA_isoform_counts/TCGA_mirna_anno_iso_match.rds\")\n",
    "head(anno_match)"
   ]
  },
  {
   "cell_type": "code",
   "execution_count": 20,
   "metadata": {
    "vscode": {
     "languageId": "r"
    }
   },
   "outputs": [
    {
     "data": {
      "text/html": [
       "<table class=\"dataframe\">\n",
       "<caption>A data.frame: 6 × 7</caption>\n",
       "<thead>\n",
       "\t<tr><th></th><th scope=col>mature_iso_id</th><th scope=col>mirna_type</th><th scope=col>mature_iso_name_miRBase</th><th scope=col>mature_iso_validation_miRBase</th><th scope=col>seqs</th><th scope=col>seed_site</th><th scope=col>target_site</th></tr>\n",
       "\t<tr><th></th><th scope=col>&lt;chr&gt;</th><th scope=col>&lt;chr&gt;</th><th scope=col>&lt;chr&gt;</th><th scope=col>&lt;chr&gt;</th><th scope=col>&lt;fct&gt;</th><th scope=col>&lt;chr&gt;</th><th scope=col>&lt;chr&gt;</th></tr>\n",
       "</thead>\n",
       "<tbody>\n",
       "\t<tr><th scope=row>1</th><td>MIMAT0000062</td><td>mature</td><td>hsa-let-7a-5p  </td><td>experimental</td><td>UGAGGUAGUAGGUUGUAUAGUU</td><td>GAGGTAG</td><td>CTACCTC</td></tr>\n",
       "\t<tr><th scope=row>2</th><td>MIMAT0010195</td><td>mature</td><td>hsa-let-7a-2-3p</td><td>experimental</td><td>CUGUACAGCCUCCUAGCUUUCC</td><td>TGTACAG</td><td>CTGTACA</td></tr>\n",
       "\t<tr><th scope=row>3</th><td>MIMAT0000063</td><td>mature</td><td>hsa-let-7b-5p  </td><td>experimental</td><td>UGAGGUAGUAGGUUGUGUGGUU</td><td>GAGGTAG</td><td>CTACCTC</td></tr>\n",
       "\t<tr><th scope=row>4</th><td>MIMAT0004482</td><td>mature</td><td>hsa-let-7b-3p  </td><td>experimental</td><td>CUAUACAACCUACUGCCUUCCC</td><td>TATACAA</td><td>TTGTATA</td></tr>\n",
       "\t<tr><th scope=row>5</th><td>MIMAT0000064</td><td>mature</td><td>hsa-let-7c-5p  </td><td>experimental</td><td>UGAGGUAGUAGGUUGUAUGGUU</td><td>GAGGTAG</td><td>CTACCTC</td></tr>\n",
       "\t<tr><th scope=row>6</th><td>MIMAT0026472</td><td>mature</td><td>hsa-let-7c-3p  </td><td>experimental</td><td>CUGUACAACCUUCUAGCUUUCC</td><td>TGTACAA</td><td>TTGTACA</td></tr>\n",
       "</tbody>\n",
       "</table>\n"
      ],
      "text/latex": [
       "A data.frame: 6 × 7\n",
       "\\begin{tabular}{r|lllllll}\n",
       "  & mature\\_iso\\_id & mirna\\_type & mature\\_iso\\_name\\_miRBase & mature\\_iso\\_validation\\_miRBase & seqs & seed\\_site & target\\_site\\\\\n",
       "  & <chr> & <chr> & <chr> & <chr> & <fct> & <chr> & <chr>\\\\\n",
       "\\hline\n",
       "\t1 & MIMAT0000062 & mature & hsa-let-7a-5p   & experimental & UGAGGUAGUAGGUUGUAUAGUU & GAGGTAG & CTACCTC\\\\\n",
       "\t2 & MIMAT0010195 & mature & hsa-let-7a-2-3p & experimental & CUGUACAGCCUCCUAGCUUUCC & TGTACAG & CTGTACA\\\\\n",
       "\t3 & MIMAT0000063 & mature & hsa-let-7b-5p   & experimental & UGAGGUAGUAGGUUGUGUGGUU & GAGGTAG & CTACCTC\\\\\n",
       "\t4 & MIMAT0004482 & mature & hsa-let-7b-3p   & experimental & CUAUACAACCUACUGCCUUCCC & TATACAA & TTGTATA\\\\\n",
       "\t5 & MIMAT0000064 & mature & hsa-let-7c-5p   & experimental & UGAGGUAGUAGGUUGUAUGGUU & GAGGTAG & CTACCTC\\\\\n",
       "\t6 & MIMAT0026472 & mature & hsa-let-7c-3p   & experimental & CUGUACAACCUUCUAGCUUUCC & TGTACAA & TTGTACA\\\\\n",
       "\\end{tabular}\n"
      ],
      "text/markdown": [
       "\n",
       "A data.frame: 6 × 7\n",
       "\n",
       "| <!--/--> | mature_iso_id &lt;chr&gt; | mirna_type &lt;chr&gt; | mature_iso_name_miRBase &lt;chr&gt; | mature_iso_validation_miRBase &lt;chr&gt; | seqs &lt;fct&gt; | seed_site &lt;chr&gt; | target_site &lt;chr&gt; |\n",
       "|---|---|---|---|---|---|---|---|\n",
       "| 1 | MIMAT0000062 | mature | hsa-let-7a-5p   | experimental | UGAGGUAGUAGGUUGUAUAGUU | GAGGTAG | CTACCTC |\n",
       "| 2 | MIMAT0010195 | mature | hsa-let-7a-2-3p | experimental | CUGUACAGCCUCCUAGCUUUCC | TGTACAG | CTGTACA |\n",
       "| 3 | MIMAT0000063 | mature | hsa-let-7b-5p   | experimental | UGAGGUAGUAGGUUGUGUGGUU | GAGGTAG | CTACCTC |\n",
       "| 4 | MIMAT0004482 | mature | hsa-let-7b-3p   | experimental | CUAUACAACCUACUGCCUUCCC | TATACAA | TTGTATA |\n",
       "| 5 | MIMAT0000064 | mature | hsa-let-7c-5p   | experimental | UGAGGUAGUAGGUUGUAUGGUU | GAGGTAG | CTACCTC |\n",
       "| 6 | MIMAT0026472 | mature | hsa-let-7c-3p   | experimental | CUGUACAACCUUCUAGCUUUCC | TGTACAA | TTGTACA |\n",
       "\n"
      ],
      "text/plain": [
       "  mature_iso_id mirna_type mature_iso_name_miRBase\n",
       "1 MIMAT0000062  mature     hsa-let-7a-5p          \n",
       "2 MIMAT0010195  mature     hsa-let-7a-2-3p        \n",
       "3 MIMAT0000063  mature     hsa-let-7b-5p          \n",
       "4 MIMAT0004482  mature     hsa-let-7b-3p          \n",
       "5 MIMAT0000064  mature     hsa-let-7c-5p          \n",
       "6 MIMAT0026472  mature     hsa-let-7c-3p          \n",
       "  mature_iso_validation_miRBase seqs                   seed_site target_site\n",
       "1 experimental                  UGAGGUAGUAGGUUGUAUAGUU GAGGTAG   CTACCTC    \n",
       "2 experimental                  CUGUACAGCCUCCUAGCUUUCC TGTACAG   CTGTACA    \n",
       "3 experimental                  UGAGGUAGUAGGUUGUGUGGUU GAGGTAG   CTACCTC    \n",
       "4 experimental                  CUAUACAACCUACUGCCUUCCC TATACAA   TTGTATA    \n",
       "5 experimental                  UGAGGUAGUAGGUUGUAUGGUU GAGGTAG   CTACCTC    \n",
       "6 experimental                  CUGUACAACCUUCUAGCUUUCC TGTACAA   TTGTACA    "
      ]
     },
     "metadata": {},
     "output_type": "display_data"
    },
    {
     "data": {
      "text/html": [
       "<style>\n",
       ".list-inline {list-style: none; margin:0; padding: 0}\n",
       ".list-inline>li {display: inline-block}\n",
       ".list-inline>li:not(:last-child)::after {content: \"\\00b7\"; padding: 0 .5ex}\n",
       "</style>\n",
       "<ol class=list-inline><li>2450</li><li>7</li></ol>\n"
      ],
      "text/latex": [
       "\\begin{enumerate*}\n",
       "\\item 2450\n",
       "\\item 7\n",
       "\\end{enumerate*}\n"
      ],
      "text/markdown": [
       "1. 2450\n",
       "2. 7\n",
       "\n",
       "\n"
      ],
      "text/plain": [
       "[1] 2450    7"
      ]
     },
     "metadata": {},
     "output_type": "display_data"
    }
   ],
   "source": [
    "anno <- readRDS(\"~/jsp_student_projects/shared_data/microRNA/hg38_humir.rds\")\n",
    "head(anno)\n",
    "\n",
    "dim(anno)"
   ]
  },
  {
   "cell_type": "code",
   "execution_count": 21,
   "metadata": {
    "vscode": {
     "languageId": "r"
    }
   },
   "outputs": [
    {
     "data": {
      "text/html": [
       "<table class=\"dataframe\">\n",
       "<caption>A data.frame: 6 × 10</caption>\n",
       "<thead>\n",
       "\t<tr><th></th><th scope=col>TCGA-EW-A6SA-01A-21R-A32P-07</th><th scope=col>TCGA-E2-A14W-01A-11R-A12D-07</th><th scope=col>TCGA-EW-A1PD-01A-11R-A144-07</th><th scope=col>TCGA-55-1594-01A-01R-0946-07</th><th scope=col>TCGA-49-6742-11A-01R-1858-07</th><th scope=col>TCGA-50-5932-11A-01R-1755-07</th><th scope=col>TCGA-95-7947-01A-11R-2187-07</th><th scope=col>TCGA-CG-4476-01A-01R-1157-13</th><th scope=col>TCGA-05-4410-01A-21R-1858-07</th><th scope=col>TCGA-CG-5717-01A-11R-1602-13</th></tr>\n",
       "\t<tr><th></th><th scope=col>&lt;dbl&gt;</th><th scope=col>&lt;dbl&gt;</th><th scope=col>&lt;dbl&gt;</th><th scope=col>&lt;dbl&gt;</th><th scope=col>&lt;dbl&gt;</th><th scope=col>&lt;dbl&gt;</th><th scope=col>&lt;dbl&gt;</th><th scope=col>&lt;dbl&gt;</th><th scope=col>&lt;dbl&gt;</th><th scope=col>&lt;dbl&gt;</th></tr>\n",
       "</thead>\n",
       "<tbody>\n",
       "\t<tr><th scope=row>MIMAT0000062</th><td>63867.181623</td><td>23471.88352</td><td>23744.03148</td><td>10814.656043</td><td>63666.796272</td><td>81765.707515</td><td>54512.365094</td><td>14946.069282</td><td>26675.567266</td><td>15070.158161</td></tr>\n",
       "\t<tr><th scope=row>MIMAT0010195</th><td>    1.873440</td><td>   10.82235</td><td>   19.88285</td><td>    7.312141</td><td>    1.181277</td><td>    0.333778</td><td>    8.221291</td><td>    2.594279</td><td>    2.622967</td><td>    4.754704</td></tr>\n",
       "\t<tr><th scope=row>MIMAT0000063</th><td>24488.104472</td><td>12387.26714</td><td>14280.77384</td><td> 7513.746829</td><td>17680.159749</td><td>23417.299966</td><td>22533.736065</td><td>11602.044637</td><td>13533.358556</td><td>10516.403355</td></tr>\n",
       "\t<tr><th scope=row>MIMAT0004482</th><td>   29.975034</td><td>   32.82781</td><td>   38.13595</td><td>   14.624282</td><td>   23.182545</td><td>   31.208160</td><td>   38.091981</td><td>   33.293238</td><td>   39.508431</td><td>   24.774509</td></tr>\n",
       "\t<tr><th scope=row>MIMAT0000064</th><td>  416.902773</td><td> 2011.87573</td><td> 3591.62456</td><td>  873.278516</td><td> 3916.520991</td><td> 2962.772343</td><td> 1217.025087</td><td> 2883.972636</td><td> 1242.466348</td><td> 2425.899825</td></tr>\n",
       "\t<tr><th scope=row>MIMAT0026472</th><td>    2.123232</td><td>   30.66334</td><td>   81.81303</td><td>   18.802648</td><td>    5.020424</td><td>    2.670218</td><td>   17.538753</td><td>   31.131339</td><td>    2.950837</td><td>   26.526243</td></tr>\n",
       "</tbody>\n",
       "</table>\n"
      ],
      "text/latex": [
       "A data.frame: 6 × 10\n",
       "\\begin{tabular}{r|llllllllll}\n",
       "  & TCGA-EW-A6SA-01A-21R-A32P-07 & TCGA-E2-A14W-01A-11R-A12D-07 & TCGA-EW-A1PD-01A-11R-A144-07 & TCGA-55-1594-01A-01R-0946-07 & TCGA-49-6742-11A-01R-1858-07 & TCGA-50-5932-11A-01R-1755-07 & TCGA-95-7947-01A-11R-2187-07 & TCGA-CG-4476-01A-01R-1157-13 & TCGA-05-4410-01A-21R-1858-07 & TCGA-CG-5717-01A-11R-1602-13\\\\\n",
       "  & <dbl> & <dbl> & <dbl> & <dbl> & <dbl> & <dbl> & <dbl> & <dbl> & <dbl> & <dbl>\\\\\n",
       "\\hline\n",
       "\tMIMAT0000062 & 63867.181623 & 23471.88352 & 23744.03148 & 10814.656043 & 63666.796272 & 81765.707515 & 54512.365094 & 14946.069282 & 26675.567266 & 15070.158161\\\\\n",
       "\tMIMAT0010195 &     1.873440 &    10.82235 &    19.88285 &     7.312141 &     1.181277 &     0.333778 &     8.221291 &     2.594279 &     2.622967 &     4.754704\\\\\n",
       "\tMIMAT0000063 & 24488.104472 & 12387.26714 & 14280.77384 &  7513.746829 & 17680.159749 & 23417.299966 & 22533.736065 & 11602.044637 & 13533.358556 & 10516.403355\\\\\n",
       "\tMIMAT0004482 &    29.975034 &    32.82781 &    38.13595 &    14.624282 &    23.182545 &    31.208160 &    38.091981 &    33.293238 &    39.508431 &    24.774509\\\\\n",
       "\tMIMAT0000064 &   416.902773 &  2011.87573 &  3591.62456 &   873.278516 &  3916.520991 &  2962.772343 &  1217.025087 &  2883.972636 &  1242.466348 &  2425.899825\\\\\n",
       "\tMIMAT0026472 &     2.123232 &    30.66334 &    81.81303 &    18.802648 &     5.020424 &     2.670218 &    17.538753 &    31.131339 &     2.950837 &    26.526243\\\\\n",
       "\\end{tabular}\n"
      ],
      "text/markdown": [
       "\n",
       "A data.frame: 6 × 10\n",
       "\n",
       "| <!--/--> | TCGA-EW-A6SA-01A-21R-A32P-07 &lt;dbl&gt; | TCGA-E2-A14W-01A-11R-A12D-07 &lt;dbl&gt; | TCGA-EW-A1PD-01A-11R-A144-07 &lt;dbl&gt; | TCGA-55-1594-01A-01R-0946-07 &lt;dbl&gt; | TCGA-49-6742-11A-01R-1858-07 &lt;dbl&gt; | TCGA-50-5932-11A-01R-1755-07 &lt;dbl&gt; | TCGA-95-7947-01A-11R-2187-07 &lt;dbl&gt; | TCGA-CG-4476-01A-01R-1157-13 &lt;dbl&gt; | TCGA-05-4410-01A-21R-1858-07 &lt;dbl&gt; | TCGA-CG-5717-01A-11R-1602-13 &lt;dbl&gt; |\n",
       "|---|---|---|---|---|---|---|---|---|---|---|\n",
       "| MIMAT0000062 | 63867.181623 | 23471.88352 | 23744.03148 | 10814.656043 | 63666.796272 | 81765.707515 | 54512.365094 | 14946.069282 | 26675.567266 | 15070.158161 |\n",
       "| MIMAT0010195 |     1.873440 |    10.82235 |    19.88285 |     7.312141 |     1.181277 |     0.333778 |     8.221291 |     2.594279 |     2.622967 |     4.754704 |\n",
       "| MIMAT0000063 | 24488.104472 | 12387.26714 | 14280.77384 |  7513.746829 | 17680.159749 | 23417.299966 | 22533.736065 | 11602.044637 | 13533.358556 | 10516.403355 |\n",
       "| MIMAT0004482 |    29.975034 |    32.82781 |    38.13595 |    14.624282 |    23.182545 |    31.208160 |    38.091981 |    33.293238 |    39.508431 |    24.774509 |\n",
       "| MIMAT0000064 |   416.902773 |  2011.87573 |  3591.62456 |   873.278516 |  3916.520991 |  2962.772343 |  1217.025087 |  2883.972636 |  1242.466348 |  2425.899825 |\n",
       "| MIMAT0026472 |     2.123232 |    30.66334 |    81.81303 |    18.802648 |     5.020424 |     2.670218 |    17.538753 |    31.131339 |     2.950837 |    26.526243 |\n",
       "\n"
      ],
      "text/plain": [
       "             TCGA-EW-A6SA-01A-21R-A32P-07 TCGA-E2-A14W-01A-11R-A12D-07\n",
       "MIMAT0000062 63867.181623                 23471.88352                 \n",
       "MIMAT0010195     1.873440                    10.82235                 \n",
       "MIMAT0000063 24488.104472                 12387.26714                 \n",
       "MIMAT0004482    29.975034                    32.82781                 \n",
       "MIMAT0000064   416.902773                  2011.87573                 \n",
       "MIMAT0026472     2.123232                    30.66334                 \n",
       "             TCGA-EW-A1PD-01A-11R-A144-07 TCGA-55-1594-01A-01R-0946-07\n",
       "MIMAT0000062 23744.03148                  10814.656043                \n",
       "MIMAT0010195    19.88285                      7.312141                \n",
       "MIMAT0000063 14280.77384                   7513.746829                \n",
       "MIMAT0004482    38.13595                     14.624282                \n",
       "MIMAT0000064  3591.62456                    873.278516                \n",
       "MIMAT0026472    81.81303                     18.802648                \n",
       "             TCGA-49-6742-11A-01R-1858-07 TCGA-50-5932-11A-01R-1755-07\n",
       "MIMAT0000062 63666.796272                 81765.707515                \n",
       "MIMAT0010195     1.181277                     0.333778                \n",
       "MIMAT0000063 17680.159749                 23417.299966                \n",
       "MIMAT0004482    23.182545                    31.208160                \n",
       "MIMAT0000064  3916.520991                  2962.772343                \n",
       "MIMAT0026472     5.020424                     2.670218                \n",
       "             TCGA-95-7947-01A-11R-2187-07 TCGA-CG-4476-01A-01R-1157-13\n",
       "MIMAT0000062 54512.365094                 14946.069282                \n",
       "MIMAT0010195     8.221291                     2.594279                \n",
       "MIMAT0000063 22533.736065                 11602.044637                \n",
       "MIMAT0004482    38.091981                    33.293238                \n",
       "MIMAT0000064  1217.025087                  2883.972636                \n",
       "MIMAT0026472    17.538753                    31.131339                \n",
       "             TCGA-05-4410-01A-21R-1858-07 TCGA-CG-5717-01A-11R-1602-13\n",
       "MIMAT0000062 26675.567266                 15070.158161                \n",
       "MIMAT0010195     2.622967                     4.754704                \n",
       "MIMAT0000063 13533.358556                 10516.403355                \n",
       "MIMAT0004482    39.508431                    24.774509                \n",
       "MIMAT0000064  1242.466348                  2425.899825                \n",
       "MIMAT0026472     2.950837                    26.526243                "
      ]
     },
     "metadata": {},
     "output_type": "display_data"
    },
    {
     "data": {
      "text/html": [
       "<style>\n",
       ".list-inline {list-style: none; margin:0; padding: 0}\n",
       ".list-inline>li {display: inline-block}\n",
       ".list-inline>li:not(:last-child)::after {content: \"\\00b7\"; padding: 0 .5ex}\n",
       "</style>\n",
       "<ol class=list-inline><li>2450</li><li>10676</li></ol>\n"
      ],
      "text/latex": [
       "\\begin{enumerate*}\n",
       "\\item 2450\n",
       "\\item 10676\n",
       "\\end{enumerate*}\n"
      ],
      "text/markdown": [
       "1. 2450\n",
       "2. 10676\n",
       "\n",
       "\n"
      ],
      "text/plain": [
       "[1]  2450 10676"
      ]
     },
     "metadata": {},
     "output_type": "display_data"
    }
   ],
   "source": [
    "expression <- readRDS(\"~/jsp_student_projects/shared_data/TCGA_counts/TCGA_isoform_counts/TCGA_mirna_TPMs_iso_match.rds\")\n",
    "\n",
    "head(expression[, 1:10])\n",
    "dim(expression)"
   ]
  },
  {
   "cell_type": "code",
   "execution_count": 22,
   "metadata": {
    "vscode": {
     "languageId": "r"
    }
   },
   "outputs": [
    {
     "data": {
      "text/html": [
       "<table class=\"dataframe\">\n",
       "<caption>A matrix: 6 × 10 of type dbl</caption>\n",
       "<thead>\n",
       "\t<tr><th></th><th scope=col>TCGA-AA-3542-01A-02R-1873-07</th><th scope=col>TCGA-CZ-5989-01A-11R-1672-07</th><th scope=col>TCGA-B4-5832-01A-11R-1672-07</th><th scope=col>TCGA-AK-3447-01A-01R-1766-07</th><th scope=col>TCGA-G9-6369-01A-21R-1965-07</th><th scope=col>TCGA-FC-A5OB-01A-11R-A29R-07</th><th scope=col>TCGA-FC-A6HD-01A-11R-A31N-07</th><th scope=col>TCGA-VN-A943-01A-11R-A41O-07</th><th scope=col>TCGA-YL-A8S9-01A-11R-A37L-07</th><th scope=col>TCGA-HC-7077-01A-11R-1965-07</th></tr>\n",
       "</thead>\n",
       "<tbody>\n",
       "\t<tr><th scope=row>AAAAAAA</th><td>-69.6128061</td><td>236.996840</td><td>223.479596</td><td>16.892340858</td><td>-0.3683421</td><td>15.2251979</td><td>-7.0000718</td><td> 0.17071711</td><td> 3.1377901</td><td>-1.8125606</td></tr>\n",
       "\t<tr><th scope=row>AAAAAAC</th><td> -3.8744484</td><td> 28.255148</td><td> 23.512691</td><td> 4.846572279</td><td>-0.2468102</td><td> 3.1742971</td><td>-0.7293878</td><td> 0.29545067</td><td> 1.3230686</td><td>-0.5203684</td></tr>\n",
       "\t<tr><th scope=row>AAAAAAG</th><td> -9.6387189</td><td> 63.063615</td><td> 62.095177</td><td> 7.820587670</td><td>-0.6976240</td><td> 5.0367522</td><td>-1.2055121</td><td> 0.71440550</td><td> 1.3650877</td><td>-0.5642290</td></tr>\n",
       "\t<tr><th scope=row>AAAAAAT</th><td>-55.8028992</td><td>148.241785</td><td>135.020662</td><td>11.782410837</td><td> 0.0623209</td><td> 9.5567902</td><td>-7.2140514</td><td> 0.04812828</td><td> 2.4919745</td><td>-0.7527386</td></tr>\n",
       "\t<tr><th scope=row>AAAAACA</th><td> -3.1054980</td><td> 31.470225</td><td> 28.880339</td><td> 8.772925404</td><td>-0.1606767</td><td> 2.3579668</td><td>-0.4002306</td><td> 0.30850937</td><td> 0.7902424</td><td>-0.5223739</td></tr>\n",
       "\t<tr><th scope=row>AAAAACC</th><td> -0.6776415</td><td>  1.639903</td><td>  1.698441</td><td> 0.001012206</td><td>-0.1849276</td><td>-0.5608395</td><td>-0.9399934</td><td>-0.51734823</td><td>-0.2371380</td><td>-0.6009776</td></tr>\n",
       "</tbody>\n",
       "</table>\n"
      ],
      "text/latex": [
       "A matrix: 6 × 10 of type dbl\n",
       "\\begin{tabular}{r|llllllllll}\n",
       "  & TCGA-AA-3542-01A-02R-1873-07 & TCGA-CZ-5989-01A-11R-1672-07 & TCGA-B4-5832-01A-11R-1672-07 & TCGA-AK-3447-01A-01R-1766-07 & TCGA-G9-6369-01A-21R-1965-07 & TCGA-FC-A5OB-01A-11R-A29R-07 & TCGA-FC-A6HD-01A-11R-A31N-07 & TCGA-VN-A943-01A-11R-A41O-07 & TCGA-YL-A8S9-01A-11R-A37L-07 & TCGA-HC-7077-01A-11R-1965-07\\\\\n",
       "\\hline\n",
       "\tAAAAAAA & -69.6128061 & 236.996840 & 223.479596 & 16.892340858 & -0.3683421 & 15.2251979 & -7.0000718 &  0.17071711 &  3.1377901 & -1.8125606\\\\\n",
       "\tAAAAAAC &  -3.8744484 &  28.255148 &  23.512691 &  4.846572279 & -0.2468102 &  3.1742971 & -0.7293878 &  0.29545067 &  1.3230686 & -0.5203684\\\\\n",
       "\tAAAAAAG &  -9.6387189 &  63.063615 &  62.095177 &  7.820587670 & -0.6976240 &  5.0367522 & -1.2055121 &  0.71440550 &  1.3650877 & -0.5642290\\\\\n",
       "\tAAAAAAT & -55.8028992 & 148.241785 & 135.020662 & 11.782410837 &  0.0623209 &  9.5567902 & -7.2140514 &  0.04812828 &  2.4919745 & -0.7527386\\\\\n",
       "\tAAAAACA &  -3.1054980 &  31.470225 &  28.880339 &  8.772925404 & -0.1606767 &  2.3579668 & -0.4002306 &  0.30850937 &  0.7902424 & -0.5223739\\\\\n",
       "\tAAAAACC &  -0.6776415 &   1.639903 &   1.698441 &  0.001012206 & -0.1849276 & -0.5608395 & -0.9399934 & -0.51734823 & -0.2371380 & -0.6009776\\\\\n",
       "\\end{tabular}\n"
      ],
      "text/markdown": [
       "\n",
       "A matrix: 6 × 10 of type dbl\n",
       "\n",
       "| <!--/--> | TCGA-AA-3542-01A-02R-1873-07 | TCGA-CZ-5989-01A-11R-1672-07 | TCGA-B4-5832-01A-11R-1672-07 | TCGA-AK-3447-01A-01R-1766-07 | TCGA-G9-6369-01A-21R-1965-07 | TCGA-FC-A5OB-01A-11R-A29R-07 | TCGA-FC-A6HD-01A-11R-A31N-07 | TCGA-VN-A943-01A-11R-A41O-07 | TCGA-YL-A8S9-01A-11R-A37L-07 | TCGA-HC-7077-01A-11R-1965-07 |\n",
       "|---|---|---|---|---|---|---|---|---|---|---|\n",
       "| AAAAAAA | -69.6128061 | 236.996840 | 223.479596 | 16.892340858 | -0.3683421 | 15.2251979 | -7.0000718 |  0.17071711 |  3.1377901 | -1.8125606 |\n",
       "| AAAAAAC |  -3.8744484 |  28.255148 |  23.512691 |  4.846572279 | -0.2468102 |  3.1742971 | -0.7293878 |  0.29545067 |  1.3230686 | -0.5203684 |\n",
       "| AAAAAAG |  -9.6387189 |  63.063615 |  62.095177 |  7.820587670 | -0.6976240 |  5.0367522 | -1.2055121 |  0.71440550 |  1.3650877 | -0.5642290 |\n",
       "| AAAAAAT | -55.8028992 | 148.241785 | 135.020662 | 11.782410837 |  0.0623209 |  9.5567902 | -7.2140514 |  0.04812828 |  2.4919745 | -0.7527386 |\n",
       "| AAAAACA |  -3.1054980 |  31.470225 |  28.880339 |  8.772925404 | -0.1606767 |  2.3579668 | -0.4002306 |  0.30850937 |  0.7902424 | -0.5223739 |\n",
       "| AAAAACC |  -0.6776415 |   1.639903 |   1.698441 |  0.001012206 | -0.1849276 | -0.5608395 | -0.9399934 | -0.51734823 | -0.2371380 | -0.6009776 |\n",
       "\n"
      ],
      "text/plain": [
       "        TCGA-AA-3542-01A-02R-1873-07 TCGA-CZ-5989-01A-11R-1672-07\n",
       "AAAAAAA -69.6128061                  236.996840                  \n",
       "AAAAAAC  -3.8744484                   28.255148                  \n",
       "AAAAAAG  -9.6387189                   63.063615                  \n",
       "AAAAAAT -55.8028992                  148.241785                  \n",
       "AAAAACA  -3.1054980                   31.470225                  \n",
       "AAAAACC  -0.6776415                    1.639903                  \n",
       "        TCGA-B4-5832-01A-11R-1672-07 TCGA-AK-3447-01A-01R-1766-07\n",
       "AAAAAAA 223.479596                   16.892340858                \n",
       "AAAAAAC  23.512691                    4.846572279                \n",
       "AAAAAAG  62.095177                    7.820587670                \n",
       "AAAAAAT 135.020662                   11.782410837                \n",
       "AAAAACA  28.880339                    8.772925404                \n",
       "AAAAACC   1.698441                    0.001012206                \n",
       "        TCGA-G9-6369-01A-21R-1965-07 TCGA-FC-A5OB-01A-11R-A29R-07\n",
       "AAAAAAA -0.3683421                   15.2251979                  \n",
       "AAAAAAC -0.2468102                    3.1742971                  \n",
       "AAAAAAG -0.6976240                    5.0367522                  \n",
       "AAAAAAT  0.0623209                    9.5567902                  \n",
       "AAAAACA -0.1606767                    2.3579668                  \n",
       "AAAAACC -0.1849276                   -0.5608395                  \n",
       "        TCGA-FC-A6HD-01A-11R-A31N-07 TCGA-VN-A943-01A-11R-A41O-07\n",
       "AAAAAAA -7.0000718                    0.17071711                 \n",
       "AAAAAAC -0.7293878                    0.29545067                 \n",
       "AAAAAAG -1.2055121                    0.71440550                 \n",
       "AAAAAAT -7.2140514                    0.04812828                 \n",
       "AAAAACA -0.4002306                    0.30850937                 \n",
       "AAAAACC -0.9399934                   -0.51734823                 \n",
       "        TCGA-YL-A8S9-01A-11R-A37L-07 TCGA-HC-7077-01A-11R-1965-07\n",
       "AAAAAAA  3.1377901                   -1.8125606                  \n",
       "AAAAAAC  1.3230686                   -0.5203684                  \n",
       "AAAAAAG  1.3650877                   -0.5642290                  \n",
       "AAAAAAT  2.4919745                   -0.7527386                  \n",
       "AAAAACA  0.7902424                   -0.5223739                  \n",
       "AAAAACC -0.2371380                   -0.6009776                  "
      ]
     },
     "metadata": {},
     "output_type": "display_data"
    },
    {
     "data": {
      "text/html": [
       "<style>\n",
       ".list-inline {list-style: none; margin:0; padding: 0}\n",
       ".list-inline>li {display: inline-block}\n",
       ".list-inline>li:not(:last-child)::after {content: \"\\00b7\"; padding: 0 .5ex}\n",
       "</style>\n",
       "<ol class=list-inline><li>16384</li><li>5806</li></ol>\n"
      ],
      "text/latex": [
       "\\begin{enumerate*}\n",
       "\\item 16384\n",
       "\\item 5806\n",
       "\\end{enumerate*}\n"
      ],
      "text/markdown": [
       "1. 16384\n",
       "2. 5806\n",
       "\n",
       "\n"
      ],
      "text/plain": [
       "[1] 16384  5806"
      ]
     },
     "metadata": {},
     "output_type": "display_data"
    }
   ],
   "source": [
    "cohort_activity <- readRDS(\"~/jsp_student_projects/miRNA_DGD_DE_F2024/data/filtered_by_paper/miReact_activity/miReact_Morten.rds\")# pseudocount = 1\n",
    "\n",
    "\n",
    "\n",
    "head(cohort_activity[,1:10])\n",
    "dim(cohort_activity)"
   ]
  },
  {
   "cell_type": "code",
   "execution_count": 23,
   "metadata": {
    "vscode": {
     "languageId": "r"
    }
   },
   "outputs": [
    {
     "data": {
      "text/html": [
       "<table class=\"dataframe\">\n",
       "<caption>A matrix: 6 × 10 of type dbl</caption>\n",
       "<thead>\n",
       "\t<tr><th></th><th scope=col>TCGA-AA-3542-01A-02R-1873-07</th><th scope=col>TCGA-CZ-5989-01A-11R-1672-07</th><th scope=col>TCGA-B4-5832-01A-11R-1672-07</th><th scope=col>TCGA-AK-3447-01A-01R-1766-07</th><th scope=col>TCGA-G9-6369-01A-21R-1965-07</th><th scope=col>TCGA-FC-A5OB-01A-11R-A29R-07</th><th scope=col>TCGA-FC-A6HD-01A-11R-A31N-07</th><th scope=col>TCGA-VN-A943-01A-11R-A41O-07</th><th scope=col>TCGA-YL-A8S9-01A-11R-A37L-07</th><th scope=col>TCGA-HC-7077-01A-11R-1965-07</th></tr>\n",
       "</thead>\n",
       "<tbody>\n",
       "\t<tr><th scope=row>AAAAAAA</th><td>-72.495705</td><td>136.9306281</td><td>157.9655299</td><td> 3.269184</td><td>-2.2562716</td><td>-0.8259860</td><td>-8.2006992</td><td> 1.8126922</td><td>-0.43425386</td><td>-27.765742</td></tr>\n",
       "\t<tr><th scope=row>AAAAAAC</th><td> -5.299972</td><td> 16.9813709</td><td> 16.2753185</td><td> 1.027344</td><td>-1.1867228</td><td>-0.1437810</td><td>-1.6846272</td><td> 0.3392916</td><td> 0.09206614</td><td> -5.420072</td></tr>\n",
       "\t<tr><th scope=row>AAAAAAG</th><td> -9.792265</td><td> 35.1061265</td><td> 47.2006240</td><td> 2.166519</td><td>-2.3948839</td><td>-0.1982465</td><td>-2.1911568</td><td> 1.3879482</td><td> 0.35480771</td><td> -7.933001</td></tr>\n",
       "\t<tr><th scope=row>AAAAAAT</th><td>-54.908296</td><td> 91.0232858</td><td> 94.9766400</td><td> 3.977719</td><td>-0.3139552</td><td>-0.6288222</td><td>-6.5352034</td><td> 0.9740909</td><td>-1.19291848</td><td>-15.919800</td></tr>\n",
       "\t<tr><th scope=row>AAAAACA</th><td> -4.884646</td><td> 16.6735579</td><td> 20.0185477</td><td> 2.957535</td><td>-0.5658411</td><td>-0.2010953</td><td>-0.7705596</td><td> 0.6314137</td><td> 0.09035464</td><td> -4.273717</td></tr>\n",
       "\t<tr><th scope=row>AAAAACC</th><td> -1.193459</td><td>  0.9041498</td><td>  0.3830344</td><td>-1.003574</td><td>-0.6509030</td><td>-2.1680818</td><td>-2.4189324</td><td>-0.9033329</td><td>-1.47295870</td><td> -2.732738</td></tr>\n",
       "</tbody>\n",
       "</table>\n"
      ],
      "text/latex": [
       "A matrix: 6 × 10 of type dbl\n",
       "\\begin{tabular}{r|llllllllll}\n",
       "  & TCGA-AA-3542-01A-02R-1873-07 & TCGA-CZ-5989-01A-11R-1672-07 & TCGA-B4-5832-01A-11R-1672-07 & TCGA-AK-3447-01A-01R-1766-07 & TCGA-G9-6369-01A-21R-1965-07 & TCGA-FC-A5OB-01A-11R-A29R-07 & TCGA-FC-A6HD-01A-11R-A31N-07 & TCGA-VN-A943-01A-11R-A41O-07 & TCGA-YL-A8S9-01A-11R-A37L-07 & TCGA-HC-7077-01A-11R-1965-07\\\\\n",
       "\\hline\n",
       "\tAAAAAAA & -72.495705 & 136.9306281 & 157.9655299 &  3.269184 & -2.2562716 & -0.8259860 & -8.2006992 &  1.8126922 & -0.43425386 & -27.765742\\\\\n",
       "\tAAAAAAC &  -5.299972 &  16.9813709 &  16.2753185 &  1.027344 & -1.1867228 & -0.1437810 & -1.6846272 &  0.3392916 &  0.09206614 &  -5.420072\\\\\n",
       "\tAAAAAAG &  -9.792265 &  35.1061265 &  47.2006240 &  2.166519 & -2.3948839 & -0.1982465 & -2.1911568 &  1.3879482 &  0.35480771 &  -7.933001\\\\\n",
       "\tAAAAAAT & -54.908296 &  91.0232858 &  94.9766400 &  3.977719 & -0.3139552 & -0.6288222 & -6.5352034 &  0.9740909 & -1.19291848 & -15.919800\\\\\n",
       "\tAAAAACA &  -4.884646 &  16.6735579 &  20.0185477 &  2.957535 & -0.5658411 & -0.2010953 & -0.7705596 &  0.6314137 &  0.09035464 &  -4.273717\\\\\n",
       "\tAAAAACC &  -1.193459 &   0.9041498 &   0.3830344 & -1.003574 & -0.6509030 & -2.1680818 & -2.4189324 & -0.9033329 & -1.47295870 &  -2.732738\\\\\n",
       "\\end{tabular}\n"
      ],
      "text/markdown": [
       "\n",
       "A matrix: 6 × 10 of type dbl\n",
       "\n",
       "| <!--/--> | TCGA-AA-3542-01A-02R-1873-07 | TCGA-CZ-5989-01A-11R-1672-07 | TCGA-B4-5832-01A-11R-1672-07 | TCGA-AK-3447-01A-01R-1766-07 | TCGA-G9-6369-01A-21R-1965-07 | TCGA-FC-A5OB-01A-11R-A29R-07 | TCGA-FC-A6HD-01A-11R-A31N-07 | TCGA-VN-A943-01A-11R-A41O-07 | TCGA-YL-A8S9-01A-11R-A37L-07 | TCGA-HC-7077-01A-11R-1965-07 |\n",
       "|---|---|---|---|---|---|---|---|---|---|---|\n",
       "| AAAAAAA | -72.495705 | 136.9306281 | 157.9655299 |  3.269184 | -2.2562716 | -0.8259860 | -8.2006992 |  1.8126922 | -0.43425386 | -27.765742 |\n",
       "| AAAAAAC |  -5.299972 |  16.9813709 |  16.2753185 |  1.027344 | -1.1867228 | -0.1437810 | -1.6846272 |  0.3392916 |  0.09206614 |  -5.420072 |\n",
       "| AAAAAAG |  -9.792265 |  35.1061265 |  47.2006240 |  2.166519 | -2.3948839 | -0.1982465 | -2.1911568 |  1.3879482 |  0.35480771 |  -7.933001 |\n",
       "| AAAAAAT | -54.908296 |  91.0232858 |  94.9766400 |  3.977719 | -0.3139552 | -0.6288222 | -6.5352034 |  0.9740909 | -1.19291848 | -15.919800 |\n",
       "| AAAAACA |  -4.884646 |  16.6735579 |  20.0185477 |  2.957535 | -0.5658411 | -0.2010953 | -0.7705596 |  0.6314137 |  0.09035464 |  -4.273717 |\n",
       "| AAAAACC |  -1.193459 |   0.9041498 |   0.3830344 | -1.003574 | -0.6509030 | -2.1680818 | -2.4189324 | -0.9033329 | -1.47295870 |  -2.732738 |\n",
       "\n"
      ],
      "text/plain": [
       "        TCGA-AA-3542-01A-02R-1873-07 TCGA-CZ-5989-01A-11R-1672-07\n",
       "AAAAAAA -72.495705                   136.9306281                 \n",
       "AAAAAAC  -5.299972                    16.9813709                 \n",
       "AAAAAAG  -9.792265                    35.1061265                 \n",
       "AAAAAAT -54.908296                    91.0232858                 \n",
       "AAAAACA  -4.884646                    16.6735579                 \n",
       "AAAAACC  -1.193459                     0.9041498                 \n",
       "        TCGA-B4-5832-01A-11R-1672-07 TCGA-AK-3447-01A-01R-1766-07\n",
       "AAAAAAA 157.9655299                   3.269184                   \n",
       "AAAAAAC  16.2753185                   1.027344                   \n",
       "AAAAAAG  47.2006240                   2.166519                   \n",
       "AAAAAAT  94.9766400                   3.977719                   \n",
       "AAAAACA  20.0185477                   2.957535                   \n",
       "AAAAACC   0.3830344                  -1.003574                   \n",
       "        TCGA-G9-6369-01A-21R-1965-07 TCGA-FC-A5OB-01A-11R-A29R-07\n",
       "AAAAAAA -2.2562716                   -0.8259860                  \n",
       "AAAAAAC -1.1867228                   -0.1437810                  \n",
       "AAAAAAG -2.3948839                   -0.1982465                  \n",
       "AAAAAAT -0.3139552                   -0.6288222                  \n",
       "AAAAACA -0.5658411                   -0.2010953                  \n",
       "AAAAACC -0.6509030                   -2.1680818                  \n",
       "        TCGA-FC-A6HD-01A-11R-A31N-07 TCGA-VN-A943-01A-11R-A41O-07\n",
       "AAAAAAA -8.2006992                    1.8126922                  \n",
       "AAAAAAC -1.6846272                    0.3392916                  \n",
       "AAAAAAG -2.1911568                    1.3879482                  \n",
       "AAAAAAT -6.5352034                    0.9740909                  \n",
       "AAAAACA -0.7705596                    0.6314137                  \n",
       "AAAAACC -2.4189324                   -0.9033329                  \n",
       "        TCGA-YL-A8S9-01A-11R-A37L-07 TCGA-HC-7077-01A-11R-1965-07\n",
       "AAAAAAA -0.43425386                  -27.765742                  \n",
       "AAAAAAC  0.09206614                   -5.420072                  \n",
       "AAAAAAG  0.35480771                   -7.933001                  \n",
       "AAAAAAT -1.19291848                  -15.919800                  \n",
       "AAAAACA  0.09035464                   -4.273717                  \n",
       "AAAAACC -1.47295870                   -2.732738                  "
      ]
     },
     "metadata": {},
     "output_type": "display_data"
    },
    {
     "data": {
      "text/html": [
       "<style>\n",
       ".list-inline {list-style: none; margin:0; padding: 0}\n",
       ".list-inline>li {display: inline-block}\n",
       ".list-inline>li:not(:last-child)::after {content: \"\\00b7\"; padding: 0 .5ex}\n",
       "</style>\n",
       "<ol class=list-inline><li>16384</li><li>5806</li></ol>\n"
      ],
      "text/latex": [
       "\\begin{enumerate*}\n",
       "\\item 16384\n",
       "\\item 5806\n",
       "\\end{enumerate*}\n"
      ],
      "text/markdown": [
       "1. 16384\n",
       "2. 5806\n",
       "\n",
       "\n"
      ],
      "text/plain": [
       "[1] 16384  5806"
      ]
     },
     "metadata": {},
     "output_type": "display_data"
    }
   ],
   "source": [
    "DGD_activity <- readRDS(\"~/jsp_student_projects/miRNA_DGD_DE_F2024/data/filtered_by_paper/miReact_activity/miReact_DGD_filtered_normalized.rds\") # pseudocount = 1\n",
    "\n",
    "\n",
    "head(DGD_activity[,1:10])\n",
    "dim(DGD_activity)"
   ]
  },
  {
   "cell_type": "markdown",
   "metadata": {},
   "source": [
    "#### Create expression matrix and activity matrix\n",
    "\n",
    "We select the miRNA's present in both the annotations and expression count, and select the matching inferred activity for the present miRNAs.\n",
    "Moreover we select only the samples present in both expression count and the inferred activity. \n",
    "\n",
    "Both expression count matrix and activity matrix is renames to match the same naming convention. \n",
    "\n",
    "NB! 138 miRNA were not available in the anno_match dataframe "
   ]
  },
  {
   "cell_type": "code",
   "execution_count": 24,
   "metadata": {
    "vscode": {
     "languageId": "r"
    }
   },
   "outputs": [
    {
     "data": {
      "text/html": [
       "<style>\n",
       ".list-inline {list-style: none; margin:0; padding: 0}\n",
       ".list-inline>li {display: inline-block}\n",
       ".list-inline>li:not(:last-child)::after {content: \"\\00b7\"; padding: 0 .5ex}\n",
       "</style>\n",
       "<ol class=list-inline><li>5800</li><li>13</li></ol>\n"
      ],
      "text/latex": [
       "\\begin{enumerate*}\n",
       "\\item 5800\n",
       "\\item 13\n",
       "\\end{enumerate*}\n"
      ],
      "text/markdown": [
       "1. 5800\n",
       "2. 13\n",
       "\n",
       "\n"
      ],
      "text/plain": [
       "[1] 5800   13"
      ]
     },
     "metadata": {},
     "output_type": "display_data"
    }
   ],
   "source": [
    "# Finding samples present in both activity and expression counts\n",
    "intersect_samples = intersect(colnames(cohort_activity), colnames(expression))\n",
    "\n",
    "sample_an <- sample_anno[(sample_anno$sample_id %in% intersect_samples),]\n",
    "# sample_an <- tSNE[(tSNE$sample_id %in% intersect_samples), ]\n",
    "dim(sample_an)\n",
    "\n",
    "# Finding miRNA present in both samples\n",
    "interset_miRNAs = anno_match %>% inner_join(extended_anno, by = join_by( mature_iso_name_miRBase == name))"
   ]
  },
  {
   "cell_type": "code",
   "execution_count": 25,
   "metadata": {
    "vscode": {
     "languageId": "r"
    }
   },
   "outputs": [
    {
     "data": {
      "text/html": [
       "<table class=\"dataframe\">\n",
       "<caption>A data.frame: 6 × 7</caption>\n",
       "<thead>\n",
       "\t<tr><th></th><th scope=col>mature_iso_id</th><th scope=col>mirna_type</th><th scope=col>mature_iso_name_miRBase</th><th scope=col>mature_iso_validation_miRBase</th><th scope=col>seqs</th><th scope=col>seed_site</th><th scope=col>target_site</th></tr>\n",
       "\t<tr><th></th><th scope=col>&lt;chr&gt;</th><th scope=col>&lt;chr&gt;</th><th scope=col>&lt;chr&gt;</th><th scope=col>&lt;chr&gt;</th><th scope=col>&lt;fct&gt;</th><th scope=col>&lt;chr&gt;</th><th scope=col>&lt;chr&gt;</th></tr>\n",
       "</thead>\n",
       "<tbody>\n",
       "\t<tr><th scope=row>86</th><td>MIMAT0017984</td><td>mature</td><td>hsa-miR-3607-5p</td><td>experimental    </td><td>NA</td><td>NA</td><td>NA</td></tr>\n",
       "\t<tr><th scope=row>87</th><td>MIMAT0017985</td><td>mature</td><td>hsa-miR-3607-3p</td><td>experimental    </td><td>NA</td><td>NA</td><td>NA</td></tr>\n",
       "\t<tr><th scope=row>91</th><td>MIMAT0018073</td><td>mature</td><td>hsa-miR-3653-3p</td><td>experimental    </td><td>NA</td><td>NA</td><td>NA</td></tr>\n",
       "\t<tr><th scope=row>92</th><td>MIMAT0032110</td><td>mature</td><td>hsa-miR-3653-5p</td><td>not_experimental</td><td>NA</td><td>NA</td><td>NA</td></tr>\n",
       "\t<tr><th scope=row>115</th><td>MIMAT0025855</td><td>mature</td><td>hsa-miR-6723-5p</td><td>experimental    </td><td>NA</td><td>NA</td><td>NA</td></tr>\n",
       "\t<tr><th scope=row>156</th><td>MIMAT0005905</td><td>mature</td><td>hsa-miR-1254   </td><td>experimental    </td><td>NA</td><td>NA</td><td>NA</td></tr>\n",
       "</tbody>\n",
       "</table>\n"
      ],
      "text/latex": [
       "A data.frame: 6 × 7\n",
       "\\begin{tabular}{r|lllllll}\n",
       "  & mature\\_iso\\_id & mirna\\_type & mature\\_iso\\_name\\_miRBase & mature\\_iso\\_validation\\_miRBase & seqs & seed\\_site & target\\_site\\\\\n",
       "  & <chr> & <chr> & <chr> & <chr> & <fct> & <chr> & <chr>\\\\\n",
       "\\hline\n",
       "\t86 & MIMAT0017984 & mature & hsa-miR-3607-5p & experimental     & NA & NA & NA\\\\\n",
       "\t87 & MIMAT0017985 & mature & hsa-miR-3607-3p & experimental     & NA & NA & NA\\\\\n",
       "\t91 & MIMAT0018073 & mature & hsa-miR-3653-3p & experimental     & NA & NA & NA\\\\\n",
       "\t92 & MIMAT0032110 & mature & hsa-miR-3653-5p & not\\_experimental & NA & NA & NA\\\\\n",
       "\t115 & MIMAT0025855 & mature & hsa-miR-6723-5p & experimental     & NA & NA & NA\\\\\n",
       "\t156 & MIMAT0005905 & mature & hsa-miR-1254    & experimental     & NA & NA & NA\\\\\n",
       "\\end{tabular}\n"
      ],
      "text/markdown": [
       "\n",
       "A data.frame: 6 × 7\n",
       "\n",
       "| <!--/--> | mature_iso_id &lt;chr&gt; | mirna_type &lt;chr&gt; | mature_iso_name_miRBase &lt;chr&gt; | mature_iso_validation_miRBase &lt;chr&gt; | seqs &lt;fct&gt; | seed_site &lt;chr&gt; | target_site &lt;chr&gt; |\n",
       "|---|---|---|---|---|---|---|---|\n",
       "| 86 | MIMAT0017984 | mature | hsa-miR-3607-5p | experimental     | NA | NA | NA |\n",
       "| 87 | MIMAT0017985 | mature | hsa-miR-3607-3p | experimental     | NA | NA | NA |\n",
       "| 91 | MIMAT0018073 | mature | hsa-miR-3653-3p | experimental     | NA | NA | NA |\n",
       "| 92 | MIMAT0032110 | mature | hsa-miR-3653-5p | not_experimental | NA | NA | NA |\n",
       "| 115 | MIMAT0025855 | mature | hsa-miR-6723-5p | experimental     | NA | NA | NA |\n",
       "| 156 | MIMAT0005905 | mature | hsa-miR-1254    | experimental     | NA | NA | NA |\n",
       "\n"
      ],
      "text/plain": [
       "    mature_iso_id mirna_type mature_iso_name_miRBase\n",
       "86  MIMAT0017984  mature     hsa-miR-3607-5p        \n",
       "87  MIMAT0017985  mature     hsa-miR-3607-3p        \n",
       "91  MIMAT0018073  mature     hsa-miR-3653-3p        \n",
       "92  MIMAT0032110  mature     hsa-miR-3653-5p        \n",
       "115 MIMAT0025855  mature     hsa-miR-6723-5p        \n",
       "156 MIMAT0005905  mature     hsa-miR-1254           \n",
       "    mature_iso_validation_miRBase seqs seed_site target_site\n",
       "86  experimental                  NA   NA        NA         \n",
       "87  experimental                  NA   NA        NA         \n",
       "91  experimental                  NA   NA        NA         \n",
       "92  not_experimental              NA   NA        NA         \n",
       "115 experimental                  NA   NA        NA         \n",
       "156 experimental                  NA   NA        NA         "
      ]
     },
     "metadata": {},
     "output_type": "display_data"
    }
   ],
   "source": [
    "missing = anno[!(anno$target_site %in% rownames(cohort_activity)),]\n",
    "head(missing)"
   ]
  },
  {
   "cell_type": "code",
   "execution_count": 26,
   "metadata": {
    "vscode": {
     "languageId": "r"
    }
   },
   "outputs": [],
   "source": [
    "cohort_act <- t(cohort_activity[interset_miRNAs$seed7target, intersect_samples])\n",
    "\n",
    "colnames(cohort_act) <- interset_miRNAs$mature_iso_name_miRBase[match(colnames(cohort_act), interset_miRNAs$seed7target)]\n",
    "rownames(cohort_act) <- colnames(cohort_activity[interset_miRNAs$seed7target, intersect_samples])"
   ]
  },
  {
   "cell_type": "code",
   "execution_count": 27,
   "metadata": {
    "vscode": {
     "languageId": "r"
    }
   },
   "outputs": [],
   "source": [
    "DGD_act <- t(DGD_activity[interset_miRNAs$seed7target, intersect_samples])\n",
    "\n",
    "colnames(DGD_act) <- interset_miRNAs$mature_iso_name_miRBase[match(colnames(DGD_act), interset_miRNAs$seed7target)]\n",
    "rownames(DGD_act) <- colnames(DGD_activity[interset_miRNAs$seed7target, intersect_samples])"
   ]
  },
  {
   "cell_type": "code",
   "execution_count": 28,
   "metadata": {
    "vscode": {
     "languageId": "r"
    }
   },
   "outputs": [],
   "source": [
    "exp <- t(expression[interset_miRNAs$mature_iso_id, intersect_samples])\n",
    "colnames(exp) <- interset_miRNAs$mature_iso_name_miRBase[match(colnames(exp), interset_miRNAs$mature_iso_id)]\n",
    "rownames(exp) <- colnames(expression[interset_miRNAs$mature_iso_id, intersect_samples])"
   ]
  },
  {
   "cell_type": "code",
   "execution_count": 29,
   "metadata": {
    "vscode": {
     "languageId": "r"
    }
   },
   "outputs": [],
   "source": [
    "rownames(interset_miRNAs) <- interset_miRNAs$mature_iso_name_miRBase\n",
    "rownames(sample_an) <- sample_an$sample_id"
   ]
  },
  {
   "cell_type": "markdown",
   "metadata": {},
   "source": [
    "The values are stored in an anndata object:"
   ]
  },
  {
   "cell_type": "code",
   "execution_count": 30,
   "metadata": {
    "vscode": {
     "languageId": "r"
    }
   },
   "outputs": [],
   "source": [
    "ad <- AnnData(\n",
    "  X = exp,\n",
    "  var = interset_miRNAs,\n",
    "  obs = sample_an,\n",
    "  layers = list(\n",
    "    cohort_activity = cohort_act,\n",
    "    DGD_activity = DGD_act\n",
    "  )\n",
    ")\n",
    "\n",
    "# "
   ]
  },
  {
   "cell_type": "code",
   "execution_count": 31,
   "metadata": {
    "vscode": {
     "languageId": "r"
    }
   },
   "outputs": [
    {
     "data": {
      "text/plain": [
       "AnnData object with n_obs × n_vars = 5800 × 2450\n",
       "    obs: 'sample_id', 'cancer_type', 'sample_submitter_id', 'cancer_name', 'primary_site', 'sample_type', 'tissue_type', 'tumor_descriptor', 'age_at_index', 'gender', 'vital_status', 'tissue_or_organ_of_origin', 'color'\n",
       "    var: 'mature_iso_id', 'mirna_type', 'mature_iso_name_miRBase', 'mature_iso_validation_miRBase', 'seq', 'species', 'seed7', 'seed7target', 'tcgamatcher', 'tcga1match', 'chartr', 'inOncomir', 'sum_effect', 'oncoTissue', 'generalMatcher', 'expMatch', 'expidx', 'memicor', 'totalTargets', 'geneTargets', 'pexpidx', 'htmed'\n",
       "    layers: 'cohort_activity', 'DGD_activity'"
      ]
     },
     "metadata": {},
     "output_type": "display_data"
    }
   ],
   "source": [
    "ad"
   ]
  },
  {
   "cell_type": "code",
   "execution_count": 32,
   "metadata": {
    "vscode": {
     "languageId": "r"
    }
   },
   "outputs": [],
   "source": [
    "ad$var$name <- interset_miRNAs$mature_iso_name_miRBase\n",
    "ad$var$mature_id <- interset_miRNAs$mature_iso_id\n",
    "ad$var$seed_target <- interset_miRNAs$seed7target\n",
    "ad$var$seed <- interset_miRNAs$seed7\n",
    "ad$var$sum_effect <- interset_miRNAs$sum_effect"
   ]
  },
  {
   "cell_type": "markdown",
   "metadata": {},
   "source": [
    "## Step 2: Computing correlations"
   ]
  },
  {
   "cell_type": "code",
   "execution_count": 33,
   "metadata": {
    "vscode": {
     "languageId": "r"
    }
   },
   "outputs": [
    {
     "name": "stdout",
     "output_type": "stream",
     "text": [
      "  |                                                                      |   0%"
     ]
    },
    {
     "name": "stdout",
     "output_type": "stream",
     "text": [
      "  |=====================================================                 |  76%"
     ]
    },
    {
     "name": "stderr",
     "output_type": "stream",
     "text": [
      "Warning message in cor(x, y):\n",
      "“the standard deviation is zero”\n",
      "Warning message in cor(rank(x), rank(y)):\n",
      "“the standard deviation is zero”\n"
     ]
    },
    {
     "name": "stdout",
     "output_type": "stream",
     "text": [
      "  |======================================================                |  77%"
     ]
    },
    {
     "name": "stderr",
     "output_type": "stream",
     "text": [
      "Warning message in cor(x, y):\n",
      "“the standard deviation is zero”\n",
      "Warning message in cor(rank(x), rank(y)):\n",
      "“the standard deviation is zero”\n"
     ]
    },
    {
     "name": "stdout",
     "output_type": "stream",
     "text": [
      "  |============================================================          |  85%"
     ]
    },
    {
     "name": "stderr",
     "output_type": "stream",
     "text": [
      "Warning message in cor(x, y):\n",
      "“the standard deviation is zero”\n",
      "Warning message in cor(rank(x), rank(y)):\n",
      "“the standard deviation is zero”\n"
     ]
    },
    {
     "name": "stdout",
     "output_type": "stream",
     "text": [
      "  |=============================================================         |  88%"
     ]
    },
    {
     "name": "stderr",
     "output_type": "stream",
     "text": [
      "Warning message in cor(x, y):\n",
      "“the standard deviation is zero”\n",
      "Warning message in cor(rank(x), rank(y)):\n",
      "“the standard deviation is zero”\n"
     ]
    },
    {
     "name": "stdout",
     "output_type": "stream",
     "text": [
      "  |==============================================================        |  88%"
     ]
    },
    {
     "name": "stderr",
     "output_type": "stream",
     "text": [
      "Warning message in cor(x, y):\n",
      "“the standard deviation is zero”\n",
      "Warning message in cor(rank(x), rank(y)):\n",
      "“the standard deviation is zero”\n"
     ]
    },
    {
     "name": "stdout",
     "output_type": "stream",
     "text": [
      "  |================================================================      |  91%"
     ]
    },
    {
     "name": "stderr",
     "output_type": "stream",
     "text": [
      "Warning message in cor(x, y):\n",
      "“the standard deviation is zero”\n",
      "Warning message in cor(rank(x), rank(y)):\n",
      "“the standard deviation is zero”\n",
      "Warning message in cor(x, y):\n",
      "“the standard deviation is zero”\n",
      "Warning message in cor(rank(x), rank(y)):\n",
      "“the standard deviation is zero”\n"
     ]
    },
    {
     "name": "stdout",
     "output_type": "stream",
     "text": [
      "  |=================================================================     |  92%"
     ]
    },
    {
     "name": "stderr",
     "output_type": "stream",
     "text": [
      "Warning message in cor(x, y):\n",
      "“the standard deviation is zero”\n",
      "Warning message in cor(rank(x), rank(y)):\n",
      "“the standard deviation is zero”\n"
     ]
    },
    {
     "name": "stdout",
     "output_type": "stream",
     "text": [
      "  |=================================================================     |  93%"
     ]
    },
    {
     "name": "stderr",
     "output_type": "stream",
     "text": [
      "Warning message in cor(x, y):\n",
      "“the standard deviation is zero”\n",
      "Warning message in cor(rank(x), rank(y)):\n",
      "“the standard deviation is zero”\n",
      "Warning message in cor(x, y):\n",
      "“the standard deviation is zero”\n",
      "Warning message in cor(rank(x), rank(y)):\n",
      "“the standard deviation is zero”\n",
      "Warning message in cor(x, y):\n",
      "“the standard deviation is zero”\n",
      "Warning message in cor(rank(x), rank(y)):\n",
      "“the standard deviation is zero”\n"
     ]
    },
    {
     "name": "stdout",
     "output_type": "stream",
     "text": [
      "  |==================================================================    |  94%"
     ]
    },
    {
     "name": "stderr",
     "output_type": "stream",
     "text": [
      "Warning message in cor(x, y):\n",
      "“the standard deviation is zero”\n",
      "Warning message in cor(rank(x), rank(y)):\n",
      "“the standard deviation is zero”\n",
      "Warning message in cor(x, y):\n",
      "“the standard deviation is zero”\n",
      "Warning message in cor(rank(x), rank(y)):\n",
      "“the standard deviation is zero”\n",
      "Warning message in cor(x, y):\n",
      "“the standard deviation is zero”\n",
      "Warning message in cor(rank(x), rank(y)):\n",
      "“the standard deviation is zero”\n",
      "Warning message in cor(x, y):\n",
      "“the standard deviation is zero”\n",
      "Warning message in cor(rank(x), rank(y)):\n",
      "“the standard deviation is zero”\n"
     ]
    },
    {
     "name": "stdout",
     "output_type": "stream",
     "text": [
      "  |==================================================================    |  95%"
     ]
    },
    {
     "name": "stderr",
     "output_type": "stream",
     "text": [
      "Warning message in cor(x, y):\n",
      "“the standard deviation is zero”\n",
      "Warning message in cor(rank(x), rank(y)):\n",
      "“the standard deviation is zero”\n"
     ]
    },
    {
     "name": "stdout",
     "output_type": "stream",
     "text": [
      "  |===================================================================   |  95%"
     ]
    },
    {
     "name": "stderr",
     "output_type": "stream",
     "text": [
      "Warning message in cor(x, y):\n",
      "“the standard deviation is zero”\n",
      "Warning message in cor(rank(x), rank(y)):\n",
      "“the standard deviation is zero”\n",
      "Warning message in cor(x, y):\n",
      "“the standard deviation is zero”\n",
      "Warning message in cor(rank(x), rank(y)):\n",
      "“the standard deviation is zero”\n"
     ]
    },
    {
     "name": "stdout",
     "output_type": "stream",
     "text": [
      "  |===================================================================   |  96%"
     ]
    },
    {
     "name": "stderr",
     "output_type": "stream",
     "text": [
      "Warning message in cor(x, y):\n",
      "“the standard deviation is zero”\n",
      "Warning message in cor(rank(x), rank(y)):\n",
      "“the standard deviation is zero”\n",
      "Warning message in cor(x, y):\n",
      "“the standard deviation is zero”\n",
      "Warning message in cor(rank(x), rank(y)):\n",
      "“the standard deviation is zero”\n",
      "Warning message in cor(x, y):\n",
      "“the standard deviation is zero”\n",
      "Warning message in cor(rank(x), rank(y)):\n",
      "“the standard deviation is zero”\n",
      "Warning message in cor(x, y):\n",
      "“the standard deviation is zero”\n",
      "Warning message in cor(rank(x), rank(y)):\n",
      "“the standard deviation is zero”\n",
      "Warning message in cor(x, y):\n",
      "“the standard deviation is zero”\n",
      "Warning message in cor(rank(x), rank(y)):\n",
      "“the standard deviation is zero”\n"
     ]
    },
    {
     "name": "stdout",
     "output_type": "stream",
     "text": [
      "  |====================================================================  |  97%"
     ]
    },
    {
     "name": "stderr",
     "output_type": "stream",
     "text": [
      "Warning message in cor(x, y):\n",
      "“the standard deviation is zero”\n",
      "Warning message in cor(rank(x), rank(y)):\n",
      "“the standard deviation is zero”\n",
      "Warning message in cor(x, y):\n",
      "“the standard deviation is zero”\n",
      "Warning message in cor(rank(x), rank(y)):\n",
      "“the standard deviation is zero”\n",
      "Warning message in cor(x, y):\n",
      "“the standard deviation is zero”\n",
      "Warning message in cor(rank(x), rank(y)):\n",
      "“the standard deviation is zero”\n",
      "Warning message in cor(x, y):\n",
      "“the standard deviation is zero”\n",
      "Warning message in cor(rank(x), rank(y)):\n",
      "“the standard deviation is zero”\n",
      "Warning message in cor(x, y):\n",
      "“the standard deviation is zero”\n",
      "Warning message in cor(rank(x), rank(y)):\n",
      "“the standard deviation is zero”\n",
      "Warning message in cor(x, y):\n",
      "“the standard deviation is zero”\n",
      "Warning message in cor(rank(x), rank(y)):\n",
      "“the standard deviation is zero”\n",
      "Warning message in cor(x, y):\n",
      "“the standard deviation is zero”\n",
      "Warning message in cor(rank(x), rank(y)):\n",
      "“the standard deviation is zero”\n",
      "Warning message in cor(x, y):\n",
      "“the standard deviation is zero”\n",
      "Warning message in cor(rank(x), rank(y)):\n",
      "“the standard deviation is zero”\n",
      "Warning message in cor(x, y):\n",
      "“the standard deviation is zero”\n",
      "Warning message in cor(rank(x), rank(y)):\n",
      "“the standard deviation is zero”\n",
      "Warning message in cor(x, y):\n",
      "“the standard deviation is zero”\n",
      "Warning message in cor(rank(x), rank(y)):\n",
      "“the standard deviation is zero”\n",
      "Warning message in cor(x, y):\n",
      "“the standard deviation is zero”\n",
      "Warning message in cor(rank(x), rank(y)):\n",
      "“the standard deviation is zero”\n",
      "Warning message in cor(x, y):\n",
      "“the standard deviation is zero”\n",
      "Warning message in cor(rank(x), rank(y)):\n",
      "“the standard deviation is zero”\n",
      "Warning message in cor(x, y):\n",
      "“the standard deviation is zero”\n",
      "Warning message in cor(rank(x), rank(y)):\n",
      "“the standard deviation is zero”\n"
     ]
    },
    {
     "name": "stdout",
     "output_type": "stream",
     "text": [
      "  |====================================================================  |  98%"
     ]
    },
    {
     "name": "stderr",
     "output_type": "stream",
     "text": [
      "Warning message in cor(x, y):\n",
      "“the standard deviation is zero”\n",
      "Warning message in cor(rank(x), rank(y)):\n",
      "“the standard deviation is zero”\n",
      "Warning message in cor(x, y):\n",
      "“the standard deviation is zero”\n",
      "Warning message in cor(rank(x), rank(y)):\n",
      "“the standard deviation is zero”\n"
     ]
    },
    {
     "name": "stdout",
     "output_type": "stream",
     "text": [
      "  |===================================================================== |  98%"
     ]
    },
    {
     "name": "stderr",
     "output_type": "stream",
     "text": [
      "Warning message in cor(x, y):\n",
      "“the standard deviation is zero”\n",
      "Warning message in cor(rank(x), rank(y)):\n",
      "“the standard deviation is zero”\n",
      "Warning message in cor(x, y):\n",
      "“the standard deviation is zero”\n",
      "Warning message in cor(rank(x), rank(y)):\n",
      "“the standard deviation is zero”\n",
      "Warning message in cor(x, y):\n",
      "“the standard deviation is zero”\n",
      "Warning message in cor(rank(x), rank(y)):\n",
      "“the standard deviation is zero”\n",
      "Warning message in cor(x, y):\n",
      "“the standard deviation is zero”\n",
      "Warning message in cor(rank(x), rank(y)):\n",
      "“the standard deviation is zero”\n",
      "Warning message in cor(x, y):\n",
      "“the standard deviation is zero”\n",
      "Warning message in cor(rank(x), rank(y)):\n",
      "“the standard deviation is zero”\n",
      "Warning message in cor(x, y):\n",
      "“the standard deviation is zero”\n",
      "Warning message in cor(rank(x), rank(y)):\n",
      "“the standard deviation is zero”\n",
      "Warning message in cor(x, y):\n",
      "“the standard deviation is zero”\n",
      "Warning message in cor(rank(x), rank(y)):\n",
      "“the standard deviation is zero”\n"
     ]
    },
    {
     "name": "stdout",
     "output_type": "stream",
     "text": [
      "  |===================================================================== |  99%"
     ]
    },
    {
     "name": "stderr",
     "output_type": "stream",
     "text": [
      "Warning message in cor(x, y):\n",
      "“the standard deviation is zero”\n",
      "Warning message in cor(rank(x), rank(y)):\n",
      "“the standard deviation is zero”\n",
      "Warning message in cor(x, y):\n",
      "“the standard deviation is zero”\n",
      "Warning message in cor(rank(x), rank(y)):\n",
      "“the standard deviation is zero”\n",
      "Warning message in cor(x, y):\n",
      "“the standard deviation is zero”\n",
      "Warning message in cor(rank(x), rank(y)):\n",
      "“the standard deviation is zero”\n",
      "Warning message in cor(x, y):\n",
      "“the standard deviation is zero”\n",
      "Warning message in cor(rank(x), rank(y)):\n",
      "“the standard deviation is zero”\n",
      "Warning message in cor(x, y):\n",
      "“the standard deviation is zero”\n",
      "Warning message in cor(rank(x), rank(y)):\n",
      "“the standard deviation is zero”\n",
      "Warning message in cor(x, y):\n",
      "“the standard deviation is zero”\n",
      "Warning message in cor(rank(x), rank(y)):\n",
      "“the standard deviation is zero”\n",
      "Warning message in cor(x, y):\n",
      "“the standard deviation is zero”\n",
      "Warning message in cor(rank(x), rank(y)):\n",
      "“the standard deviation is zero”\n",
      "Warning message in cor(x, y):\n",
      "“the standard deviation is zero”\n",
      "Warning message in cor(rank(x), rank(y)):\n",
      "“the standard deviation is zero”\n",
      "Warning message in cor(x, y):\n",
      "“the standard deviation is zero”\n",
      "Warning message in cor(rank(x), rank(y)):\n",
      "“the standard deviation is zero”\n"
     ]
    },
    {
     "name": "stdout",
     "output_type": "stream",
     "text": [
      "  |======================================================================|  99%"
     ]
    },
    {
     "name": "stderr",
     "output_type": "stream",
     "text": [
      "Warning message in cor(x, y):\n",
      "“the standard deviation is zero”\n",
      "Warning message in cor(rank(x), rank(y)):\n",
      "“the standard deviation is zero”\n",
      "Warning message in cor(x, y):\n",
      "“the standard deviation is zero”\n",
      "Warning message in cor(rank(x), rank(y)):\n",
      "“the standard deviation is zero”\n",
      "Warning message in cor(x, y):\n",
      "“the standard deviation is zero”\n",
      "Warning message in cor(rank(x), rank(y)):\n",
      "“the standard deviation is zero”\n"
     ]
    },
    {
     "name": "stdout",
     "output_type": "stream",
     "text": [
      "  |======================================================================| 100%"
     ]
    },
    {
     "name": "stderr",
     "output_type": "stream",
     "text": [
      "Warning message in cor(x, y):\n",
      "“the standard deviation is zero”\n",
      "Warning message in cor(rank(x), rank(y)):\n",
      "“the standard deviation is zero”\n",
      "Warning message in cor(x, y):\n",
      "“the standard deviation is zero”\n",
      "Warning message in cor(rank(x), rank(y)):\n",
      "“the standard deviation is zero”\n",
      "Warning message in cor(x, y):\n",
      "“the standard deviation is zero”\n",
      "Warning message in cor(rank(x), rank(y)):\n",
      "“the standard deviation is zero”\n",
      "Warning message in cor(x, y):\n",
      "“the standard deviation is zero”\n",
      "Warning message in cor(rank(x), rank(y)):\n",
      "“the standard deviation is zero”\n",
      "Warning message in cor(x, y):\n",
      "“the standard deviation is zero”\n",
      "Warning message in cor(rank(x), rank(y)):\n",
      "“the standard deviation is zero”\n",
      "Warning message in cor(x, y):\n",
      "“the standard deviation is zero”\n",
      "Warning message in cor(rank(x), rank(y)):\n",
      "“the standard deviation is zero”\n",
      "Warning message in cor(x, y):\n",
      "“the standard deviation is zero”\n",
      "Warning message in cor(rank(x), rank(y)):\n",
      "“the standard deviation is zero”\n",
      "Warning message in cor(x, y):\n",
      "“the standard deviation is zero”\n",
      "Warning message in cor(rank(x), rank(y)):\n",
      "“the standard deviation is zero”\n"
     ]
    },
    {
     "name": "stdout",
     "output_type": "stream",
     "text": [
      "\n",
      "  |=====================================================                 |  76%"
     ]
    },
    {
     "name": "stderr",
     "output_type": "stream",
     "text": [
      "Warning message in cor(x, y):\n",
      "“the standard deviation is zero”\n",
      "Warning message in cor(rank(x), rank(y)):\n",
      "“the standard deviation is zero”\n"
     ]
    },
    {
     "name": "stdout",
     "output_type": "stream",
     "text": [
      "  |======================================================                |  77%"
     ]
    },
    {
     "name": "stderr",
     "output_type": "stream",
     "text": [
      "Warning message in cor(x, y):\n",
      "“the standard deviation is zero”\n",
      "Warning message in cor(rank(x), rank(y)):\n",
      "“the standard deviation is zero”\n"
     ]
    },
    {
     "name": "stdout",
     "output_type": "stream",
     "text": [
      "  |============================================================          |  85%"
     ]
    },
    {
     "name": "stderr",
     "output_type": "stream",
     "text": [
      "Warning message in cor(x, y):\n",
      "“the standard deviation is zero”\n",
      "Warning message in cor(rank(x), rank(y)):\n",
      "“the standard deviation is zero”\n"
     ]
    },
    {
     "name": "stdout",
     "output_type": "stream",
     "text": [
      "  |=============================================================         |  88%"
     ]
    },
    {
     "name": "stderr",
     "output_type": "stream",
     "text": [
      "Warning message in cor(x, y):\n",
      "“the standard deviation is zero”\n",
      "Warning message in cor(rank(x), rank(y)):\n",
      "“the standard deviation is zero”\n"
     ]
    },
    {
     "name": "stdout",
     "output_type": "stream",
     "text": [
      "  |==============================================================        |  88%"
     ]
    },
    {
     "name": "stderr",
     "output_type": "stream",
     "text": [
      "Warning message in cor(x, y):\n",
      "“the standard deviation is zero”\n",
      "Warning message in cor(rank(x), rank(y)):\n",
      "“the standard deviation is zero”\n"
     ]
    },
    {
     "name": "stdout",
     "output_type": "stream",
     "text": [
      "  |================================================================      |  91%"
     ]
    },
    {
     "name": "stderr",
     "output_type": "stream",
     "text": [
      "Warning message in cor(x, y):\n",
      "“the standard deviation is zero”\n",
      "Warning message in cor(rank(x), rank(y)):\n",
      "“the standard deviation is zero”\n",
      "Warning message in cor(x, y):\n",
      "“the standard deviation is zero”\n",
      "Warning message in cor(rank(x), rank(y)):\n",
      "“the standard deviation is zero”\n"
     ]
    },
    {
     "name": "stdout",
     "output_type": "stream",
     "text": [
      "  |=================================================================     |  92%"
     ]
    },
    {
     "name": "stderr",
     "output_type": "stream",
     "text": [
      "Warning message in cor(x, y):\n",
      "“the standard deviation is zero”\n",
      "Warning message in cor(rank(x), rank(y)):\n",
      "“the standard deviation is zero”\n"
     ]
    },
    {
     "name": "stdout",
     "output_type": "stream",
     "text": [
      "  |=================================================================     |  93%"
     ]
    },
    {
     "name": "stderr",
     "output_type": "stream",
     "text": [
      "Warning message in cor(x, y):\n",
      "“the standard deviation is zero”\n",
      "Warning message in cor(rank(x), rank(y)):\n",
      "“the standard deviation is zero”\n",
      "Warning message in cor(x, y):\n",
      "“the standard deviation is zero”\n",
      "Warning message in cor(rank(x), rank(y)):\n",
      "“the standard deviation is zero”\n",
      "Warning message in cor(x, y):\n",
      "“the standard deviation is zero”\n",
      "Warning message in cor(rank(x), rank(y)):\n",
      "“the standard deviation is zero”\n"
     ]
    },
    {
     "name": "stdout",
     "output_type": "stream",
     "text": [
      "  |==================================================================    |  94%"
     ]
    },
    {
     "name": "stderr",
     "output_type": "stream",
     "text": [
      "Warning message in cor(x, y):\n",
      "“the standard deviation is zero”\n",
      "Warning message in cor(rank(x), rank(y)):\n",
      "“the standard deviation is zero”\n",
      "Warning message in cor(x, y):\n",
      "“the standard deviation is zero”\n",
      "Warning message in cor(rank(x), rank(y)):\n",
      "“the standard deviation is zero”\n",
      "Warning message in cor(x, y):\n",
      "“the standard deviation is zero”\n",
      "Warning message in cor(rank(x), rank(y)):\n",
      "“the standard deviation is zero”\n",
      "Warning message in cor(x, y):\n",
      "“the standard deviation is zero”\n",
      "Warning message in cor(rank(x), rank(y)):\n",
      "“the standard deviation is zero”\n"
     ]
    },
    {
     "name": "stdout",
     "output_type": "stream",
     "text": [
      "  |==================================================================    |  95%"
     ]
    },
    {
     "name": "stderr",
     "output_type": "stream",
     "text": [
      "Warning message in cor(x, y):\n",
      "“the standard deviation is zero”\n",
      "Warning message in cor(rank(x), rank(y)):\n",
      "“the standard deviation is zero”\n"
     ]
    },
    {
     "name": "stdout",
     "output_type": "stream",
     "text": [
      "  |===================================================================   |  95%"
     ]
    },
    {
     "name": "stderr",
     "output_type": "stream",
     "text": [
      "Warning message in cor(x, y):\n",
      "“the standard deviation is zero”\n",
      "Warning message in cor(rank(x), rank(y)):\n",
      "“the standard deviation is zero”\n",
      "Warning message in cor(x, y):\n",
      "“the standard deviation is zero”\n",
      "Warning message in cor(rank(x), rank(y)):\n",
      "“the standard deviation is zero”\n"
     ]
    },
    {
     "name": "stdout",
     "output_type": "stream",
     "text": [
      "  |===================================================================   |  96%"
     ]
    },
    {
     "name": "stderr",
     "output_type": "stream",
     "text": [
      "Warning message in cor(x, y):\n",
      "“the standard deviation is zero”\n",
      "Warning message in cor(rank(x), rank(y)):\n",
      "“the standard deviation is zero”\n",
      "Warning message in cor(x, y):\n",
      "“the standard deviation is zero”\n",
      "Warning message in cor(rank(x), rank(y)):\n",
      "“the standard deviation is zero”\n",
      "Warning message in cor(x, y):\n",
      "“the standard deviation is zero”\n",
      "Warning message in cor(rank(x), rank(y)):\n",
      "“the standard deviation is zero”\n",
      "Warning message in cor(x, y):\n",
      "“the standard deviation is zero”\n",
      "Warning message in cor(rank(x), rank(y)):\n",
      "“the standard deviation is zero”\n",
      "Warning message in cor(x, y):\n",
      "“the standard deviation is zero”\n",
      "Warning message in cor(rank(x), rank(y)):\n",
      "“the standard deviation is zero”\n"
     ]
    },
    {
     "name": "stdout",
     "output_type": "stream",
     "text": [
      "  |====================================================================  |  97%"
     ]
    },
    {
     "name": "stderr",
     "output_type": "stream",
     "text": [
      "Warning message in cor(x, y):\n",
      "“the standard deviation is zero”\n",
      "Warning message in cor(rank(x), rank(y)):\n",
      "“the standard deviation is zero”\n",
      "Warning message in cor(x, y):\n",
      "“the standard deviation is zero”\n",
      "Warning message in cor(rank(x), rank(y)):\n",
      "“the standard deviation is zero”\n",
      "Warning message in cor(x, y):\n",
      "“the standard deviation is zero”\n",
      "Warning message in cor(rank(x), rank(y)):\n",
      "“the standard deviation is zero”\n",
      "Warning message in cor(x, y):\n",
      "“the standard deviation is zero”\n",
      "Warning message in cor(rank(x), rank(y)):\n",
      "“the standard deviation is zero”\n",
      "Warning message in cor(x, y):\n",
      "“the standard deviation is zero”\n",
      "Warning message in cor(rank(x), rank(y)):\n",
      "“the standard deviation is zero”\n",
      "Warning message in cor(x, y):\n",
      "“the standard deviation is zero”\n",
      "Warning message in cor(rank(x), rank(y)):\n",
      "“the standard deviation is zero”\n",
      "Warning message in cor(x, y):\n",
      "“the standard deviation is zero”\n",
      "Warning message in cor(rank(x), rank(y)):\n",
      "“the standard deviation is zero”\n",
      "Warning message in cor(x, y):\n",
      "“the standard deviation is zero”\n",
      "Warning message in cor(rank(x), rank(y)):\n",
      "“the standard deviation is zero”\n",
      "Warning message in cor(x, y):\n",
      "“the standard deviation is zero”\n",
      "Warning message in cor(rank(x), rank(y)):\n",
      "“the standard deviation is zero”\n",
      "Warning message in cor(x, y):\n",
      "“the standard deviation is zero”\n",
      "Warning message in cor(rank(x), rank(y)):\n",
      "“the standard deviation is zero”\n",
      "Warning message in cor(x, y):\n",
      "“the standard deviation is zero”\n",
      "Warning message in cor(rank(x), rank(y)):\n",
      "“the standard deviation is zero”\n",
      "Warning message in cor(x, y):\n",
      "“the standard deviation is zero”\n",
      "Warning message in cor(rank(x), rank(y)):\n",
      "“the standard deviation is zero”\n",
      "Warning message in cor(x, y):\n",
      "“the standard deviation is zero”\n",
      "Warning message in cor(rank(x), rank(y)):\n",
      "“the standard deviation is zero”\n"
     ]
    },
    {
     "name": "stdout",
     "output_type": "stream",
     "text": [
      "  |====================================================================  |  98%"
     ]
    },
    {
     "name": "stderr",
     "output_type": "stream",
     "text": [
      "Warning message in cor(x, y):\n",
      "“the standard deviation is zero”\n",
      "Warning message in cor(rank(x), rank(y)):\n",
      "“the standard deviation is zero”\n",
      "Warning message in cor(x, y):\n",
      "“the standard deviation is zero”\n",
      "Warning message in cor(rank(x), rank(y)):\n",
      "“the standard deviation is zero”\n"
     ]
    },
    {
     "name": "stdout",
     "output_type": "stream",
     "text": [
      "  |===================================================================== |  98%"
     ]
    },
    {
     "name": "stderr",
     "output_type": "stream",
     "text": [
      "Warning message in cor(x, y):\n",
      "“the standard deviation is zero”\n",
      "Warning message in cor(rank(x), rank(y)):\n",
      "“the standard deviation is zero”\n",
      "Warning message in cor(x, y):\n",
      "“the standard deviation is zero”\n",
      "Warning message in cor(rank(x), rank(y)):\n",
      "“the standard deviation is zero”\n",
      "Warning message in cor(x, y):\n",
      "“the standard deviation is zero”\n",
      "Warning message in cor(rank(x), rank(y)):\n",
      "“the standard deviation is zero”\n",
      "Warning message in cor(x, y):\n",
      "“the standard deviation is zero”\n",
      "Warning message in cor(rank(x), rank(y)):\n",
      "“the standard deviation is zero”\n",
      "Warning message in cor(x, y):\n",
      "“the standard deviation is zero”\n",
      "Warning message in cor(rank(x), rank(y)):\n",
      "“the standard deviation is zero”\n",
      "Warning message in cor(x, y):\n",
      "“the standard deviation is zero”\n",
      "Warning message in cor(rank(x), rank(y)):\n",
      "“the standard deviation is zero”\n",
      "Warning message in cor(x, y):\n",
      "“the standard deviation is zero”\n",
      "Warning message in cor(rank(x), rank(y)):\n",
      "“the standard deviation is zero”\n"
     ]
    },
    {
     "name": "stdout",
     "output_type": "stream",
     "text": [
      "  |===================================================================== |  99%"
     ]
    },
    {
     "name": "stderr",
     "output_type": "stream",
     "text": [
      "Warning message in cor(x, y):\n",
      "“the standard deviation is zero”\n",
      "Warning message in cor(rank(x), rank(y)):\n",
      "“the standard deviation is zero”\n",
      "Warning message in cor(x, y):\n",
      "“the standard deviation is zero”\n",
      "Warning message in cor(rank(x), rank(y)):\n",
      "“the standard deviation is zero”\n",
      "Warning message in cor(x, y):\n",
      "“the standard deviation is zero”\n",
      "Warning message in cor(rank(x), rank(y)):\n",
      "“the standard deviation is zero”\n",
      "Warning message in cor(x, y):\n",
      "“the standard deviation is zero”\n",
      "Warning message in cor(rank(x), rank(y)):\n",
      "“the standard deviation is zero”\n",
      "Warning message in cor(x, y):\n",
      "“the standard deviation is zero”\n",
      "Warning message in cor(rank(x), rank(y)):\n",
      "“the standard deviation is zero”\n",
      "Warning message in cor(x, y):\n",
      "“the standard deviation is zero”\n",
      "Warning message in cor(rank(x), rank(y)):\n",
      "“the standard deviation is zero”\n",
      "Warning message in cor(x, y):\n",
      "“the standard deviation is zero”\n",
      "Warning message in cor(rank(x), rank(y)):\n",
      "“the standard deviation is zero”\n",
      "Warning message in cor(x, y):\n",
      "“the standard deviation is zero”\n",
      "Warning message in cor(rank(x), rank(y)):\n",
      "“the standard deviation is zero”\n",
      "Warning message in cor(x, y):\n",
      "“the standard deviation is zero”\n",
      "Warning message in cor(rank(x), rank(y)):\n",
      "“the standard deviation is zero”\n"
     ]
    },
    {
     "name": "stdout",
     "output_type": "stream",
     "text": [
      "  |======================================================================|  99%"
     ]
    },
    {
     "name": "stderr",
     "output_type": "stream",
     "text": [
      "Warning message in cor(x, y):\n",
      "“the standard deviation is zero”\n",
      "Warning message in cor(rank(x), rank(y)):\n",
      "“the standard deviation is zero”\n",
      "Warning message in cor(x, y):\n",
      "“the standard deviation is zero”\n",
      "Warning message in cor(rank(x), rank(y)):\n",
      "“the standard deviation is zero”\n",
      "Warning message in cor(x, y):\n",
      "“the standard deviation is zero”\n",
      "Warning message in cor(rank(x), rank(y)):\n",
      "“the standard deviation is zero”\n"
     ]
    },
    {
     "name": "stdout",
     "output_type": "stream",
     "text": [
      "  |======================================================================| 100%"
     ]
    },
    {
     "name": "stderr",
     "output_type": "stream",
     "text": [
      "Warning message in cor(x, y):\n",
      "“the standard deviation is zero”\n",
      "Warning message in cor(rank(x), rank(y)):\n",
      "“the standard deviation is zero”\n",
      "Warning message in cor(x, y):\n",
      "“the standard deviation is zero”\n",
      "Warning message in cor(rank(x), rank(y)):\n",
      "“the standard deviation is zero”\n",
      "Warning message in cor(x, y):\n",
      "“the standard deviation is zero”\n",
      "Warning message in cor(rank(x), rank(y)):\n",
      "“the standard deviation is zero”\n",
      "Warning message in cor(x, y):\n",
      "“the standard deviation is zero”\n",
      "Warning message in cor(rank(x), rank(y)):\n",
      "“the standard deviation is zero”\n",
      "Warning message in cor(x, y):\n",
      "“the standard deviation is zero”\n",
      "Warning message in cor(rank(x), rank(y)):\n",
      "“the standard deviation is zero”\n",
      "Warning message in cor(x, y):\n",
      "“the standard deviation is zero”\n",
      "Warning message in cor(rank(x), rank(y)):\n",
      "“the standard deviation is zero”\n",
      "Warning message in cor(x, y):\n",
      "“the standard deviation is zero”\n",
      "Warning message in cor(rank(x), rank(y)):\n",
      "“the standard deviation is zero”\n",
      "Warning message in cor(x, y):\n",
      "“the standard deviation is zero”\n",
      "Warning message in cor(rank(x), rank(y)):\n",
      "“the standard deviation is zero”\n"
     ]
    }
   ],
   "source": [
    "# Note, run for all activity types\n",
    "\n",
    "pb = txtProgressBar(min = 1, max = nrow(ad$var), initial = 1, style = 3)\n",
    "\n",
    "for (type in c(\"cohort\", \"DGD\")){\n",
    "  R_pearson = list()\n",
    "  R_spearman = list()\n",
    "  pval_pearson = list()\n",
    "  pval_spearman = list()\n",
    "\n",
    "  activity_type = paste(type, \"_activity\", sep = \"\")\n",
    "\n",
    "  for (i in 1:nrow(ad$var)){\n",
    "    pearson <- cor.test(ad[,i]$X, ad[,i]$layers[activity_type], method = \"pearson\")\n",
    "    R_pearson[i] <- pearson$estimate\n",
    "    pval_pearson[i] <- pearson$p.value\n",
    "    \n",
    "    spearman <- cor.test(ad[,i]$X, ad[,i]$layers[activity_type], method = \"spearman\", exact=FALSE)\n",
    "    R_spearman[i]  <- spearman$estimate\n",
    "    pval_spearman[i] <- spearman$p.value\n",
    "    \n",
    "    setTxtProgressBar(pb,i)}\n",
    "  close(pb)\n",
    "\n",
    "  ad$var[[paste0(type, \"_R_pearson\")]] <- c(R_pearson)\n",
    "  ad$var[[paste0(type, \"_pval_pearson\")]] <- c(pval_pearson)\n",
    "  ad$var[[paste0(type, \"_R_spearman\")]] <- c(R_spearman)\n",
    "  ad$var[[paste0(type, \"_pval_spearman\")]] <- c(pval_spearman)\n",
    "}"
   ]
  },
  {
   "cell_type": "markdown",
   "metadata": {},
   "source": [
    "## Step 3: Compute means"
   ]
  },
  {
   "cell_type": "code",
   "execution_count": 34,
   "metadata": {
    "vscode": {
     "languageId": "r"
    }
   },
   "outputs": [],
   "source": [
    "ad$var$mean_expression <- colMeans(ad$X)\n",
    "ad$var$cohort_mean_activity <- colMeans(ad$layers['cohort_activity'])\n",
    "ad$var$DGD_mean_activity <- colMeans(ad$layers['DGD_activity'])\n",
    "\n",
    "\n",
    "ad$uns$DGD_mean_R_pearson <- mean(ad$var$DGD_R_pearson, na.rm = TRUE)\n",
    "ad$uns$DGD_mean_R_spearman <- mean(ad$var$DGD_R_spearman, na.rm = TRUE)\n",
    "\n",
    "ad$uns$cohort_mean_R_pearson <- mean(ad$var$cohort_R_pearson, na.rm = TRUE)\n",
    "ad$uns$cohort_mean_R_spearman <-mean(ad$var$cohort_R_spearman, na.rm = TRUE)"
   ]
  },
  {
   "cell_type": "code",
   "execution_count": 10,
   "metadata": {
    "vscode": {
     "languageId": "r"
    }
   },
   "outputs": [
    {
     "data": {
      "text/html": [
       "0.00817455008400574"
      ],
      "text/latex": [
       "0.00817455008400574"
      ],
      "text/markdown": [
       "0.00817455008400574"
      ],
      "text/plain": [
       "[1] 0.00817455"
      ]
     },
     "metadata": {},
     "output_type": "display_data"
    },
    {
     "data": {
      "text/html": [
       "0.00828822448624411"
      ],
      "text/latex": [
       "0.00828822448624411"
      ],
      "text/markdown": [
       "0.00828822448624411"
      ],
      "text/plain": [
       "[1] 0.008288224"
      ]
     },
     "metadata": {},
     "output_type": "display_data"
    }
   ],
   "source": [
    "ad$uns$cohort_mean_R_pearson\n",
    "\n",
    "ad$uns$DGD_mean_R_pearson"
   ]
  },
  {
   "cell_type": "code",
   "execution_count": 8,
   "metadata": {
    "vscode": {
     "languageId": "r"
    }
   },
   "outputs": [],
   "source": [
    "setwd(\"~/jsp_student_projects/miRNA_DGD_DE_F2024/data\")\n",
    "write_h5ad(ad, \"all_samples_pc1.h5ad\")"
   ]
  },
  {
   "cell_type": "code",
   "execution_count": 24,
   "metadata": {
    "vscode": {
     "languageId": "r"
    }
   },
   "outputs": [
    {
     "data": {
      "text/html": [
       "0.00817455008400574"
      ],
      "text/latex": [
       "0.00817455008400574"
      ],
      "text/markdown": [
       "0.00817455008400574"
      ],
      "text/plain": [
       "[1] 0.00817455"
      ]
     },
     "metadata": {},
     "output_type": "display_data"
    },
    {
     "data": {
      "text/html": [
       "0.00828822448624411"
      ],
      "text/latex": [
       "0.00828822448624411"
      ],
      "text/markdown": [
       "0.00828822448624411"
      ],
      "text/plain": [
       "[1] 0.008288224"
      ]
     },
     "metadata": {},
     "output_type": "display_data"
    }
   ],
   "source": [
    "setwd(\"~/jsp_student_projects/miRNA_DGD_DE_F2024/data\")\n",
    "component_anno <- readRDS(file = \"annotation_with_component_info.rds\")\n",
    "\n",
    "ad$obs <- ad$obs %>% left_join(component_anno)"
   ]
  },
  {
   "cell_type": "markdown",
   "metadata": {},
   "source": [
    "# Step 4: Create dataframe"
   ]
  },
  {
   "cell_type": "code",
   "execution_count": 3,
   "metadata": {
    "vscode": {
     "languageId": "r"
    }
   },
   "outputs": [],
   "source": [
    "setwd(\"~/jsp_student_projects/miRNA_DGD_DE_F2024/data\")\n",
    "ad <- read_h5ad(\"all_samples_pc1.h5ad\")"
   ]
  },
  {
   "cell_type": "code",
   "execution_count": 4,
   "metadata": {
    "vscode": {
     "languageId": "r"
    }
   },
   "outputs": [
    {
     "name": "stderr",
     "output_type": "stream",
     "text": [
      "\u001b[1m\u001b[22mJoining with `by = join_by(sample_id)`\n",
      "\u001b[1m\u001b[22mJoining with `by = join_by(sample_id, miRNA)`\n",
      "\u001b[1m\u001b[22mJoining with `by = join_by(sample_id, miRNA)`\n"
     ]
    }
   ],
   "source": [
    "exp = gather(as.data.frame(ad$X) %>% rownames_to_column(\"sample_id\"), \"miRNA\", \"expression\", -sample_id)\n",
    "DGD_act = gather(as.data.frame(ad$layers[\"DGD_activity\"]) %>% rownames_to_column(\"sample_id\"), \"miRNA\", \"DGD_activity\", -sample_id) \n",
    "GM_act = gather(as.data.frame(ad$layers[\"cohort_activity\"]) %>% rownames_to_column(\"sample_id\"), \"miRNA\", \"GM_activity\", -sample_id) \n",
    "\n",
    "df <- left_join(exp, ad$obs) %>%\n",
    "    left_join(DGD_act) %>%\n",
    "    left_join(GM_act)"
   ]
  },
  {
   "cell_type": "code",
   "execution_count": 15,
   "metadata": {
    "vscode": {
     "languageId": "r"
    }
   },
   "outputs": [],
   "source": [
    "setwd(\"~/jsp_student_projects/miRNA_DGD_DE_F2024/data\")\n",
    "saveRDS(df, file=\"all_samples_df_pc1.Rda\")\n",
    "\n",
    "#df <- readRDS(file = \"all_samples_df_pc1.Rda\")\n",
    "\n",
    "#head(df)"
   ]
  },
  {
   "cell_type": "code",
   "execution_count": 14,
   "metadata": {
    "vscode": {
     "languageId": "r"
    }
   },
   "outputs": [
    {
     "name": "stderr",
     "output_type": "stream",
     "text": [
      "\u001b[1m\u001b[22mJoining with `by = join_by(sample_id, cancer_type, sample_submitter_id,\n",
      "cancer_name, primary_site, sample_type, tissue_type, tumor_descriptor,\n",
      "age_at_index, gender, vital_status, tissue_or_organ_of_origin, color)`\n"
     ]
    },
    {
     "data": {
      "text/html": [
       "<table class=\"dataframe\">\n",
       "<caption>A data.frame: 6 × 22</caption>\n",
       "<thead>\n",
       "\t<tr><th></th><th scope=col>sample_id</th><th scope=col>miRNA</th><th scope=col>expression</th><th scope=col>cancer_type</th><th scope=col>sample_submitter_id</th><th scope=col>cancer_name</th><th scope=col>primary_site</th><th scope=col>sample_type</th><th scope=col>tissue_type</th><th scope=col>tumor_descriptor</th><th scope=col>⋯</th><th scope=col>vital_status</th><th scope=col>tissue_or_organ_of_origin</th><th scope=col>color</th><th scope=col>DGD_activity</th><th scope=col>GM_activity</th><th scope=col>max_prob_density_comp</th><th scope=col>comp_name_ours</th><th scope=col>comp_name</th><th scope=col>max_association_percent</th><th scope=col>max_prob_density</th></tr>\n",
       "\t<tr><th></th><th scope=col>&lt;chr&gt;</th><th scope=col>&lt;chr&gt;</th><th scope=col>&lt;dbl&gt;</th><th scope=col>&lt;fct&gt;</th><th scope=col>&lt;chr&gt;</th><th scope=col>&lt;fct&gt;</th><th scope=col>&lt;fct&gt;</th><th scope=col>&lt;fct&gt;</th><th scope=col>&lt;fct&gt;</th><th scope=col>&lt;fct&gt;</th><th scope=col>⋯</th><th scope=col>&lt;fct&gt;</th><th scope=col>&lt;fct&gt;</th><th scope=col>&lt;fct&gt;</th><th scope=col>&lt;dbl&gt;</th><th scope=col>&lt;dbl&gt;</th><th scope=col>&lt;dbl&gt;</th><th scope=col>&lt;fct&gt;</th><th scope=col>&lt;fct&gt;</th><th scope=col>&lt;dbl&gt;</th><th scope=col>&lt;dbl&gt;</th></tr>\n",
       "</thead>\n",
       "<tbody>\n",
       "\t<tr><th scope=row>1</th><td>TCGA-EW-A6SA-01A-21R-A32P-07</td><td>hsa-let-7a-5p</td><td>63867.18</td><td>BRCA</td><td>TCGA-EW-A6SA-01A</td><td>Breast Invasive Carcinoma</td><td>Breast</td><td>Primary Tumor      </td><td>Tumor </td><td>Primary       </td><td>⋯</td><td>Alive</td><td>Breast, NOS     </td><td>#ED1E91</td><td>-1.1463613</td><td>-0.82465086</td><td>28</td><td>Breast</td><td>Breast</td><td>100.00000</td><td>9.844606e-20</td></tr>\n",
       "\t<tr><th scope=row>2</th><td>TCGA-E2-A14W-01A-11R-A12D-07</td><td>hsa-let-7a-5p</td><td>23471.88</td><td>BRCA</td><td>TCGA-E2-A14W-01A</td><td>Breast Invasive Carcinoma</td><td>Breast</td><td>Primary Tumor      </td><td>Tumor </td><td>Primary       </td><td>⋯</td><td>Alive</td><td>Breast, NOS     </td><td>#ED1E91</td><td>-1.4388003</td><td>-0.99281544</td><td>28</td><td>Breast</td><td>Breast</td><td>100.00000</td><td>1.050095e-09</td></tr>\n",
       "\t<tr><th scope=row>3</th><td>TCGA-EW-A1PD-01A-11R-A144-07</td><td>hsa-let-7a-5p</td><td>23744.03</td><td>BRCA</td><td>TCGA-EW-A1PD-01A</td><td>Breast Invasive Carcinoma</td><td>Breast</td><td>Primary Tumor      </td><td>Tumor </td><td>Primary       </td><td>⋯</td><td>Alive</td><td>Breast, NOS     </td><td>#ED1E91</td><td>-1.1172353</td><td>-0.08194884</td><td>28</td><td>Breast</td><td>Breast</td><td>100.00000</td><td>6.007054e-15</td></tr>\n",
       "\t<tr><th scope=row>4</th><td>TCGA-55-1594-01A-01R-0946-07</td><td>hsa-let-7a-5p</td><td>10814.66</td><td>LUAD</td><td>TCGA-55-1594-01A</td><td>Lung Adenocarcinoma      </td><td>Lung  </td><td>Primary Tumor      </td><td>Tumor </td><td>Primary       </td><td>⋯</td><td>Alive</td><td>Lower lobe, lung</td><td>#D2C3DF</td><td>-2.2374550</td><td>-3.47406174</td><td>13</td><td>Lung  </td><td>Cells </td><td> 93.98350</td><td>2.944543e-20</td></tr>\n",
       "\t<tr><th scope=row>5</th><td>TCGA-49-6742-11A-01R-1858-07</td><td>hsa-let-7a-5p</td><td>63666.80</td><td>LUAD</td><td>TCGA-49-6742-11A</td><td>Lung Adenocarcinoma      </td><td>Lung  </td><td>Solid Tissue Normal</td><td>Normal</td><td>Not Applicable</td><td>⋯</td><td>Dead </td><td>Upper lobe, lung</td><td>#D2C3DF</td><td> 0.5045059</td><td> 1.64744323</td><td>43</td><td>Lung  </td><td>Lung  </td><td> 99.99504</td><td>3.162420e-28</td></tr>\n",
       "\t<tr><th scope=row>6</th><td>TCGA-50-5932-11A-01R-1755-07</td><td>hsa-let-7a-5p</td><td>81765.71</td><td>LUAD</td><td>TCGA-50-5932-11A</td><td>Lung Adenocarcinoma      </td><td>Lung  </td><td>Solid Tissue Normal</td><td>Normal</td><td>Not Applicable</td><td>⋯</td><td>Dead </td><td>Upper lobe, lung</td><td>#D2C3DF</td><td> 1.0884410</td><td> 2.59366978</td><td>43</td><td>Lung  </td><td>Lung  </td><td> 99.99994</td><td>3.068785e-13</td></tr>\n",
       "</tbody>\n",
       "</table>\n"
      ],
      "text/latex": [
       "A data.frame: 6 × 22\n",
       "\\begin{tabular}{r|lllllllllllllllllllll}\n",
       "  & sample\\_id & miRNA & expression & cancer\\_type & sample\\_submitter\\_id & cancer\\_name & primary\\_site & sample\\_type & tissue\\_type & tumor\\_descriptor & ⋯ & vital\\_status & tissue\\_or\\_organ\\_of\\_origin & color & DGD\\_activity & GM\\_activity & max\\_prob\\_density\\_comp & comp\\_name\\_ours & comp\\_name & max\\_association\\_percent & max\\_prob\\_density\\\\\n",
       "  & <chr> & <chr> & <dbl> & <fct> & <chr> & <fct> & <fct> & <fct> & <fct> & <fct> & ⋯ & <fct> & <fct> & <fct> & <dbl> & <dbl> & <dbl> & <fct> & <fct> & <dbl> & <dbl>\\\\\n",
       "\\hline\n",
       "\t1 & TCGA-EW-A6SA-01A-21R-A32P-07 & hsa-let-7a-5p & 63867.18 & BRCA & TCGA-EW-A6SA-01A & Breast Invasive Carcinoma & Breast & Primary Tumor       & Tumor  & Primary        & ⋯ & Alive & Breast, NOS      & \\#ED1E91 & -1.1463613 & -0.82465086 & 28 & Breast & Breast & 100.00000 & 9.844606e-20\\\\\n",
       "\t2 & TCGA-E2-A14W-01A-11R-A12D-07 & hsa-let-7a-5p & 23471.88 & BRCA & TCGA-E2-A14W-01A & Breast Invasive Carcinoma & Breast & Primary Tumor       & Tumor  & Primary        & ⋯ & Alive & Breast, NOS      & \\#ED1E91 & -1.4388003 & -0.99281544 & 28 & Breast & Breast & 100.00000 & 1.050095e-09\\\\\n",
       "\t3 & TCGA-EW-A1PD-01A-11R-A144-07 & hsa-let-7a-5p & 23744.03 & BRCA & TCGA-EW-A1PD-01A & Breast Invasive Carcinoma & Breast & Primary Tumor       & Tumor  & Primary        & ⋯ & Alive & Breast, NOS      & \\#ED1E91 & -1.1172353 & -0.08194884 & 28 & Breast & Breast & 100.00000 & 6.007054e-15\\\\\n",
       "\t4 & TCGA-55-1594-01A-01R-0946-07 & hsa-let-7a-5p & 10814.66 & LUAD & TCGA-55-1594-01A & Lung Adenocarcinoma       & Lung   & Primary Tumor       & Tumor  & Primary        & ⋯ & Alive & Lower lobe, lung & \\#D2C3DF & -2.2374550 & -3.47406174 & 13 & Lung   & Cells  &  93.98350 & 2.944543e-20\\\\\n",
       "\t5 & TCGA-49-6742-11A-01R-1858-07 & hsa-let-7a-5p & 63666.80 & LUAD & TCGA-49-6742-11A & Lung Adenocarcinoma       & Lung   & Solid Tissue Normal & Normal & Not Applicable & ⋯ & Dead  & Upper lobe, lung & \\#D2C3DF &  0.5045059 &  1.64744323 & 43 & Lung   & Lung   &  99.99504 & 3.162420e-28\\\\\n",
       "\t6 & TCGA-50-5932-11A-01R-1755-07 & hsa-let-7a-5p & 81765.71 & LUAD & TCGA-50-5932-11A & Lung Adenocarcinoma       & Lung   & Solid Tissue Normal & Normal & Not Applicable & ⋯ & Dead  & Upper lobe, lung & \\#D2C3DF &  1.0884410 &  2.59366978 & 43 & Lung   & Lung   &  99.99994 & 3.068785e-13\\\\\n",
       "\\end{tabular}\n"
      ],
      "text/markdown": [
       "\n",
       "A data.frame: 6 × 22\n",
       "\n",
       "| <!--/--> | sample_id &lt;chr&gt; | miRNA &lt;chr&gt; | expression &lt;dbl&gt; | cancer_type &lt;fct&gt; | sample_submitter_id &lt;chr&gt; | cancer_name &lt;fct&gt; | primary_site &lt;fct&gt; | sample_type &lt;fct&gt; | tissue_type &lt;fct&gt; | tumor_descriptor &lt;fct&gt; | ⋯ ⋯ | vital_status &lt;fct&gt; | tissue_or_organ_of_origin &lt;fct&gt; | color &lt;fct&gt; | DGD_activity &lt;dbl&gt; | GM_activity &lt;dbl&gt; | max_prob_density_comp &lt;dbl&gt; | comp_name_ours &lt;fct&gt; | comp_name &lt;fct&gt; | max_association_percent &lt;dbl&gt; | max_prob_density &lt;dbl&gt; |\n",
       "|---|---|---|---|---|---|---|---|---|---|---|---|---|---|---|---|---|---|---|---|---|---|\n",
       "| 1 | TCGA-EW-A6SA-01A-21R-A32P-07 | hsa-let-7a-5p | 63867.18 | BRCA | TCGA-EW-A6SA-01A | Breast Invasive Carcinoma | Breast | Primary Tumor       | Tumor  | Primary        | ⋯ | Alive | Breast, NOS      | #ED1E91 | -1.1463613 | -0.82465086 | 28 | Breast | Breast | 100.00000 | 9.844606e-20 |\n",
       "| 2 | TCGA-E2-A14W-01A-11R-A12D-07 | hsa-let-7a-5p | 23471.88 | BRCA | TCGA-E2-A14W-01A | Breast Invasive Carcinoma | Breast | Primary Tumor       | Tumor  | Primary        | ⋯ | Alive | Breast, NOS      | #ED1E91 | -1.4388003 | -0.99281544 | 28 | Breast | Breast | 100.00000 | 1.050095e-09 |\n",
       "| 3 | TCGA-EW-A1PD-01A-11R-A144-07 | hsa-let-7a-5p | 23744.03 | BRCA | TCGA-EW-A1PD-01A | Breast Invasive Carcinoma | Breast | Primary Tumor       | Tumor  | Primary        | ⋯ | Alive | Breast, NOS      | #ED1E91 | -1.1172353 | -0.08194884 | 28 | Breast | Breast | 100.00000 | 6.007054e-15 |\n",
       "| 4 | TCGA-55-1594-01A-01R-0946-07 | hsa-let-7a-5p | 10814.66 | LUAD | TCGA-55-1594-01A | Lung Adenocarcinoma       | Lung   | Primary Tumor       | Tumor  | Primary        | ⋯ | Alive | Lower lobe, lung | #D2C3DF | -2.2374550 | -3.47406174 | 13 | Lung   | Cells  |  93.98350 | 2.944543e-20 |\n",
       "| 5 | TCGA-49-6742-11A-01R-1858-07 | hsa-let-7a-5p | 63666.80 | LUAD | TCGA-49-6742-11A | Lung Adenocarcinoma       | Lung   | Solid Tissue Normal | Normal | Not Applicable | ⋯ | Dead  | Upper lobe, lung | #D2C3DF |  0.5045059 |  1.64744323 | 43 | Lung   | Lung   |  99.99504 | 3.162420e-28 |\n",
       "| 6 | TCGA-50-5932-11A-01R-1755-07 | hsa-let-7a-5p | 81765.71 | LUAD | TCGA-50-5932-11A | Lung Adenocarcinoma       | Lung   | Solid Tissue Normal | Normal | Not Applicable | ⋯ | Dead  | Upper lobe, lung | #D2C3DF |  1.0884410 |  2.59366978 | 43 | Lung   | Lung   |  99.99994 | 3.068785e-13 |\n",
       "\n"
      ],
      "text/plain": [
       "  sample_id                    miRNA         expression cancer_type\n",
       "1 TCGA-EW-A6SA-01A-21R-A32P-07 hsa-let-7a-5p 63867.18   BRCA       \n",
       "2 TCGA-E2-A14W-01A-11R-A12D-07 hsa-let-7a-5p 23471.88   BRCA       \n",
       "3 TCGA-EW-A1PD-01A-11R-A144-07 hsa-let-7a-5p 23744.03   BRCA       \n",
       "4 TCGA-55-1594-01A-01R-0946-07 hsa-let-7a-5p 10814.66   LUAD       \n",
       "5 TCGA-49-6742-11A-01R-1858-07 hsa-let-7a-5p 63666.80   LUAD       \n",
       "6 TCGA-50-5932-11A-01R-1755-07 hsa-let-7a-5p 81765.71   LUAD       \n",
       "  sample_submitter_id cancer_name               primary_site\n",
       "1 TCGA-EW-A6SA-01A    Breast Invasive Carcinoma Breast      \n",
       "2 TCGA-E2-A14W-01A    Breast Invasive Carcinoma Breast      \n",
       "3 TCGA-EW-A1PD-01A    Breast Invasive Carcinoma Breast      \n",
       "4 TCGA-55-1594-01A    Lung Adenocarcinoma       Lung        \n",
       "5 TCGA-49-6742-11A    Lung Adenocarcinoma       Lung        \n",
       "6 TCGA-50-5932-11A    Lung Adenocarcinoma       Lung        \n",
       "  sample_type         tissue_type tumor_descriptor ⋯ vital_status\n",
       "1 Primary Tumor       Tumor       Primary          ⋯ Alive       \n",
       "2 Primary Tumor       Tumor       Primary          ⋯ Alive       \n",
       "3 Primary Tumor       Tumor       Primary          ⋯ Alive       \n",
       "4 Primary Tumor       Tumor       Primary          ⋯ Alive       \n",
       "5 Solid Tissue Normal Normal      Not Applicable   ⋯ Dead        \n",
       "6 Solid Tissue Normal Normal      Not Applicable   ⋯ Dead        \n",
       "  tissue_or_organ_of_origin color   DGD_activity GM_activity\n",
       "1 Breast, NOS               #ED1E91 -1.1463613   -0.82465086\n",
       "2 Breast, NOS               #ED1E91 -1.4388003   -0.99281544\n",
       "3 Breast, NOS               #ED1E91 -1.1172353   -0.08194884\n",
       "4 Lower lobe, lung          #D2C3DF -2.2374550   -3.47406174\n",
       "5 Upper lobe, lung          #D2C3DF  0.5045059    1.64744323\n",
       "6 Upper lobe, lung          #D2C3DF  1.0884410    2.59366978\n",
       "  max_prob_density_comp comp_name_ours comp_name max_association_percent\n",
       "1 28                    Breast         Breast    100.00000              \n",
       "2 28                    Breast         Breast    100.00000              \n",
       "3 28                    Breast         Breast    100.00000              \n",
       "4 13                    Lung           Cells      93.98350              \n",
       "5 43                    Lung           Lung       99.99504              \n",
       "6 43                    Lung           Lung       99.99994              \n",
       "  max_prob_density\n",
       "1 9.844606e-20    \n",
       "2 1.050095e-09    \n",
       "3 6.007054e-15    \n",
       "4 2.944543e-20    \n",
       "5 3.162420e-28    \n",
       "6 3.068785e-13    "
      ]
     },
     "metadata": {},
     "output_type": "display_data"
    }
   ],
   "source": [
    "head(df)"
   ]
  }
 ],
 "metadata": {
  "kernelspec": {
   "display_name": "R",
   "language": "R",
   "name": "ir"
  },
  "language_info": {
   "codemirror_mode": "r",
   "file_extension": ".r",
   "mimetype": "text/x-r-source",
   "name": "R",
   "pygments_lexer": "r",
   "version": "4.3.1"
  }
 },
 "nbformat": 4,
 "nbformat_minor": 2
}
