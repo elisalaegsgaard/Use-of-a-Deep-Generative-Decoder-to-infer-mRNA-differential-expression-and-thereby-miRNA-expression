{
 "cells": [
  {
   "cell_type": "markdown",
   "metadata": {},
   "source": [
    "# Data Wrangling\n",
    "\n",
    "* Saving filtered raw counts\n",
    "* Saving normalized filtered raw counts\n",
    "* Saving filtered DGD rescaled decoder outputs\n",
    "* Saving normalized filtered rescaled decoder outputs\n",
    "* Saving filtered log2_fold_changes\n",
    "* Saving log2 FC pseudonormal filtered \n",
    "* Saving log2_fold_changes using the normalized rescaled decoder outputs and the normalized  counts\n",
    "* Saving some miReact results"
   ]
  },
  {
   "cell_type": "code",
   "execution_count": 1,
   "metadata": {
    "vscode": {
     "languageId": "r"
    }
   },
   "outputs": [
    {
     "name": "stderr",
     "output_type": "stream",
     "text": [
      "── \u001b[1mAttaching core tidyverse packages\u001b[22m ──────────────────────── tidyverse 2.0.0 ──\n",
      "\u001b[32m✔\u001b[39m \u001b[34mdplyr    \u001b[39m 1.1.4     \u001b[32m✔\u001b[39m \u001b[34mreadr    \u001b[39m 2.1.5\n",
      "\u001b[32m✔\u001b[39m \u001b[34mforcats  \u001b[39m 1.0.0     \u001b[32m✔\u001b[39m \u001b[34mstringr  \u001b[39m 1.5.1\n",
      "\u001b[32m✔\u001b[39m \u001b[34mggplot2  \u001b[39m 3.5.0     \u001b[32m✔\u001b[39m \u001b[34mtibble   \u001b[39m 3.2.1\n",
      "\u001b[32m✔\u001b[39m \u001b[34mlubridate\u001b[39m 1.9.3     \u001b[32m✔\u001b[39m \u001b[34mtidyr    \u001b[39m 1.3.1\n",
      "\u001b[32m✔\u001b[39m \u001b[34mpurrr    \u001b[39m 1.0.2     \n",
      "── \u001b[1mConflicts\u001b[22m ────────────────────────────────────────── tidyverse_conflicts() ──\n",
      "\u001b[31m✖\u001b[39m \u001b[34mdplyr\u001b[39m::\u001b[32mfilter()\u001b[39m masks \u001b[34mstats\u001b[39m::filter()\n",
      "\u001b[31m✖\u001b[39m \u001b[34mdplyr\u001b[39m::\u001b[32mlag()\u001b[39m    masks \u001b[34mstats\u001b[39m::lag()\n",
      "\u001b[36mℹ\u001b[39m Use the conflicted package (\u001b[3m\u001b[34m<http://conflicted.r-lib.org/>\u001b[39m\u001b[23m) to force all conflicts to become errors\n"
     ]
    }
   ],
   "source": [
    "library(tidyverse)"
   ]
  },
  {
   "cell_type": "markdown",
   "metadata": {},
   "source": [
    "### Saving filtered raw counts"
   ]
  },
  {
   "cell_type": "code",
   "execution_count": 2,
   "metadata": {
    "vscode": {
     "languageId": "r"
    }
   },
   "outputs": [
    {
     "data": {
      "text/html": [
       "<style>\n",
       ".list-inline {list-style: none; margin:0; padding: 0}\n",
       ".list-inline>li {display: inline-block}\n",
       ".list-inline>li:not(:last-child)::after {content: \"\\00b7\"; padding: 0 .5ex}\n",
       "</style>\n",
       "<ol class=list-inline><li>16883</li><li>10682</li></ol>\n"
      ],
      "text/latex": [
       "\\begin{enumerate*}\n",
       "\\item 16883\n",
       "\\item 10682\n",
       "\\end{enumerate*}\n"
      ],
      "text/markdown": [
       "1. 16883\n",
       "2. 10682\n",
       "\n",
       "\n"
      ],
      "text/plain": [
       "[1] 16883 10682"
      ]
     },
     "metadata": {},
     "output_type": "display_data"
    },
    {
     "data": {
      "text/html": [
       "<table class=\"dataframe\">\n",
       "<caption>A matrix: 6 × 10682 of type dbl</caption>\n",
       "<thead>\n",
       "\t<tr><th></th><th scope=col>TCGA-EW-A6SA-01A-21R-A32P-07</th><th scope=col>TCGA-E2-A14W-01A-11R-A12D-07</th><th scope=col>TCGA-EW-A1PD-01A-11R-A144-07</th><th scope=col>TCGA-55-1594-01A-01R-0946-07</th><th scope=col>TCGA-49-6742-11A-01R-1858-07</th><th scope=col>TCGA-50-5932-11A-01R-1755-07</th><th scope=col>TCGA-95-7947-01A-11R-2187-07</th><th scope=col>TCGA-CG-4476-01A-01R-1157-13</th><th scope=col>TCGA-05-4410-01A-21R-1858-07</th><th scope=col>TCGA-CG-5717-01A-11R-1602-13</th><th scope=col>⋯</th><th scope=col>TCGA-D8-A1Y1-01A-21R-A14M-07</th><th scope=col>TCGA-E2-A14X-01A-11R-A115-07</th><th scope=col>TCGA-A8-A08R-01A-11R-A034-07</th><th scope=col>TCGA-E2-A573-01A-11R-A29R-07</th><th scope=col>TCGA-HN-A2OB-01A-21R-A27Q-07</th><th scope=col>TCGA-E9-A1RD-11A-33R-A157-07</th><th scope=col>TCGA-A2-A4S3-01A-21R-A266-07</th><th scope=col>TCGA-AR-A0TV-01A-21R-A084-07</th><th scope=col>TCGA-AR-A2LQ-01A-22R-A18M-07</th><th scope=col>TCGA-C8-A12Z-01A-11R-A115-07</th></tr>\n",
       "</thead>\n",
       "<tbody>\n",
       "\t<tr><th scope=row>ENSG00000187634</th><td>-0.6317677</td><td> 0.195998250</td><td>-0.1619515</td><td>-1.4866810</td><td> 0.3030499200</td><td> 0.59487826</td><td>-0.3883295</td><td>-0.343853100</td><td>-0.7189528</td><td>-0.44318140</td><td>⋯</td><td>-1.6715163</td><td>-0.5213546</td><td>-1.170832200</td><td>-0.2970428</td><td> 0.8706182</td><td> 0.6235211</td><td> 0.0131509</td><td>-0.78709070</td><td> 0.8002608</td><td> 0.7622859</td></tr>\n",
       "\t<tr><th scope=row>ENSG00000188976</th><td> 0.1657946</td><td> 0.630711100</td><td> 0.4760690</td><td>-0.1102203</td><td> 0.2534757600</td><td> 0.27276218</td><td>-0.1240866</td><td> 0.001012279</td><td> 0.2390310</td><td>-0.24221367</td><td>⋯</td><td>-0.5259638</td><td> 0.4126003</td><td> 0.001202689</td><td> 0.1791519</td><td> 0.4889731</td><td> 0.3397694</td><td> 0.2747676</td><td> 0.36138910</td><td> 0.2376195</td><td>-0.4288155</td></tr>\n",
       "\t<tr><th scope=row>ENSG00000187961</th><td>-0.1387403</td><td>-0.574404000</td><td>-0.2801535</td><td>-0.1924673</td><td>-0.0840056800</td><td>-0.09605455</td><td>-1.3871883</td><td>-0.124975330</td><td>-0.4042621</td><td>-0.43463630</td><td>⋯</td><td>-0.7810574</td><td>-1.2282520</td><td>-0.835091530</td><td>-1.2075816</td><td>-0.2132758</td><td>-0.4217334</td><td>-0.9551033</td><td>-0.57213616</td><td>-0.7094557</td><td>-0.8572454</td></tr>\n",
       "\t<tr><th scope=row>ENSG00000187583</th><td>-1.7987337</td><td>-0.006567637</td><td>-2.0238833</td><td>-4.0729190</td><td>-0.0008413264</td><td> 0.10709301</td><td>-3.6079120</td><td>-2.718879000</td><td>-0.7510945</td><td>-0.09493367</td><td>⋯</td><td>-1.8078252</td><td>-0.2641785</td><td>-1.982473500</td><td>-1.6360275</td><td>-0.2521651</td><td> 0.7681422</td><td>-1.6853080</td><td>-1.62230060</td><td> 0.0677278</td><td>-2.5329130</td></tr>\n",
       "\t<tr><th scope=row>ENSG00000187642</th><td>-1.4372202</td><td> 0.461624830</td><td>-1.7370303</td><td>-3.5281708</td><td> 0.4111675300</td><td> 0.04026748</td><td>-2.3723087</td><td>-2.585098000</td><td>-0.1580654</td><td>-0.85026310</td><td>⋯</td><td>-1.5900720</td><td> 0.5290232</td><td>-1.718671400</td><td>-1.1932127</td><td> 0.5421603</td><td> 1.2870241</td><td>-1.2129118</td><td>-0.08827896</td><td> 1.1369029</td><td>-1.1988158</td></tr>\n",
       "\t<tr><th scope=row>ENSG00000188290</th><td>-0.9131405</td><td>-2.455207600</td><td>-0.6497661</td><td>-0.9287488</td><td>-0.1292976900</td><td> 0.06905619</td><td> 0.3191285</td><td>-0.305782200</td><td>-0.2436821</td><td> 0.79916173</td><td>⋯</td><td>-1.2299562</td><td>-1.9644310</td><td>-1.663110900</td><td>-1.5358509</td><td>-0.9253867</td><td> 0.6055120</td><td>-0.2448734</td><td> 0.09419273</td><td> 0.1273140</td><td>-0.5046041</td></tr>\n",
       "</tbody>\n",
       "</table>\n"
      ],
      "text/latex": [
       "A matrix: 6 × 10682 of type dbl\n",
       "\\begin{tabular}{r|lllllllllllllllllllll}\n",
       "  & TCGA-EW-A6SA-01A-21R-A32P-07 & TCGA-E2-A14W-01A-11R-A12D-07 & TCGA-EW-A1PD-01A-11R-A144-07 & TCGA-55-1594-01A-01R-0946-07 & TCGA-49-6742-11A-01R-1858-07 & TCGA-50-5932-11A-01R-1755-07 & TCGA-95-7947-01A-11R-2187-07 & TCGA-CG-4476-01A-01R-1157-13 & TCGA-05-4410-01A-21R-1858-07 & TCGA-CG-5717-01A-11R-1602-13 & ⋯ & TCGA-D8-A1Y1-01A-21R-A14M-07 & TCGA-E2-A14X-01A-11R-A115-07 & TCGA-A8-A08R-01A-11R-A034-07 & TCGA-E2-A573-01A-11R-A29R-07 & TCGA-HN-A2OB-01A-21R-A27Q-07 & TCGA-E9-A1RD-11A-33R-A157-07 & TCGA-A2-A4S3-01A-21R-A266-07 & TCGA-AR-A0TV-01A-21R-A084-07 & TCGA-AR-A2LQ-01A-22R-A18M-07 & TCGA-C8-A12Z-01A-11R-A115-07\\\\\n",
       "\\hline\n",
       "\tENSG00000187634 & -0.6317677 &  0.195998250 & -0.1619515 & -1.4866810 &  0.3030499200 &  0.59487826 & -0.3883295 & -0.343853100 & -0.7189528 & -0.44318140 & ⋯ & -1.6715163 & -0.5213546 & -1.170832200 & -0.2970428 &  0.8706182 &  0.6235211 &  0.0131509 & -0.78709070 &  0.8002608 &  0.7622859\\\\\n",
       "\tENSG00000188976 &  0.1657946 &  0.630711100 &  0.4760690 & -0.1102203 &  0.2534757600 &  0.27276218 & -0.1240866 &  0.001012279 &  0.2390310 & -0.24221367 & ⋯ & -0.5259638 &  0.4126003 &  0.001202689 &  0.1791519 &  0.4889731 &  0.3397694 &  0.2747676 &  0.36138910 &  0.2376195 & -0.4288155\\\\\n",
       "\tENSG00000187961 & -0.1387403 & -0.574404000 & -0.2801535 & -0.1924673 & -0.0840056800 & -0.09605455 & -1.3871883 & -0.124975330 & -0.4042621 & -0.43463630 & ⋯ & -0.7810574 & -1.2282520 & -0.835091530 & -1.2075816 & -0.2132758 & -0.4217334 & -0.9551033 & -0.57213616 & -0.7094557 & -0.8572454\\\\\n",
       "\tENSG00000187583 & -1.7987337 & -0.006567637 & -2.0238833 & -4.0729190 & -0.0008413264 &  0.10709301 & -3.6079120 & -2.718879000 & -0.7510945 & -0.09493367 & ⋯ & -1.8078252 & -0.2641785 & -1.982473500 & -1.6360275 & -0.2521651 &  0.7681422 & -1.6853080 & -1.62230060 &  0.0677278 & -2.5329130\\\\\n",
       "\tENSG00000187642 & -1.4372202 &  0.461624830 & -1.7370303 & -3.5281708 &  0.4111675300 &  0.04026748 & -2.3723087 & -2.585098000 & -0.1580654 & -0.85026310 & ⋯ & -1.5900720 &  0.5290232 & -1.718671400 & -1.1932127 &  0.5421603 &  1.2870241 & -1.2129118 & -0.08827896 &  1.1369029 & -1.1988158\\\\\n",
       "\tENSG00000188290 & -0.9131405 & -2.455207600 & -0.6497661 & -0.9287488 & -0.1292976900 &  0.06905619 &  0.3191285 & -0.305782200 & -0.2436821 &  0.79916173 & ⋯ & -1.2299562 & -1.9644310 & -1.663110900 & -1.5358509 & -0.9253867 &  0.6055120 & -0.2448734 &  0.09419273 &  0.1273140 & -0.5046041\\\\\n",
       "\\end{tabular}\n"
      ],
      "text/markdown": [
       "\n",
       "A matrix: 6 × 10682 of type dbl\n",
       "\n",
       "| <!--/--> | TCGA-EW-A6SA-01A-21R-A32P-07 | TCGA-E2-A14W-01A-11R-A12D-07 | TCGA-EW-A1PD-01A-11R-A144-07 | TCGA-55-1594-01A-01R-0946-07 | TCGA-49-6742-11A-01R-1858-07 | TCGA-50-5932-11A-01R-1755-07 | TCGA-95-7947-01A-11R-2187-07 | TCGA-CG-4476-01A-01R-1157-13 | TCGA-05-4410-01A-21R-1858-07 | TCGA-CG-5717-01A-11R-1602-13 | ⋯ | TCGA-D8-A1Y1-01A-21R-A14M-07 | TCGA-E2-A14X-01A-11R-A115-07 | TCGA-A8-A08R-01A-11R-A034-07 | TCGA-E2-A573-01A-11R-A29R-07 | TCGA-HN-A2OB-01A-21R-A27Q-07 | TCGA-E9-A1RD-11A-33R-A157-07 | TCGA-A2-A4S3-01A-21R-A266-07 | TCGA-AR-A0TV-01A-21R-A084-07 | TCGA-AR-A2LQ-01A-22R-A18M-07 | TCGA-C8-A12Z-01A-11R-A115-07 |\n",
       "|---|---|---|---|---|---|---|---|---|---|---|---|---|---|---|---|---|---|---|---|---|---|\n",
       "| ENSG00000187634 | -0.6317677 |  0.195998250 | -0.1619515 | -1.4866810 |  0.3030499200 |  0.59487826 | -0.3883295 | -0.343853100 | -0.7189528 | -0.44318140 | ⋯ | -1.6715163 | -0.5213546 | -1.170832200 | -0.2970428 |  0.8706182 |  0.6235211 |  0.0131509 | -0.78709070 |  0.8002608 |  0.7622859 |\n",
       "| ENSG00000188976 |  0.1657946 |  0.630711100 |  0.4760690 | -0.1102203 |  0.2534757600 |  0.27276218 | -0.1240866 |  0.001012279 |  0.2390310 | -0.24221367 | ⋯ | -0.5259638 |  0.4126003 |  0.001202689 |  0.1791519 |  0.4889731 |  0.3397694 |  0.2747676 |  0.36138910 |  0.2376195 | -0.4288155 |\n",
       "| ENSG00000187961 | -0.1387403 | -0.574404000 | -0.2801535 | -0.1924673 | -0.0840056800 | -0.09605455 | -1.3871883 | -0.124975330 | -0.4042621 | -0.43463630 | ⋯ | -0.7810574 | -1.2282520 | -0.835091530 | -1.2075816 | -0.2132758 | -0.4217334 | -0.9551033 | -0.57213616 | -0.7094557 | -0.8572454 |\n",
       "| ENSG00000187583 | -1.7987337 | -0.006567637 | -2.0238833 | -4.0729190 | -0.0008413264 |  0.10709301 | -3.6079120 | -2.718879000 | -0.7510945 | -0.09493367 | ⋯ | -1.8078252 | -0.2641785 | -1.982473500 | -1.6360275 | -0.2521651 |  0.7681422 | -1.6853080 | -1.62230060 |  0.0677278 | -2.5329130 |\n",
       "| ENSG00000187642 | -1.4372202 |  0.461624830 | -1.7370303 | -3.5281708 |  0.4111675300 |  0.04026748 | -2.3723087 | -2.585098000 | -0.1580654 | -0.85026310 | ⋯ | -1.5900720 |  0.5290232 | -1.718671400 | -1.1932127 |  0.5421603 |  1.2870241 | -1.2129118 | -0.08827896 |  1.1369029 | -1.1988158 |\n",
       "| ENSG00000188290 | -0.9131405 | -2.455207600 | -0.6497661 | -0.9287488 | -0.1292976900 |  0.06905619 |  0.3191285 | -0.305782200 | -0.2436821 |  0.79916173 | ⋯ | -1.2299562 | -1.9644310 | -1.663110900 | -1.5358509 | -0.9253867 |  0.6055120 | -0.2448734 |  0.09419273 |  0.1273140 | -0.5046041 |\n",
       "\n"
      ],
      "text/plain": [
       "                TCGA-EW-A6SA-01A-21R-A32P-07 TCGA-E2-A14W-01A-11R-A12D-07\n",
       "ENSG00000187634 -0.6317677                    0.195998250                \n",
       "ENSG00000188976  0.1657946                    0.630711100                \n",
       "ENSG00000187961 -0.1387403                   -0.574404000                \n",
       "ENSG00000187583 -1.7987337                   -0.006567637                \n",
       "ENSG00000187642 -1.4372202                    0.461624830                \n",
       "ENSG00000188290 -0.9131405                   -2.455207600                \n",
       "                TCGA-EW-A1PD-01A-11R-A144-07 TCGA-55-1594-01A-01R-0946-07\n",
       "ENSG00000187634 -0.1619515                   -1.4866810                  \n",
       "ENSG00000188976  0.4760690                   -0.1102203                  \n",
       "ENSG00000187961 -0.2801535                   -0.1924673                  \n",
       "ENSG00000187583 -2.0238833                   -4.0729190                  \n",
       "ENSG00000187642 -1.7370303                   -3.5281708                  \n",
       "ENSG00000188290 -0.6497661                   -0.9287488                  \n",
       "                TCGA-49-6742-11A-01R-1858-07 TCGA-50-5932-11A-01R-1755-07\n",
       "ENSG00000187634  0.3030499200                 0.59487826                 \n",
       "ENSG00000188976  0.2534757600                 0.27276218                 \n",
       "ENSG00000187961 -0.0840056800                -0.09605455                 \n",
       "ENSG00000187583 -0.0008413264                 0.10709301                 \n",
       "ENSG00000187642  0.4111675300                 0.04026748                 \n",
       "ENSG00000188290 -0.1292976900                 0.06905619                 \n",
       "                TCGA-95-7947-01A-11R-2187-07 TCGA-CG-4476-01A-01R-1157-13\n",
       "ENSG00000187634 -0.3883295                   -0.343853100                \n",
       "ENSG00000188976 -0.1240866                    0.001012279                \n",
       "ENSG00000187961 -1.3871883                   -0.124975330                \n",
       "ENSG00000187583 -3.6079120                   -2.718879000                \n",
       "ENSG00000187642 -2.3723087                   -2.585098000                \n",
       "ENSG00000188290  0.3191285                   -0.305782200                \n",
       "                TCGA-05-4410-01A-21R-1858-07 TCGA-CG-5717-01A-11R-1602-13 ⋯\n",
       "ENSG00000187634 -0.7189528                   -0.44318140                  ⋯\n",
       "ENSG00000188976  0.2390310                   -0.24221367                  ⋯\n",
       "ENSG00000187961 -0.4042621                   -0.43463630                  ⋯\n",
       "ENSG00000187583 -0.7510945                   -0.09493367                  ⋯\n",
       "ENSG00000187642 -0.1580654                   -0.85026310                  ⋯\n",
       "ENSG00000188290 -0.2436821                    0.79916173                  ⋯\n",
       "                TCGA-D8-A1Y1-01A-21R-A14M-07 TCGA-E2-A14X-01A-11R-A115-07\n",
       "ENSG00000187634 -1.6715163                   -0.5213546                  \n",
       "ENSG00000188976 -0.5259638                    0.4126003                  \n",
       "ENSG00000187961 -0.7810574                   -1.2282520                  \n",
       "ENSG00000187583 -1.8078252                   -0.2641785                  \n",
       "ENSG00000187642 -1.5900720                    0.5290232                  \n",
       "ENSG00000188290 -1.2299562                   -1.9644310                  \n",
       "                TCGA-A8-A08R-01A-11R-A034-07 TCGA-E2-A573-01A-11R-A29R-07\n",
       "ENSG00000187634 -1.170832200                 -0.2970428                  \n",
       "ENSG00000188976  0.001202689                  0.1791519                  \n",
       "ENSG00000187961 -0.835091530                 -1.2075816                  \n",
       "ENSG00000187583 -1.982473500                 -1.6360275                  \n",
       "ENSG00000187642 -1.718671400                 -1.1932127                  \n",
       "ENSG00000188290 -1.663110900                 -1.5358509                  \n",
       "                TCGA-HN-A2OB-01A-21R-A27Q-07 TCGA-E9-A1RD-11A-33R-A157-07\n",
       "ENSG00000187634  0.8706182                    0.6235211                  \n",
       "ENSG00000188976  0.4889731                    0.3397694                  \n",
       "ENSG00000187961 -0.2132758                   -0.4217334                  \n",
       "ENSG00000187583 -0.2521651                    0.7681422                  \n",
       "ENSG00000187642  0.5421603                    1.2870241                  \n",
       "ENSG00000188290 -0.9253867                    0.6055120                  \n",
       "                TCGA-A2-A4S3-01A-21R-A266-07 TCGA-AR-A0TV-01A-21R-A084-07\n",
       "ENSG00000187634  0.0131509                   -0.78709070                 \n",
       "ENSG00000188976  0.2747676                    0.36138910                 \n",
       "ENSG00000187961 -0.9551033                   -0.57213616                 \n",
       "ENSG00000187583 -1.6853080                   -1.62230060                 \n",
       "ENSG00000187642 -1.2129118                   -0.08827896                 \n",
       "ENSG00000188290 -0.2448734                    0.09419273                 \n",
       "                TCGA-AR-A2LQ-01A-22R-A18M-07 TCGA-C8-A12Z-01A-11R-A115-07\n",
       "ENSG00000187634  0.8002608                    0.7622859                  \n",
       "ENSG00000188976  0.2376195                   -0.4288155                  \n",
       "ENSG00000187961 -0.7094557                   -0.8572454                  \n",
       "ENSG00000187583  0.0677278                   -2.5329130                  \n",
       "ENSG00000187642  1.1369029                   -1.1988158                  \n",
       "ENSG00000188290  0.1273140                   -0.5046041                  "
      ]
     },
     "metadata": {},
     "output_type": "display_data"
    }
   ],
   "source": [
    "fold <- readRDS(\"/home/elisalaegsgaard/jsp_student_projects/miRNA_DGD_DE_F2024/DGD/data/full_TCGA/fold_change_home_calc_mat.rds\") # random fold change to get DGD's genes\n",
    "dim(fold)\n",
    "head(fold)"
   ]
  },
  {
   "cell_type": "code",
   "execution_count": 3,
   "metadata": {
    "vscode": {
     "languageId": "r"
    }
   },
   "outputs": [
    {
     "data": {
      "text/html": [
       "TRUE"
      ],
      "text/latex": [
       "TRUE"
      ],
      "text/markdown": [
       "TRUE"
      ],
      "text/plain": [
       "[1] TRUE"
      ]
     },
     "metadata": {},
     "output_type": "display_data"
    },
    {
     "data": {
      "text/html": [
       "<style>\n",
       ".list-inline {list-style: none; margin:0; padding: 0}\n",
       ".list-inline>li {display: inline-block}\n",
       ".list-inline>li:not(:last-child)::after {content: \"\\00b7\"; padding: 0 .5ex}\n",
       "</style>\n",
       "<ol class=list-inline><li>19784</li><li>10682</li></ol>\n"
      ],
      "text/latex": [
       "\\begin{enumerate*}\n",
       "\\item 19784\n",
       "\\item 10682\n",
       "\\end{enumerate*}\n"
      ],
      "text/markdown": [
       "1. 19784\n",
       "2. 10682\n",
       "\n",
       "\n"
      ],
      "text/plain": [
       "[1] 19784 10682"
      ]
     },
     "metadata": {},
     "output_type": "display_data"
    },
    {
     "data": {
      "text/html": [
       "<table class=\"dataframe\">\n",
       "<caption>A matrix: 6 × 10682 of type dbl</caption>\n",
       "<thead>\n",
       "\t<tr><th></th><th scope=col>TCGA-EW-A6SA-01A-21R-A32P-07</th><th scope=col>TCGA-E2-A14W-01A-11R-A12D-07</th><th scope=col>TCGA-EW-A1PD-01A-11R-A144-07</th><th scope=col>TCGA-55-1594-01A-01R-0946-07</th><th scope=col>TCGA-49-6742-11A-01R-1858-07</th><th scope=col>TCGA-50-5932-11A-01R-1755-07</th><th scope=col>TCGA-95-7947-01A-11R-2187-07</th><th scope=col>TCGA-CG-4476-01A-01R-1157-13</th><th scope=col>TCGA-05-4410-01A-21R-1858-07</th><th scope=col>TCGA-CG-5717-01A-11R-1602-13</th><th scope=col>⋯</th><th scope=col>TCGA-D8-A1Y1-01A-21R-A14M-07</th><th scope=col>TCGA-E2-A14X-01A-11R-A115-07</th><th scope=col>TCGA-A8-A08R-01A-11R-A034-07</th><th scope=col>TCGA-E2-A573-01A-11R-A29R-07</th><th scope=col>TCGA-HN-A2OB-01A-21R-A27Q-07</th><th scope=col>TCGA-E9-A1RD-11A-33R-A157-07</th><th scope=col>TCGA-A2-A4S3-01A-21R-A266-07</th><th scope=col>TCGA-AR-A0TV-01A-21R-A084-07</th><th scope=col>TCGA-AR-A2LQ-01A-22R-A18M-07</th><th scope=col>TCGA-C8-A12Z-01A-11R-A115-07</th></tr>\n",
       "</thead>\n",
       "<tbody>\n",
       "\t<tr><th scope=row>ENSG00000186092</th><td>   0</td><td>   0</td><td>   0</td><td>   0</td><td>   0</td><td>   0</td><td>   0</td><td>   0</td><td>   0</td><td>   0</td><td>⋯</td><td>   0</td><td>   0</td><td>   0</td><td>   0</td><td>   0</td><td>   0</td><td>   0</td><td>   0</td><td>   0</td><td>   0</td></tr>\n",
       "\t<tr><th scope=row>ENSG00000278566</th><td>   0</td><td>   0</td><td>   0</td><td>   0</td><td>   0</td><td>   0</td><td>   0</td><td>   0</td><td>   0</td><td>   0</td><td>⋯</td><td>   0</td><td>   0</td><td>   0</td><td>   0</td><td>   0</td><td>   0</td><td>   0</td><td>   0</td><td>   0</td><td>   0</td></tr>\n",
       "\t<tr><th scope=row>ENSG00000273547</th><td>   1</td><td>   0</td><td>   1</td><td>   0</td><td>   0</td><td>   0</td><td>   3</td><td>   3</td><td>   0</td><td>   0</td><td>⋯</td><td>   5</td><td>   1</td><td>   0</td><td>   0</td><td>   0</td><td>   0</td><td>   0</td><td>   2</td><td>   0</td><td>   0</td></tr>\n",
       "\t<tr><th scope=row>ENSG00000187634</th><td>1413</td><td>1562</td><td> 912</td><td> 501</td><td> 321</td><td> 234</td><td> 590</td><td> 821</td><td> 271</td><td> 672</td><td>⋯</td><td> 596</td><td>1128</td><td> 582</td><td>1353</td><td>1333</td><td> 458</td><td>1128</td><td> 671</td><td> 982</td><td>1350</td></tr>\n",
       "\t<tr><th scope=row>ENSG00000188976</th><td>9723</td><td>6455</td><td>7050</td><td>4238</td><td>1791</td><td>1280</td><td>4973</td><td>3666</td><td>2325</td><td>3717</td><td>⋯</td><td>4419</td><td>9720</td><td>5661</td><td>5226</td><td>4777</td><td>3152</td><td>5675</td><td>6891</td><td>2900</td><td>2706</td></tr>\n",
       "\t<tr><th scope=row>ENSG00000187961</th><td>1310</td><td> 299</td><td> 439</td><td> 459</td><td>  93</td><td>  80</td><td> 226</td><td> 291</td><td> 172</td><td> 296</td><td>⋯</td><td> 334</td><td> 296</td><td> 339</td><td> 387</td><td> 450</td><td> 158</td><td> 347</td><td> 404</td><td> 146</td><td> 131</td></tr>\n",
       "</tbody>\n",
       "</table>\n"
      ],
      "text/latex": [
       "A matrix: 6 × 10682 of type dbl\n",
       "\\begin{tabular}{r|lllllllllllllllllllll}\n",
       "  & TCGA-EW-A6SA-01A-21R-A32P-07 & TCGA-E2-A14W-01A-11R-A12D-07 & TCGA-EW-A1PD-01A-11R-A144-07 & TCGA-55-1594-01A-01R-0946-07 & TCGA-49-6742-11A-01R-1858-07 & TCGA-50-5932-11A-01R-1755-07 & TCGA-95-7947-01A-11R-2187-07 & TCGA-CG-4476-01A-01R-1157-13 & TCGA-05-4410-01A-21R-1858-07 & TCGA-CG-5717-01A-11R-1602-13 & ⋯ & TCGA-D8-A1Y1-01A-21R-A14M-07 & TCGA-E2-A14X-01A-11R-A115-07 & TCGA-A8-A08R-01A-11R-A034-07 & TCGA-E2-A573-01A-11R-A29R-07 & TCGA-HN-A2OB-01A-21R-A27Q-07 & TCGA-E9-A1RD-11A-33R-A157-07 & TCGA-A2-A4S3-01A-21R-A266-07 & TCGA-AR-A0TV-01A-21R-A084-07 & TCGA-AR-A2LQ-01A-22R-A18M-07 & TCGA-C8-A12Z-01A-11R-A115-07\\\\\n",
       "\\hline\n",
       "\tENSG00000186092 &    0 &    0 &    0 &    0 &    0 &    0 &    0 &    0 &    0 &    0 & ⋯ &    0 &    0 &    0 &    0 &    0 &    0 &    0 &    0 &    0 &    0\\\\\n",
       "\tENSG00000278566 &    0 &    0 &    0 &    0 &    0 &    0 &    0 &    0 &    0 &    0 & ⋯ &    0 &    0 &    0 &    0 &    0 &    0 &    0 &    0 &    0 &    0\\\\\n",
       "\tENSG00000273547 &    1 &    0 &    1 &    0 &    0 &    0 &    3 &    3 &    0 &    0 & ⋯ &    5 &    1 &    0 &    0 &    0 &    0 &    0 &    2 &    0 &    0\\\\\n",
       "\tENSG00000187634 & 1413 & 1562 &  912 &  501 &  321 &  234 &  590 &  821 &  271 &  672 & ⋯ &  596 & 1128 &  582 & 1353 & 1333 &  458 & 1128 &  671 &  982 & 1350\\\\\n",
       "\tENSG00000188976 & 9723 & 6455 & 7050 & 4238 & 1791 & 1280 & 4973 & 3666 & 2325 & 3717 & ⋯ & 4419 & 9720 & 5661 & 5226 & 4777 & 3152 & 5675 & 6891 & 2900 & 2706\\\\\n",
       "\tENSG00000187961 & 1310 &  299 &  439 &  459 &   93 &   80 &  226 &  291 &  172 &  296 & ⋯ &  334 &  296 &  339 &  387 &  450 &  158 &  347 &  404 &  146 &  131\\\\\n",
       "\\end{tabular}\n"
      ],
      "text/markdown": [
       "\n",
       "A matrix: 6 × 10682 of type dbl\n",
       "\n",
       "| <!--/--> | TCGA-EW-A6SA-01A-21R-A32P-07 | TCGA-E2-A14W-01A-11R-A12D-07 | TCGA-EW-A1PD-01A-11R-A144-07 | TCGA-55-1594-01A-01R-0946-07 | TCGA-49-6742-11A-01R-1858-07 | TCGA-50-5932-11A-01R-1755-07 | TCGA-95-7947-01A-11R-2187-07 | TCGA-CG-4476-01A-01R-1157-13 | TCGA-05-4410-01A-21R-1858-07 | TCGA-CG-5717-01A-11R-1602-13 | ⋯ | TCGA-D8-A1Y1-01A-21R-A14M-07 | TCGA-E2-A14X-01A-11R-A115-07 | TCGA-A8-A08R-01A-11R-A034-07 | TCGA-E2-A573-01A-11R-A29R-07 | TCGA-HN-A2OB-01A-21R-A27Q-07 | TCGA-E9-A1RD-11A-33R-A157-07 | TCGA-A2-A4S3-01A-21R-A266-07 | TCGA-AR-A0TV-01A-21R-A084-07 | TCGA-AR-A2LQ-01A-22R-A18M-07 | TCGA-C8-A12Z-01A-11R-A115-07 |\n",
       "|---|---|---|---|---|---|---|---|---|---|---|---|---|---|---|---|---|---|---|---|---|---|\n",
       "| ENSG00000186092 |    0 |    0 |    0 |    0 |    0 |    0 |    0 |    0 |    0 |    0 | ⋯ |    0 |    0 |    0 |    0 |    0 |    0 |    0 |    0 |    0 |    0 |\n",
       "| ENSG00000278566 |    0 |    0 |    0 |    0 |    0 |    0 |    0 |    0 |    0 |    0 | ⋯ |    0 |    0 |    0 |    0 |    0 |    0 |    0 |    0 |    0 |    0 |\n",
       "| ENSG00000273547 |    1 |    0 |    1 |    0 |    0 |    0 |    3 |    3 |    0 |    0 | ⋯ |    5 |    1 |    0 |    0 |    0 |    0 |    0 |    2 |    0 |    0 |\n",
       "| ENSG00000187634 | 1413 | 1562 |  912 |  501 |  321 |  234 |  590 |  821 |  271 |  672 | ⋯ |  596 | 1128 |  582 | 1353 | 1333 |  458 | 1128 |  671 |  982 | 1350 |\n",
       "| ENSG00000188976 | 9723 | 6455 | 7050 | 4238 | 1791 | 1280 | 4973 | 3666 | 2325 | 3717 | ⋯ | 4419 | 9720 | 5661 | 5226 | 4777 | 3152 | 5675 | 6891 | 2900 | 2706 |\n",
       "| ENSG00000187961 | 1310 |  299 |  439 |  459 |   93 |   80 |  226 |  291 |  172 |  296 | ⋯ |  334 |  296 |  339 |  387 |  450 |  158 |  347 |  404 |  146 |  131 |\n",
       "\n"
      ],
      "text/plain": [
       "                TCGA-EW-A6SA-01A-21R-A32P-07 TCGA-E2-A14W-01A-11R-A12D-07\n",
       "ENSG00000186092    0                            0                        \n",
       "ENSG00000278566    0                            0                        \n",
       "ENSG00000273547    1                            0                        \n",
       "ENSG00000187634 1413                         1562                        \n",
       "ENSG00000188976 9723                         6455                        \n",
       "ENSG00000187961 1310                          299                        \n",
       "                TCGA-EW-A1PD-01A-11R-A144-07 TCGA-55-1594-01A-01R-0946-07\n",
       "ENSG00000186092    0                            0                        \n",
       "ENSG00000278566    0                            0                        \n",
       "ENSG00000273547    1                            0                        \n",
       "ENSG00000187634  912                          501                        \n",
       "ENSG00000188976 7050                         4238                        \n",
       "ENSG00000187961  439                          459                        \n",
       "                TCGA-49-6742-11A-01R-1858-07 TCGA-50-5932-11A-01R-1755-07\n",
       "ENSG00000186092    0                            0                        \n",
       "ENSG00000278566    0                            0                        \n",
       "ENSG00000273547    0                            0                        \n",
       "ENSG00000187634  321                          234                        \n",
       "ENSG00000188976 1791                         1280                        \n",
       "ENSG00000187961   93                           80                        \n",
       "                TCGA-95-7947-01A-11R-2187-07 TCGA-CG-4476-01A-01R-1157-13\n",
       "ENSG00000186092    0                            0                        \n",
       "ENSG00000278566    0                            0                        \n",
       "ENSG00000273547    3                            3                        \n",
       "ENSG00000187634  590                          821                        \n",
       "ENSG00000188976 4973                         3666                        \n",
       "ENSG00000187961  226                          291                        \n",
       "                TCGA-05-4410-01A-21R-1858-07 TCGA-CG-5717-01A-11R-1602-13 ⋯\n",
       "ENSG00000186092    0                            0                         ⋯\n",
       "ENSG00000278566    0                            0                         ⋯\n",
       "ENSG00000273547    0                            0                         ⋯\n",
       "ENSG00000187634  271                          672                         ⋯\n",
       "ENSG00000188976 2325                         3717                         ⋯\n",
       "ENSG00000187961  172                          296                         ⋯\n",
       "                TCGA-D8-A1Y1-01A-21R-A14M-07 TCGA-E2-A14X-01A-11R-A115-07\n",
       "ENSG00000186092    0                            0                        \n",
       "ENSG00000278566    0                            0                        \n",
       "ENSG00000273547    5                            1                        \n",
       "ENSG00000187634  596                         1128                        \n",
       "ENSG00000188976 4419                         9720                        \n",
       "ENSG00000187961  334                          296                        \n",
       "                TCGA-A8-A08R-01A-11R-A034-07 TCGA-E2-A573-01A-11R-A29R-07\n",
       "ENSG00000186092    0                            0                        \n",
       "ENSG00000278566    0                            0                        \n",
       "ENSG00000273547    0                            0                        \n",
       "ENSG00000187634  582                         1353                        \n",
       "ENSG00000188976 5661                         5226                        \n",
       "ENSG00000187961  339                          387                        \n",
       "                TCGA-HN-A2OB-01A-21R-A27Q-07 TCGA-E9-A1RD-11A-33R-A157-07\n",
       "ENSG00000186092    0                            0                        \n",
       "ENSG00000278566    0                            0                        \n",
       "ENSG00000273547    0                            0                        \n",
       "ENSG00000187634 1333                          458                        \n",
       "ENSG00000188976 4777                         3152                        \n",
       "ENSG00000187961  450                          158                        \n",
       "                TCGA-A2-A4S3-01A-21R-A266-07 TCGA-AR-A0TV-01A-21R-A084-07\n",
       "ENSG00000186092    0                            0                        \n",
       "ENSG00000278566    0                            0                        \n",
       "ENSG00000273547    0                            2                        \n",
       "ENSG00000187634 1128                          671                        \n",
       "ENSG00000188976 5675                         6891                        \n",
       "ENSG00000187961  347                          404                        \n",
       "                TCGA-AR-A2LQ-01A-22R-A18M-07 TCGA-C8-A12Z-01A-11R-A115-07\n",
       "ENSG00000186092    0                            0                        \n",
       "ENSG00000278566    0                            0                        \n",
       "ENSG00000273547    0                            0                        \n",
       "ENSG00000187634  982                         1350                        \n",
       "ENSG00000188976 2900                         2706                        \n",
       "ENSG00000187961  146                          131                        "
      ]
     },
     "metadata": {},
     "output_type": "display_data"
    }
   ],
   "source": [
    "setwd(\"/faststorage/project/jsp_student_projects/shared_data/TCGA_counts\")\n",
    "exp <- readRDS(\"TCGA_mrna_counts_match.rds\")\n",
    "rnames <- unlist(lapply(rownames(exp), function(x) unlist(strsplit(x, split = \"[.]\"))[1]))\n",
    "length(rnames) == length(unique(rnames)) # True # check for duplicates\n",
    "rownames(exp) <- rnames\n",
    "dim(exp)\n",
    "head(exp)"
   ]
  },
  {
   "cell_type": "code",
   "execution_count": 4,
   "metadata": {
    "vscode": {
     "languageId": "r"
    }
   },
   "outputs": [
    {
     "name": "stdout",
     "output_type": "stream",
     "text": [
      "previous dim:  19784 10682 \n",
      "current dim:   18861 10682"
     ]
    }
   ],
   "source": [
    "# remove all genes not found in seqs since miReact does not recognize them\n",
    "seqs <- readRDS(\"/home/elisalaegsgaard/jsp_student_projects/miRNA_DGD_DE_F2024/miReact_ver2/seqs/hs.utr3.seqs.rds\")\n",
    "idx <- rownames(exp) %in% seqs[[1]]\n",
    "#idx <- intersect(rownames(exp), as.data.frame(seqs[1]))\n",
    "cat(\"previous dim: \", dim(exp), \"\\n\")\n",
    "exp <- exp[idx,]\n",
    "cat(\"current dim:  \", dim(exp))\n"
   ]
  },
  {
   "cell_type": "code",
   "execution_count": 5,
   "metadata": {
    "vscode": {
     "languageId": "r"
    }
   },
   "outputs": [
    {
     "data": {
      "text/html": [
       "<style>\n",
       ".list-inline {list-style: none; margin:0; padding: 0}\n",
       ".list-inline>li {display: inline-block}\n",
       ".list-inline>li:not(:last-child)::after {content: \"\\00b7\"; padding: 0 .5ex}\n",
       "</style>\n",
       "<ol class=list-inline><li>16126</li><li>10682</li></ol>\n"
      ],
      "text/latex": [
       "\\begin{enumerate*}\n",
       "\\item 16126\n",
       "\\item 10682\n",
       "\\end{enumerate*}\n"
      ],
      "text/markdown": [
       "1. 16126\n",
       "2. 10682\n",
       "\n",
       "\n"
      ],
      "text/plain": [
       "[1] 16126 10682"
      ]
     },
     "metadata": {},
     "output_type": "display_data"
    },
    {
     "data": {
      "text/html": [
       "FALSE"
      ],
      "text/latex": [
       "FALSE"
      ],
      "text/markdown": [
       "FALSE"
      ],
      "text/plain": [
       "[1] FALSE"
      ]
     },
     "metadata": {},
     "output_type": "display_data"
    }
   ],
   "source": [
    "# remove all genes not found in DGD\n",
    "row_names <- intersect(rownames(exp), rownames(fold))\n",
    "filter <- exp[row_names, , drop = FALSE] \n",
    "dim(filter)\n",
    "any(rowSums(filter)==0) # FALSE\n"
   ]
  },
  {
   "cell_type": "code",
   "execution_count": null,
   "metadata": {
    "vscode": {
     "languageId": "r"
    }
   },
   "outputs": [],
   "source": [
    "head(filter)\n",
    "#saveRDS(filter,\"/faststorage/project/jsp_student_projects//miRNA_DGD_DE_F2024/data/preprocessed/TCGA_counts/counts_filtered.rds\" )"
   ]
  },
  {
   "cell_type": "markdown",
   "metadata": {},
   "source": [
    "### Saving normalized filtered raw counts"
   ]
  },
  {
   "cell_type": "code",
   "execution_count": 22,
   "metadata": {
    "vscode": {
     "languageId": "r"
    }
   },
   "outputs": [],
   "source": [
    "#norm_exp <- readRDS(\"/faststorage/project/jsp_student_projects//miRNA_DGD_DE_F2024/data/preprocessed/TCGA_counts/counts_filtered.rds\")\n",
    "norm_exp <- readRDS(\"/faststorage/project/jsp_student_projects/miRNA_DGD_DE_F2024/data/filtered_by_paper/counts_filtered.rds\")# filtered\n"
   ]
  },
  {
   "cell_type": "code",
   "execution_count": 23,
   "metadata": {
    "vscode": {
     "languageId": "r"
    }
   },
   "outputs": [
    {
     "data": {
      "text/html": [
       "<table class=\"dataframe\">\n",
       "<caption>A matrix: 6 × 6295 of type dbl</caption>\n",
       "<thead>\n",
       "\t<tr><th></th><th scope=col>TCGA-AA-3542-01A-02R-1873-07</th><th scope=col>TCGA-CW-6088-11A-01R-1672-07</th><th scope=col>TCGA-CZ-5989-01A-11R-1672-07</th><th scope=col>TCGA-B4-5832-01A-11R-1672-07</th><th scope=col>TCGA-B8-5549-11A-01R-1541-07</th><th scope=col>TCGA-AK-3447-01A-01R-1766-07</th><th scope=col>TCGA-CZ-5462-11A-01R-1503-07</th><th scope=col>TCGA-G9-6369-01A-21R-1965-07</th><th scope=col>TCGA-FC-A5OB-01A-11R-A29R-07</th><th scope=col>TCGA-FC-A6HD-01A-11R-A31N-07</th><th scope=col>⋯</th><th scope=col>TCGA-DU-7309-01A-11R-2090-07</th><th scope=col>TCGA-HT-7681-01A-11R-2403-07</th><th scope=col>TCGA-S9-A7IQ-01A-21R-A34F-07</th><th scope=col>TCGA-DB-A64L-01A-11R-A29R-07</th><th scope=col>TCGA-HT-8558-01A-21R-2404-07</th><th scope=col>TCGA-P5-A5F4-01A-11R-A28M-07</th><th scope=col>TCGA-HT-7607-01A-11R-2090-07</th><th scope=col>TCGA-E1-A7Z3-01A-11R-A34R-07</th><th scope=col>TCGA-DU-A6S6-01A-21R-A32Q-07</th><th scope=col>TCGA-HT-7610-01A-21R-2090-07</th></tr>\n",
       "</thead>\n",
       "<tbody>\n",
       "\t<tr><th scope=row>ENSG00000187634</th><td>1494.0008</td><td> 616.27351</td><td> 53.098268</td><td> 56.912428</td><td> 755.70866</td><td> 203.068116</td><td> 593.50479</td><td>1979.9579</td><td>1033.5306</td><td> 4500.5100</td><td>⋯</td><td> 645.7077219</td><td>1010.422936</td><td> 733.670672</td><td> 739.824587</td><td> 600.849120</td><td>1532.067610</td><td> 434.204651</td><td> 832.859524</td><td>1092.058547</td><td> 680.103863</td></tr>\n",
       "\t<tr><th scope=row>ENSG00000188976</th><td>7051.0342</td><td>2531.12333</td><td>376.868192</td><td>197.770687</td><td>2721.25661</td><td>1062.956550</td><td>3024.18449</td><td>6119.3319</td><td>5625.6573</td><td>11448.7322</td><td>⋯</td><td>3061.8783869</td><td>2866.729992</td><td>4382.502862</td><td>3939.230750</td><td>4060.940027</td><td>4464.917163</td><td>2801.501225</td><td>3872.978106</td><td>3799.477974</td><td>3629.458521</td></tr>\n",
       "\t<tr><th scope=row>ENSG00000187961</th><td> 383.2437</td><td> 184.74866</td><td>  5.180319</td><td>  2.845621</td><td> 131.38925</td><td>  42.014093</td><td>  84.13231</td><td> 246.5087</td><td> 330.5980</td><td>  753.2393</td><td>⋯</td><td> 291.4541089</td><td> 359.997680</td><td> 454.680605</td><td> 333.957062</td><td> 310.841500</td><td> 959.951168</td><td> 183.455471</td><td> 747.035103</td><td> 729.593010</td><td> 516.288125</td></tr>\n",
       "\t<tr><th scope=row>ENSG00000187583</th><td> 162.3914</td><td>  19.34192</td><td> 12.950797</td><td>  5.691243</td><td>  24.69060</td><td>   1.400470</td><td>  44.64163</td><td> 244.5366</td><td> 196.6015</td><td>  653.5644</td><td>⋯</td><td>   0.8051218</td><td>   1.104287</td><td>   6.507057</td><td>   4.875286</td><td>   1.666710</td><td>   3.613367</td><td>   2.403347</td><td>   0.000000</td><td>   3.496452</td><td>   3.356880</td></tr>\n",
       "\t<tr><th scope=row>ENSG00000187642</th><td>  58.4609</td><td>  36.68295</td><td> 28.491753</td><td> 11.382486</td><td>  35.27228</td><td>   0.000000</td><td>  22.32082</td><td> 416.1067</td><td> 176.8315</td><td>  796.1373</td><td>⋯</td><td>   3.2204874</td><td>   6.625724</td><td>  13.014114</td><td>   7.312928</td><td>   5.833487</td><td>  14.453468</td><td>   8.812272</td><td>   2.417589</td><td>  12.820324</td><td>   5.371008</td></tr>\n",
       "\t<tr><th scope=row>ENSG00000188290</th><td> 532.6438</td><td>  60.02664</td><td>  3.885239</td><td>  4.268432</td><td> 135.79829</td><td>   7.002349</td><td>  72.68574</td><td>2232.3828</td><td> 845.7158</td><td> 1042.1702</td><td>⋯</td><td> 222.2136300</td><td> 682.449590</td><td> 636.878200</td><td> 496.060308</td><td> 186.671571</td><td> 861.185803</td><td> 114.559530</td><td> 821.980372</td><td> 771.550435</td><td> 318.232212</td></tr>\n",
       "</tbody>\n",
       "</table>\n"
      ],
      "text/latex": [
       "A matrix: 6 × 6295 of type dbl\n",
       "\\begin{tabular}{r|lllllllllllllllllllll}\n",
       "  & TCGA-AA-3542-01A-02R-1873-07 & TCGA-CW-6088-11A-01R-1672-07 & TCGA-CZ-5989-01A-11R-1672-07 & TCGA-B4-5832-01A-11R-1672-07 & TCGA-B8-5549-11A-01R-1541-07 & TCGA-AK-3447-01A-01R-1766-07 & TCGA-CZ-5462-11A-01R-1503-07 & TCGA-G9-6369-01A-21R-1965-07 & TCGA-FC-A5OB-01A-11R-A29R-07 & TCGA-FC-A6HD-01A-11R-A31N-07 & ⋯ & TCGA-DU-7309-01A-11R-2090-07 & TCGA-HT-7681-01A-11R-2403-07 & TCGA-S9-A7IQ-01A-21R-A34F-07 & TCGA-DB-A64L-01A-11R-A29R-07 & TCGA-HT-8558-01A-21R-2404-07 & TCGA-P5-A5F4-01A-11R-A28M-07 & TCGA-HT-7607-01A-11R-2090-07 & TCGA-E1-A7Z3-01A-11R-A34R-07 & TCGA-DU-A6S6-01A-21R-A32Q-07 & TCGA-HT-7610-01A-21R-2090-07\\\\\n",
       "\\hline\n",
       "\tENSG00000187634 & 1494.0008 &  616.27351 &  53.098268 &  56.912428 &  755.70866 &  203.068116 &  593.50479 & 1979.9579 & 1033.5306 &  4500.5100 & ⋯ &  645.7077219 & 1010.422936 &  733.670672 &  739.824587 &  600.849120 & 1532.067610 &  434.204651 &  832.859524 & 1092.058547 &  680.103863\\\\\n",
       "\tENSG00000188976 & 7051.0342 & 2531.12333 & 376.868192 & 197.770687 & 2721.25661 & 1062.956550 & 3024.18449 & 6119.3319 & 5625.6573 & 11448.7322 & ⋯ & 3061.8783869 & 2866.729992 & 4382.502862 & 3939.230750 & 4060.940027 & 4464.917163 & 2801.501225 & 3872.978106 & 3799.477974 & 3629.458521\\\\\n",
       "\tENSG00000187961 &  383.2437 &  184.74866 &   5.180319 &   2.845621 &  131.38925 &   42.014093 &   84.13231 &  246.5087 &  330.5980 &   753.2393 & ⋯ &  291.4541089 &  359.997680 &  454.680605 &  333.957062 &  310.841500 &  959.951168 &  183.455471 &  747.035103 &  729.593010 &  516.288125\\\\\n",
       "\tENSG00000187583 &  162.3914 &   19.34192 &  12.950797 &   5.691243 &   24.69060 &    1.400470 &   44.64163 &  244.5366 &  196.6015 &   653.5644 & ⋯ &    0.8051218 &    1.104287 &    6.507057 &    4.875286 &    1.666710 &    3.613367 &    2.403347 &    0.000000 &    3.496452 &    3.356880\\\\\n",
       "\tENSG00000187642 &   58.4609 &   36.68295 &  28.491753 &  11.382486 &   35.27228 &    0.000000 &   22.32082 &  416.1067 &  176.8315 &   796.1373 & ⋯ &    3.2204874 &    6.625724 &   13.014114 &    7.312928 &    5.833487 &   14.453468 &    8.812272 &    2.417589 &   12.820324 &    5.371008\\\\\n",
       "\tENSG00000188290 &  532.6438 &   60.02664 &   3.885239 &   4.268432 &  135.79829 &    7.002349 &   72.68574 & 2232.3828 &  845.7158 &  1042.1702 & ⋯ &  222.2136300 &  682.449590 &  636.878200 &  496.060308 &  186.671571 &  861.185803 &  114.559530 &  821.980372 &  771.550435 &  318.232212\\\\\n",
       "\\end{tabular}\n"
      ],
      "text/markdown": [
       "\n",
       "A matrix: 6 × 6295 of type dbl\n",
       "\n",
       "| <!--/--> | TCGA-AA-3542-01A-02R-1873-07 | TCGA-CW-6088-11A-01R-1672-07 | TCGA-CZ-5989-01A-11R-1672-07 | TCGA-B4-5832-01A-11R-1672-07 | TCGA-B8-5549-11A-01R-1541-07 | TCGA-AK-3447-01A-01R-1766-07 | TCGA-CZ-5462-11A-01R-1503-07 | TCGA-G9-6369-01A-21R-1965-07 | TCGA-FC-A5OB-01A-11R-A29R-07 | TCGA-FC-A6HD-01A-11R-A31N-07 | ⋯ | TCGA-DU-7309-01A-11R-2090-07 | TCGA-HT-7681-01A-11R-2403-07 | TCGA-S9-A7IQ-01A-21R-A34F-07 | TCGA-DB-A64L-01A-11R-A29R-07 | TCGA-HT-8558-01A-21R-2404-07 | TCGA-P5-A5F4-01A-11R-A28M-07 | TCGA-HT-7607-01A-11R-2090-07 | TCGA-E1-A7Z3-01A-11R-A34R-07 | TCGA-DU-A6S6-01A-21R-A32Q-07 | TCGA-HT-7610-01A-21R-2090-07 |\n",
       "|---|---|---|---|---|---|---|---|---|---|---|---|---|---|---|---|---|---|---|---|---|---|\n",
       "| ENSG00000187634 | 1494.0008 |  616.27351 |  53.098268 |  56.912428 |  755.70866 |  203.068116 |  593.50479 | 1979.9579 | 1033.5306 |  4500.5100 | ⋯ |  645.7077219 | 1010.422936 |  733.670672 |  739.824587 |  600.849120 | 1532.067610 |  434.204651 |  832.859524 | 1092.058547 |  680.103863 |\n",
       "| ENSG00000188976 | 7051.0342 | 2531.12333 | 376.868192 | 197.770687 | 2721.25661 | 1062.956550 | 3024.18449 | 6119.3319 | 5625.6573 | 11448.7322 | ⋯ | 3061.8783869 | 2866.729992 | 4382.502862 | 3939.230750 | 4060.940027 | 4464.917163 | 2801.501225 | 3872.978106 | 3799.477974 | 3629.458521 |\n",
       "| ENSG00000187961 |  383.2437 |  184.74866 |   5.180319 |   2.845621 |  131.38925 |   42.014093 |   84.13231 |  246.5087 |  330.5980 |   753.2393 | ⋯ |  291.4541089 |  359.997680 |  454.680605 |  333.957062 |  310.841500 |  959.951168 |  183.455471 |  747.035103 |  729.593010 |  516.288125 |\n",
       "| ENSG00000187583 |  162.3914 |   19.34192 |  12.950797 |   5.691243 |   24.69060 |    1.400470 |   44.64163 |  244.5366 |  196.6015 |   653.5644 | ⋯ |    0.8051218 |    1.104287 |    6.507057 |    4.875286 |    1.666710 |    3.613367 |    2.403347 |    0.000000 |    3.496452 |    3.356880 |\n",
       "| ENSG00000187642 |   58.4609 |   36.68295 |  28.491753 |  11.382486 |   35.27228 |    0.000000 |   22.32082 |  416.1067 |  176.8315 |   796.1373 | ⋯ |    3.2204874 |    6.625724 |   13.014114 |    7.312928 |    5.833487 |   14.453468 |    8.812272 |    2.417589 |   12.820324 |    5.371008 |\n",
       "| ENSG00000188290 |  532.6438 |   60.02664 |   3.885239 |   4.268432 |  135.79829 |    7.002349 |   72.68574 | 2232.3828 |  845.7158 |  1042.1702 | ⋯ |  222.2136300 |  682.449590 |  636.878200 |  496.060308 |  186.671571 |  861.185803 |  114.559530 |  821.980372 |  771.550435 |  318.232212 |\n",
       "\n"
      ],
      "text/plain": [
       "                TCGA-AA-3542-01A-02R-1873-07 TCGA-CW-6088-11A-01R-1672-07\n",
       "ENSG00000187634 1494.0008                     616.27351                  \n",
       "ENSG00000188976 7051.0342                    2531.12333                  \n",
       "ENSG00000187961  383.2437                     184.74866                  \n",
       "ENSG00000187583  162.3914                      19.34192                  \n",
       "ENSG00000187642   58.4609                      36.68295                  \n",
       "ENSG00000188290  532.6438                      60.02664                  \n",
       "                TCGA-CZ-5989-01A-11R-1672-07 TCGA-B4-5832-01A-11R-1672-07\n",
       "ENSG00000187634  53.098268                    56.912428                  \n",
       "ENSG00000188976 376.868192                   197.770687                  \n",
       "ENSG00000187961   5.180319                     2.845621                  \n",
       "ENSG00000187583  12.950797                     5.691243                  \n",
       "ENSG00000187642  28.491753                    11.382486                  \n",
       "ENSG00000188290   3.885239                     4.268432                  \n",
       "                TCGA-B8-5549-11A-01R-1541-07 TCGA-AK-3447-01A-01R-1766-07\n",
       "ENSG00000187634  755.70866                    203.068116                 \n",
       "ENSG00000188976 2721.25661                   1062.956550                 \n",
       "ENSG00000187961  131.38925                     42.014093                 \n",
       "ENSG00000187583   24.69060                      1.400470                 \n",
       "ENSG00000187642   35.27228                      0.000000                 \n",
       "ENSG00000188290  135.79829                      7.002349                 \n",
       "                TCGA-CZ-5462-11A-01R-1503-07 TCGA-G9-6369-01A-21R-1965-07\n",
       "ENSG00000187634  593.50479                   1979.9579                   \n",
       "ENSG00000188976 3024.18449                   6119.3319                   \n",
       "ENSG00000187961   84.13231                    246.5087                   \n",
       "ENSG00000187583   44.64163                    244.5366                   \n",
       "ENSG00000187642   22.32082                    416.1067                   \n",
       "ENSG00000188290   72.68574                   2232.3828                   \n",
       "                TCGA-FC-A5OB-01A-11R-A29R-07 TCGA-FC-A6HD-01A-11R-A31N-07 ⋯\n",
       "ENSG00000187634 1033.5306                     4500.5100                   ⋯\n",
       "ENSG00000188976 5625.6573                    11448.7322                   ⋯\n",
       "ENSG00000187961  330.5980                      753.2393                   ⋯\n",
       "ENSG00000187583  196.6015                      653.5644                   ⋯\n",
       "ENSG00000187642  176.8315                      796.1373                   ⋯\n",
       "ENSG00000188290  845.7158                     1042.1702                   ⋯\n",
       "                TCGA-DU-7309-01A-11R-2090-07 TCGA-HT-7681-01A-11R-2403-07\n",
       "ENSG00000187634  645.7077219                 1010.422936                 \n",
       "ENSG00000188976 3061.8783869                 2866.729992                 \n",
       "ENSG00000187961  291.4541089                  359.997680                 \n",
       "ENSG00000187583    0.8051218                    1.104287                 \n",
       "ENSG00000187642    3.2204874                    6.625724                 \n",
       "ENSG00000188290  222.2136300                  682.449590                 \n",
       "                TCGA-S9-A7IQ-01A-21R-A34F-07 TCGA-DB-A64L-01A-11R-A29R-07\n",
       "ENSG00000187634  733.670672                   739.824587                 \n",
       "ENSG00000188976 4382.502862                  3939.230750                 \n",
       "ENSG00000187961  454.680605                   333.957062                 \n",
       "ENSG00000187583    6.507057                     4.875286                 \n",
       "ENSG00000187642   13.014114                     7.312928                 \n",
       "ENSG00000188290  636.878200                   496.060308                 \n",
       "                TCGA-HT-8558-01A-21R-2404-07 TCGA-P5-A5F4-01A-11R-A28M-07\n",
       "ENSG00000187634  600.849120                  1532.067610                 \n",
       "ENSG00000188976 4060.940027                  4464.917163                 \n",
       "ENSG00000187961  310.841500                   959.951168                 \n",
       "ENSG00000187583    1.666710                     3.613367                 \n",
       "ENSG00000187642    5.833487                    14.453468                 \n",
       "ENSG00000188290  186.671571                   861.185803                 \n",
       "                TCGA-HT-7607-01A-11R-2090-07 TCGA-E1-A7Z3-01A-11R-A34R-07\n",
       "ENSG00000187634  434.204651                   832.859524                 \n",
       "ENSG00000188976 2801.501225                  3872.978106                 \n",
       "ENSG00000187961  183.455471                   747.035103                 \n",
       "ENSG00000187583    2.403347                     0.000000                 \n",
       "ENSG00000187642    8.812272                     2.417589                 \n",
       "ENSG00000188290  114.559530                   821.980372                 \n",
       "                TCGA-DU-A6S6-01A-21R-A32Q-07 TCGA-HT-7610-01A-21R-2090-07\n",
       "ENSG00000187634 1092.058547                   680.103863                 \n",
       "ENSG00000188976 3799.477974                  3629.458521                 \n",
       "ENSG00000187961  729.593010                   516.288125                 \n",
       "ENSG00000187583    3.496452                     3.356880                 \n",
       "ENSG00000187642   12.820324                     5.371008                 \n",
       "ENSG00000188290  771.550435                   318.232212                 "
      ]
     },
     "metadata": {},
     "output_type": "display_data"
    }
   ],
   "source": [
    "norm_exp <- sweep(norm_exp, 2, colSums(norm_exp), FUN = '/')*median(colSums(norm_exp))\n",
    "head(norm_exp)"
   ]
  },
  {
   "cell_type": "code",
   "execution_count": 24,
   "metadata": {
    "vscode": {
     "languageId": "r"
    }
   },
   "outputs": [],
   "source": [
    "#norm_exp <- log2(norm_exp+1e-6)\n",
    "norm_exp <- log2(norm_exp+1)"
   ]
  },
  {
   "cell_type": "code",
   "execution_count": 25,
   "metadata": {
    "vscode": {
     "languageId": "r"
    }
   },
   "outputs": [],
   "source": [
    "#pseudocount = 1e-6\n",
    "#saveRDS(norm_exp,\"/faststorage/project/jsp_student_projects//miRNA_DGD_DE_F2024/data/pseudocount_1e-6/counts_filtered_normalized.rds\" )\n",
    "#pseudocount = 1\n",
    "#saveRDS(norm_exp,\"/faststorage/project/jsp_student_projects//miRNA_DGD_DE_F2024/data/pseudocount_1/counts_filtered_normalized.rds\" )\n",
    "#Filtered\n",
    "#saveRDS(norm_exp,\"/faststorage/project/jsp_student_projects//miRNA_DGD_DE_F2024/data/filtered_by_paper/counts_filtered_normalized.rds\" )"
   ]
  },
  {
   "cell_type": "markdown",
   "metadata": {},
   "source": [
    "### Saving normalized filtered rescaled decoder outputs\n",
    "Normalizing the rescaled decoder outputs"
   ]
  },
  {
   "cell_type": "code",
   "execution_count": 20,
   "metadata": {
    "vscode": {
     "languageId": "r"
    }
   },
   "outputs": [],
   "source": [
    "# For both pseudocounts\n",
    "filtered <- readRDS(\"/home/elisalaegsgaard/jsp_student_projects/miRNA_DGD_DE_F2024/data/DGD_expression/DGD_rescaled_FINAL.rds\")\n",
    "\n",
    "exp_counts <- readRDS(\"/home/elisalaegsgaard/jsp_student_projects/miRNA_DGD_DE_F2024/data/preprocessed/TCGA_counts/counts_filtered.rds\")\n",
    "# For filtered"
   ]
  },
  {
   "cell_type": "code",
   "execution_count": 26,
   "metadata": {
    "vscode": {
     "languageId": "r"
    }
   },
   "outputs": [
    {
     "data": {
      "text/html": [
       "<style>\n",
       ".list-inline {list-style: none; margin:0; padding: 0}\n",
       ".list-inline>li {display: inline-block}\n",
       ".list-inline>li:not(:last-child)::after {content: \"\\00b7\"; padding: 0 .5ex}\n",
       "</style>\n",
       "<ol class=list-inline><li>16126</li><li>6295</li></ol>\n"
      ],
      "text/latex": [
       "\\begin{enumerate*}\n",
       "\\item 16126\n",
       "\\item 6295\n",
       "\\end{enumerate*}\n"
      ],
      "text/markdown": [
       "1. 16126\n",
       "2. 6295\n",
       "\n",
       "\n"
      ],
      "text/plain": [
       "[1] 16126  6295"
      ]
     },
     "metadata": {},
     "output_type": "display_data"
    }
   ],
   "source": [
    "# For filtered by paper\n",
    "filtered <- readRDS(\"/home/elisalaegsgaard/jsp_student_projects/miRNA_DGD_DE_F2024/data/DGD_expression/DGD_rescaled_FINAL.rds\")\n",
    "exp_counts <- readRDS(\"/home/elisalaegsgaard/jsp_student_projects/miRNA_DGD_DE_F2024/data/filtered_by_paper/counts_filtered.rds\")\n",
    "col_names <- intersect(colnames(filtered), colnames(exp_counts))\n",
    "filtered <- filtered[,col_names , drop = FALSE] \n",
    "dim(filtered)\n"
   ]
  },
  {
   "cell_type": "code",
   "execution_count": 27,
   "metadata": {
    "vscode": {
     "languageId": "r"
    }
   },
   "outputs": [
    {
     "data": {
      "text/html": [
       "<table class=\"dataframe\">\n",
       "<caption>A matrix: 6 × 6295 of type dbl</caption>\n",
       "<thead>\n",
       "\t<tr><th></th><th scope=col>TCGA-EW-A6SA-01A-21R-A32P-07</th><th scope=col>TCGA-E2-A14W-01A-11R-A12D-07</th><th scope=col>TCGA-EW-A1PD-01A-11R-A144-07</th><th scope=col>TCGA-55-1594-01A-01R-0946-07</th><th scope=col>TCGA-49-6742-11A-01R-1858-07</th><th scope=col>TCGA-50-5932-11A-01R-1755-07</th><th scope=col>TCGA-95-7947-01A-11R-2187-07</th><th scope=col>TCGA-CG-4476-01A-01R-1157-13</th><th scope=col>TCGA-05-4410-01A-21R-1858-07</th><th scope=col>TCGA-CG-5717-01A-11R-1602-13</th><th scope=col>⋯</th><th scope=col>TCGA-D8-A1Y1-01A-21R-A14M-07</th><th scope=col>TCGA-E2-A14X-01A-11R-A115-07</th><th scope=col>TCGA-A8-A08R-01A-11R-A034-07</th><th scope=col>TCGA-E2-A573-01A-11R-A29R-07</th><th scope=col>TCGA-HN-A2OB-01A-21R-A27Q-07</th><th scope=col>TCGA-E9-A1RD-11A-33R-A157-07</th><th scope=col>TCGA-A2-A4S3-01A-21R-A266-07</th><th scope=col>TCGA-AR-A0TV-01A-21R-A084-07</th><th scope=col>TCGA-AR-A2LQ-01A-22R-A18M-07</th><th scope=col>TCGA-C8-A12Z-01A-11R-A115-07</th></tr>\n",
       "</thead>\n",
       "<tbody>\n",
       "\t<tr><th scope=row>ENSG00000187634</th><td>1842.0560</td><td>1741.8648</td><td> 946.08813</td><td>1538.3395</td><td> 423.37848</td><td> 340.52876</td><td> 693.5180</td><td> 940.49688</td><td> 916.0871</td><td>1069.9102</td><td>⋯</td><td>1371.0811</td><td> 972.2779</td><td>1084.9735</td><td>1878.4529</td><td> 888.29907</td><td> 228.716042</td><td>1691.2917</td><td>1100.2867</td><td> 699.87112</td><td> 990.0674</td></tr>\n",
       "\t<tr><th scope=row>ENSG00000188976</th><td>7286.6600</td><td>5322.6176</td><td>4695.44817</td><td>5014.9812</td><td>2441.98946</td><td>2328.83210</td><td>4860.4810</td><td>3304.88934</td><td>4038.9219</td><td>5151.9028</td><td>⋯</td><td>4588.0816</td><td>4379.2458</td><td>4682.6432</td><td>5216.2955</td><td>4148.51098</td><td>1912.625126</td><td>7097.2356</td><td>5096.6851</td><td>3051.91771</td><td>4530.5333</td></tr>\n",
       "\t<tr><th scope=row>ENSG00000187961</th><td>1212.2869</td><td> 568.9490</td><td> 494.56427</td><td> 574.1789</td><td> 159.67010</td><td> 187.71089</td><td> 531.4184</td><td> 286.03770</td><td> 467.0272</td><td> 470.6394</td><td>⋯</td><td> 412.8108</td><td> 415.0719</td><td> 500.4730</td><td>1011.6737</td><td> 635.57717</td><td> 163.661161</td><td>1017.8911</td><td> 569.7564</td><td> 296.12358</td><td> 295.7288</td></tr>\n",
       "\t<tr><th scope=row>ENSG00000187583</th><td> 632.8512</td><td> 627.7733</td><td> 325.93760</td><td> 550.2377</td><td>  68.51189</td><td>  38.26817</td><td>1228.6347</td><td> 253.60011</td><td>1013.5548</td><td>4256.9034</td><td>⋯</td><td> 525.6770</td><td> 750.9493</td><td> 659.7224</td><td>1626.3753</td><td> 366.13612</td><td>  32.230718</td><td> 846.9914</td><td> 532.1796</td><td> 234.99378</td><td> 783.9469</td></tr>\n",
       "\t<tr><th scope=row>ENSG00000187642</th><td> 193.5129</td><td> 230.5986</td><td>  70.88109</td><td> 158.8185</td><td>  22.06796</td><td>  15.68443</td><td> 252.4636</td><td>  66.04033</td><td> 231.1615</td><td>1227.1770</td><td>⋯</td><td> 175.7901</td><td> 142.0406</td><td> 181.2705</td><td> 689.8508</td><td>  99.69498</td><td>   9.433059</td><td> 266.1080</td><td> 143.8944</td><td>  48.58651</td><td> 139.5265</td></tr>\n",
       "\t<tr><th scope=row>ENSG00000188290</th><td>1538.3721</td><td> 484.2531</td><td> 518.36929</td><td> 278.4365</td><td> 201.13840</td><td> 141.78758</td><td> 364.7809</td><td> 160.98072</td><td> 230.7436</td><td> 643.3052</td><td>⋯</td><td> 469.5716</td><td> 481.2751</td><td> 403.3513</td><td>2060.9258</td><td> 551.41539</td><td>  38.404204</td><td> 738.1876</td><td> 360.5358</td><td> 192.32608</td><td> 192.1785</td></tr>\n",
       "</tbody>\n",
       "</table>\n"
      ],
      "text/latex": [
       "A matrix: 6 × 6295 of type dbl\n",
       "\\begin{tabular}{r|lllllllllllllllllllll}\n",
       "  & TCGA-EW-A6SA-01A-21R-A32P-07 & TCGA-E2-A14W-01A-11R-A12D-07 & TCGA-EW-A1PD-01A-11R-A144-07 & TCGA-55-1594-01A-01R-0946-07 & TCGA-49-6742-11A-01R-1858-07 & TCGA-50-5932-11A-01R-1755-07 & TCGA-95-7947-01A-11R-2187-07 & TCGA-CG-4476-01A-01R-1157-13 & TCGA-05-4410-01A-21R-1858-07 & TCGA-CG-5717-01A-11R-1602-13 & ⋯ & TCGA-D8-A1Y1-01A-21R-A14M-07 & TCGA-E2-A14X-01A-11R-A115-07 & TCGA-A8-A08R-01A-11R-A034-07 & TCGA-E2-A573-01A-11R-A29R-07 & TCGA-HN-A2OB-01A-21R-A27Q-07 & TCGA-E9-A1RD-11A-33R-A157-07 & TCGA-A2-A4S3-01A-21R-A266-07 & TCGA-AR-A0TV-01A-21R-A084-07 & TCGA-AR-A2LQ-01A-22R-A18M-07 & TCGA-C8-A12Z-01A-11R-A115-07\\\\\n",
       "\\hline\n",
       "\tENSG00000187634 & 1842.0560 & 1741.8648 &  946.08813 & 1538.3395 &  423.37848 &  340.52876 &  693.5180 &  940.49688 &  916.0871 & 1069.9102 & ⋯ & 1371.0811 &  972.2779 & 1084.9735 & 1878.4529 &  888.29907 &  228.716042 & 1691.2917 & 1100.2867 &  699.87112 &  990.0674\\\\\n",
       "\tENSG00000188976 & 7286.6600 & 5322.6176 & 4695.44817 & 5014.9812 & 2441.98946 & 2328.83210 & 4860.4810 & 3304.88934 & 4038.9219 & 5151.9028 & ⋯ & 4588.0816 & 4379.2458 & 4682.6432 & 5216.2955 & 4148.51098 & 1912.625126 & 7097.2356 & 5096.6851 & 3051.91771 & 4530.5333\\\\\n",
       "\tENSG00000187961 & 1212.2869 &  568.9490 &  494.56427 &  574.1789 &  159.67010 &  187.71089 &  531.4184 &  286.03770 &  467.0272 &  470.6394 & ⋯ &  412.8108 &  415.0719 &  500.4730 & 1011.6737 &  635.57717 &  163.661161 & 1017.8911 &  569.7564 &  296.12358 &  295.7288\\\\\n",
       "\tENSG00000187583 &  632.8512 &  627.7733 &  325.93760 &  550.2377 &   68.51189 &   38.26817 & 1228.6347 &  253.60011 & 1013.5548 & 4256.9034 & ⋯ &  525.6770 &  750.9493 &  659.7224 & 1626.3753 &  366.13612 &   32.230718 &  846.9914 &  532.1796 &  234.99378 &  783.9469\\\\\n",
       "\tENSG00000187642 &  193.5129 &  230.5986 &   70.88109 &  158.8185 &   22.06796 &   15.68443 &  252.4636 &   66.04033 &  231.1615 & 1227.1770 & ⋯ &  175.7901 &  142.0406 &  181.2705 &  689.8508 &   99.69498 &    9.433059 &  266.1080 &  143.8944 &   48.58651 &  139.5265\\\\\n",
       "\tENSG00000188290 & 1538.3721 &  484.2531 &  518.36929 &  278.4365 &  201.13840 &  141.78758 &  364.7809 &  160.98072 &  230.7436 &  643.3052 & ⋯ &  469.5716 &  481.2751 &  403.3513 & 2060.9258 &  551.41539 &   38.404204 &  738.1876 &  360.5358 &  192.32608 &  192.1785\\\\\n",
       "\\end{tabular}\n"
      ],
      "text/markdown": [
       "\n",
       "A matrix: 6 × 6295 of type dbl\n",
       "\n",
       "| <!--/--> | TCGA-EW-A6SA-01A-21R-A32P-07 | TCGA-E2-A14W-01A-11R-A12D-07 | TCGA-EW-A1PD-01A-11R-A144-07 | TCGA-55-1594-01A-01R-0946-07 | TCGA-49-6742-11A-01R-1858-07 | TCGA-50-5932-11A-01R-1755-07 | TCGA-95-7947-01A-11R-2187-07 | TCGA-CG-4476-01A-01R-1157-13 | TCGA-05-4410-01A-21R-1858-07 | TCGA-CG-5717-01A-11R-1602-13 | ⋯ | TCGA-D8-A1Y1-01A-21R-A14M-07 | TCGA-E2-A14X-01A-11R-A115-07 | TCGA-A8-A08R-01A-11R-A034-07 | TCGA-E2-A573-01A-11R-A29R-07 | TCGA-HN-A2OB-01A-21R-A27Q-07 | TCGA-E9-A1RD-11A-33R-A157-07 | TCGA-A2-A4S3-01A-21R-A266-07 | TCGA-AR-A0TV-01A-21R-A084-07 | TCGA-AR-A2LQ-01A-22R-A18M-07 | TCGA-C8-A12Z-01A-11R-A115-07 |\n",
       "|---|---|---|---|---|---|---|---|---|---|---|---|---|---|---|---|---|---|---|---|---|---|\n",
       "| ENSG00000187634 | 1842.0560 | 1741.8648 |  946.08813 | 1538.3395 |  423.37848 |  340.52876 |  693.5180 |  940.49688 |  916.0871 | 1069.9102 | ⋯ | 1371.0811 |  972.2779 | 1084.9735 | 1878.4529 |  888.29907 |  228.716042 | 1691.2917 | 1100.2867 |  699.87112 |  990.0674 |\n",
       "| ENSG00000188976 | 7286.6600 | 5322.6176 | 4695.44817 | 5014.9812 | 2441.98946 | 2328.83210 | 4860.4810 | 3304.88934 | 4038.9219 | 5151.9028 | ⋯ | 4588.0816 | 4379.2458 | 4682.6432 | 5216.2955 | 4148.51098 | 1912.625126 | 7097.2356 | 5096.6851 | 3051.91771 | 4530.5333 |\n",
       "| ENSG00000187961 | 1212.2869 |  568.9490 |  494.56427 |  574.1789 |  159.67010 |  187.71089 |  531.4184 |  286.03770 |  467.0272 |  470.6394 | ⋯ |  412.8108 |  415.0719 |  500.4730 | 1011.6737 |  635.57717 |  163.661161 | 1017.8911 |  569.7564 |  296.12358 |  295.7288 |\n",
       "| ENSG00000187583 |  632.8512 |  627.7733 |  325.93760 |  550.2377 |   68.51189 |   38.26817 | 1228.6347 |  253.60011 | 1013.5548 | 4256.9034 | ⋯ |  525.6770 |  750.9493 |  659.7224 | 1626.3753 |  366.13612 |   32.230718 |  846.9914 |  532.1796 |  234.99378 |  783.9469 |\n",
       "| ENSG00000187642 |  193.5129 |  230.5986 |   70.88109 |  158.8185 |   22.06796 |   15.68443 |  252.4636 |   66.04033 |  231.1615 | 1227.1770 | ⋯ |  175.7901 |  142.0406 |  181.2705 |  689.8508 |   99.69498 |    9.433059 |  266.1080 |  143.8944 |   48.58651 |  139.5265 |\n",
       "| ENSG00000188290 | 1538.3721 |  484.2531 |  518.36929 |  278.4365 |  201.13840 |  141.78758 |  364.7809 |  160.98072 |  230.7436 |  643.3052 | ⋯ |  469.5716 |  481.2751 |  403.3513 | 2060.9258 |  551.41539 |   38.404204 |  738.1876 |  360.5358 |  192.32608 |  192.1785 |\n",
       "\n"
      ],
      "text/plain": [
       "                TCGA-EW-A6SA-01A-21R-A32P-07 TCGA-E2-A14W-01A-11R-A12D-07\n",
       "ENSG00000187634 1842.0560                    1741.8648                   \n",
       "ENSG00000188976 7286.6600                    5322.6176                   \n",
       "ENSG00000187961 1212.2869                     568.9490                   \n",
       "ENSG00000187583  632.8512                     627.7733                   \n",
       "ENSG00000187642  193.5129                     230.5986                   \n",
       "ENSG00000188290 1538.3721                     484.2531                   \n",
       "                TCGA-EW-A1PD-01A-11R-A144-07 TCGA-55-1594-01A-01R-0946-07\n",
       "ENSG00000187634  946.08813                   1538.3395                   \n",
       "ENSG00000188976 4695.44817                   5014.9812                   \n",
       "ENSG00000187961  494.56427                    574.1789                   \n",
       "ENSG00000187583  325.93760                    550.2377                   \n",
       "ENSG00000187642   70.88109                    158.8185                   \n",
       "ENSG00000188290  518.36929                    278.4365                   \n",
       "                TCGA-49-6742-11A-01R-1858-07 TCGA-50-5932-11A-01R-1755-07\n",
       "ENSG00000187634  423.37848                    340.52876                  \n",
       "ENSG00000188976 2441.98946                   2328.83210                  \n",
       "ENSG00000187961  159.67010                    187.71089                  \n",
       "ENSG00000187583   68.51189                     38.26817                  \n",
       "ENSG00000187642   22.06796                     15.68443                  \n",
       "ENSG00000188290  201.13840                    141.78758                  \n",
       "                TCGA-95-7947-01A-11R-2187-07 TCGA-CG-4476-01A-01R-1157-13\n",
       "ENSG00000187634  693.5180                     940.49688                  \n",
       "ENSG00000188976 4860.4810                    3304.88934                  \n",
       "ENSG00000187961  531.4184                     286.03770                  \n",
       "ENSG00000187583 1228.6347                     253.60011                  \n",
       "ENSG00000187642  252.4636                      66.04033                  \n",
       "ENSG00000188290  364.7809                     160.98072                  \n",
       "                TCGA-05-4410-01A-21R-1858-07 TCGA-CG-5717-01A-11R-1602-13 ⋯\n",
       "ENSG00000187634  916.0871                    1069.9102                    ⋯\n",
       "ENSG00000188976 4038.9219                    5151.9028                    ⋯\n",
       "ENSG00000187961  467.0272                     470.6394                    ⋯\n",
       "ENSG00000187583 1013.5548                    4256.9034                    ⋯\n",
       "ENSG00000187642  231.1615                    1227.1770                    ⋯\n",
       "ENSG00000188290  230.7436                     643.3052                    ⋯\n",
       "                TCGA-D8-A1Y1-01A-21R-A14M-07 TCGA-E2-A14X-01A-11R-A115-07\n",
       "ENSG00000187634 1371.0811                     972.2779                   \n",
       "ENSG00000188976 4588.0816                    4379.2458                   \n",
       "ENSG00000187961  412.8108                     415.0719                   \n",
       "ENSG00000187583  525.6770                     750.9493                   \n",
       "ENSG00000187642  175.7901                     142.0406                   \n",
       "ENSG00000188290  469.5716                     481.2751                   \n",
       "                TCGA-A8-A08R-01A-11R-A034-07 TCGA-E2-A573-01A-11R-A29R-07\n",
       "ENSG00000187634 1084.9735                    1878.4529                   \n",
       "ENSG00000188976 4682.6432                    5216.2955                   \n",
       "ENSG00000187961  500.4730                    1011.6737                   \n",
       "ENSG00000187583  659.7224                    1626.3753                   \n",
       "ENSG00000187642  181.2705                     689.8508                   \n",
       "ENSG00000188290  403.3513                    2060.9258                   \n",
       "                TCGA-HN-A2OB-01A-21R-A27Q-07 TCGA-E9-A1RD-11A-33R-A157-07\n",
       "ENSG00000187634  888.29907                    228.716042                 \n",
       "ENSG00000188976 4148.51098                   1912.625126                 \n",
       "ENSG00000187961  635.57717                    163.661161                 \n",
       "ENSG00000187583  366.13612                     32.230718                 \n",
       "ENSG00000187642   99.69498                      9.433059                 \n",
       "ENSG00000188290  551.41539                     38.404204                 \n",
       "                TCGA-A2-A4S3-01A-21R-A266-07 TCGA-AR-A0TV-01A-21R-A084-07\n",
       "ENSG00000187634 1691.2917                    1100.2867                   \n",
       "ENSG00000188976 7097.2356                    5096.6851                   \n",
       "ENSG00000187961 1017.8911                     569.7564                   \n",
       "ENSG00000187583  846.9914                     532.1796                   \n",
       "ENSG00000187642  266.1080                     143.8944                   \n",
       "ENSG00000188290  738.1876                     360.5358                   \n",
       "                TCGA-AR-A2LQ-01A-22R-A18M-07 TCGA-C8-A12Z-01A-11R-A115-07\n",
       "ENSG00000187634  699.87112                    990.0674                   \n",
       "ENSG00000188976 3051.91771                   4530.5333                   \n",
       "ENSG00000187961  296.12358                    295.7288                   \n",
       "ENSG00000187583  234.99378                    783.9469                   \n",
       "ENSG00000187642   48.58651                    139.5265                   \n",
       "ENSG00000188290  192.32608                    192.1785                   "
      ]
     },
     "metadata": {},
     "output_type": "display_data"
    }
   ],
   "source": [
    "norm_DGD <- sweep(filtered, 2, colSums(filtered), FUN = '/')*median(colSums(exp_counts))\n",
    "\n",
    "head(norm_DGD)"
   ]
  },
  {
   "cell_type": "code",
   "execution_count": 28,
   "metadata": {
    "vscode": {
     "languageId": "r"
    }
   },
   "outputs": [],
   "source": [
    "#norm_DGD <- log2(norm_DGD+1e-6)\n",
    "norm_DGD <- log2(norm_DGD+1)"
   ]
  },
  {
   "cell_type": "code",
   "execution_count": 29,
   "metadata": {
    "vscode": {
     "languageId": "r"
    }
   },
   "outputs": [],
   "source": [
    "#saveRDS(norm_DGD,\"/faststorage/project/jsp_student_projects//miRNA_DGD_DE_F2024/data/pseudocount_1e-6/rescaled_decoder_outputs_filtered_normalized.rds\" )\n",
    "#saveRDS(norm_DGD,\"/faststorage/project/jsp_student_projects//miRNA_DGD_DE_F2024/data/pseudocount_1/rescaled_decoder_outputs_filtered_normalized.rds\" )\n",
    "saveRDS(norm_DGD,\"/faststorage/project/jsp_student_projects//miRNA_DGD_DE_F2024/data/filtered_by_paper/rescaled_decoder_outputs_filtered_normalized.rds\" )"
   ]
  },
  {
   "cell_type": "markdown",
   "metadata": {},
   "source": [
    "### Saving log2 FC pseudonormal filtered \n"
   ]
  },
  {
   "cell_type": "markdown",
   "metadata": {},
   "source": [
    "Using Mortens method of calculating the fold change scores using the median expression.\n",
    "In the DGD version we take the $$\\log_{2}\\left(\\frac{exp}{pred\\_means}\\right)$$ but this time we use that:\n",
    "\n",
    "$$\\log_{2}(a) - \\log_{2}(b) = \\log_{2}\\left(\\frac{a}{b}\\right)$$\n"
   ]
  },
  {
   "cell_type": "code",
   "execution_count": 30,
   "metadata": {
    "vscode": {
     "languageId": "r"
    }
   },
   "outputs": [
    {
     "data": {
      "text/html": [
       "<table class=\"dataframe\">\n",
       "<caption>A matrix: 6 × 6295 of type dbl</caption>\n",
       "<thead>\n",
       "\t<tr><th></th><th scope=col>TCGA-AA-3542-01A-02R-1873-07</th><th scope=col>TCGA-CW-6088-11A-01R-1672-07</th><th scope=col>TCGA-CZ-5989-01A-11R-1672-07</th><th scope=col>TCGA-B4-5832-01A-11R-1672-07</th><th scope=col>TCGA-B8-5549-11A-01R-1541-07</th><th scope=col>TCGA-AK-3447-01A-01R-1766-07</th><th scope=col>TCGA-CZ-5462-11A-01R-1503-07</th><th scope=col>TCGA-G9-6369-01A-21R-1965-07</th><th scope=col>TCGA-FC-A5OB-01A-11R-A29R-07</th><th scope=col>TCGA-FC-A6HD-01A-11R-A31N-07</th><th scope=col>⋯</th><th scope=col>TCGA-DU-7309-01A-11R-2090-07</th><th scope=col>TCGA-HT-7681-01A-11R-2403-07</th><th scope=col>TCGA-S9-A7IQ-01A-21R-A34F-07</th><th scope=col>TCGA-DB-A64L-01A-11R-A29R-07</th><th scope=col>TCGA-HT-8558-01A-21R-2404-07</th><th scope=col>TCGA-P5-A5F4-01A-11R-A28M-07</th><th scope=col>TCGA-HT-7607-01A-11R-2090-07</th><th scope=col>TCGA-E1-A7Z3-01A-11R-A34R-07</th><th scope=col>TCGA-DU-A6S6-01A-21R-A32Q-07</th><th scope=col>TCGA-HT-7610-01A-21R-2090-07</th></tr>\n",
       "</thead>\n",
       "<tbody>\n",
       "\t<tr><th scope=row>ENSG00000187634</th><td>10.545931</td><td> 9.269766</td><td>5.757510</td><td>5.855801</td><td> 9.563594</td><td> 7.672907</td><td> 9.215545</td><td>10.951982</td><td>10.014761</td><td>12.136193</td><td>⋯</td><td> 9.3369700</td><td> 9.982171</td><td> 9.520954</td><td> 9.532988</td><td> 9.233258</td><td>10.582206</td><td> 8.765550</td><td> 9.703661</td><td>10.094155</td><td> 9.411731</td></tr>\n",
       "\t<tr><th scope=row>ENSG00000188976</th><td>12.783824</td><td>11.306132</td><td>8.561739</td><td>7.634961</td><td>11.410587</td><td>10.055224</td><td>11.562807</td><td>12.579394</td><td>12.458062</td><td>13.483026</td><td>⋯</td><td>11.5806724</td><td>11.485693</td><td>12.097868</td><td>11.944064</td><td>11.987953</td><td>12.124741</td><td>11.452499</td><td>11.919600</td><td>11.891965</td><td>11.825936</td></tr>\n",
       "\t<tr><th scope=row>ENSG00000187961</th><td> 8.585878</td><td> 7.537208</td><td>2.627681</td><td>1.943217</td><td> 7.048642</td><td> 5.426738</td><td> 6.411635</td><td> 7.951335</td><td> 8.373291</td><td> 9.558878</td><td>⋯</td><td> 8.1920664</td><td> 8.495846</td><td> 8.831879</td><td> 8.387832</td><td> 8.284669</td><td> 9.908319</td><td> 7.527129</td><td> 9.546962</td><td> 9.512924</td><td> 9.014824</td></tr>\n",
       "\t<tr><th scope=row>ENSG00000187583</th><td> 7.352188</td><td> 4.346384</td><td>3.802276</td><td>2.742274</td><td> 4.683169</td><td> 1.263317</td><td> 5.512279</td><td> 7.939794</td><td> 7.626450</td><td> 9.354391</td><td>⋯</td><td> 0.8520962</td><td> 1.073332</td><td> 2.908247</td><td> 2.554659</td><td> 1.415061</td><td> 2.205820</td><td> 1.766954</td><td> 0.000000</td><td> 2.168787</td><td> 2.123295</td></tr>\n",
       "\t<tr><th scope=row>ENSG00000187642</th><td> 5.893869</td><td> 5.235840</td><td>4.882240</td><td>3.630229</td><td> 5.180796</td><td> 0.000000</td><td> 4.543546</td><td> 8.704273</td><td> 7.474367</td><td> 9.638684</td><td>⋯</td><td> 2.0774096</td><td> 2.930874</td><td> 3.808809</td><td> 3.055357</td><td> 2.772622</td><td> 3.949859</td><td> 3.294587</td><td> 1.772979</td><td> 3.788720</td><td> 2.671522</td></tr>\n",
       "\t<tr><th scope=row>ENSG00000188290</th><td> 9.059733</td><td> 5.931367</td><td>2.288429</td><td>2.397374</td><td> 7.095906</td><td> 3.000424</td><td> 6.203313</td><td>11.125015</td><td> 9.725734</td><td>10.026759</td><td>⋯</td><td> 7.8022813</td><td> 9.416691</td><td> 9.317137</td><td> 8.957277</td><td> 7.552066</td><td> 9.751855</td><td> 6.852492</td><td> 9.684714</td><td> 9.593485</td><td> 8.318462</td></tr>\n",
       "</tbody>\n",
       "</table>\n"
      ],
      "text/latex": [
       "A matrix: 6 × 6295 of type dbl\n",
       "\\begin{tabular}{r|lllllllllllllllllllll}\n",
       "  & TCGA-AA-3542-01A-02R-1873-07 & TCGA-CW-6088-11A-01R-1672-07 & TCGA-CZ-5989-01A-11R-1672-07 & TCGA-B4-5832-01A-11R-1672-07 & TCGA-B8-5549-11A-01R-1541-07 & TCGA-AK-3447-01A-01R-1766-07 & TCGA-CZ-5462-11A-01R-1503-07 & TCGA-G9-6369-01A-21R-1965-07 & TCGA-FC-A5OB-01A-11R-A29R-07 & TCGA-FC-A6HD-01A-11R-A31N-07 & ⋯ & TCGA-DU-7309-01A-11R-2090-07 & TCGA-HT-7681-01A-11R-2403-07 & TCGA-S9-A7IQ-01A-21R-A34F-07 & TCGA-DB-A64L-01A-11R-A29R-07 & TCGA-HT-8558-01A-21R-2404-07 & TCGA-P5-A5F4-01A-11R-A28M-07 & TCGA-HT-7607-01A-11R-2090-07 & TCGA-E1-A7Z3-01A-11R-A34R-07 & TCGA-DU-A6S6-01A-21R-A32Q-07 & TCGA-HT-7610-01A-21R-2090-07\\\\\n",
       "\\hline\n",
       "\tENSG00000187634 & 10.545931 &  9.269766 & 5.757510 & 5.855801 &  9.563594 &  7.672907 &  9.215545 & 10.951982 & 10.014761 & 12.136193 & ⋯ &  9.3369700 &  9.982171 &  9.520954 &  9.532988 &  9.233258 & 10.582206 &  8.765550 &  9.703661 & 10.094155 &  9.411731\\\\\n",
       "\tENSG00000188976 & 12.783824 & 11.306132 & 8.561739 & 7.634961 & 11.410587 & 10.055224 & 11.562807 & 12.579394 & 12.458062 & 13.483026 & ⋯ & 11.5806724 & 11.485693 & 12.097868 & 11.944064 & 11.987953 & 12.124741 & 11.452499 & 11.919600 & 11.891965 & 11.825936\\\\\n",
       "\tENSG00000187961 &  8.585878 &  7.537208 & 2.627681 & 1.943217 &  7.048642 &  5.426738 &  6.411635 &  7.951335 &  8.373291 &  9.558878 & ⋯ &  8.1920664 &  8.495846 &  8.831879 &  8.387832 &  8.284669 &  9.908319 &  7.527129 &  9.546962 &  9.512924 &  9.014824\\\\\n",
       "\tENSG00000187583 &  7.352188 &  4.346384 & 3.802276 & 2.742274 &  4.683169 &  1.263317 &  5.512279 &  7.939794 &  7.626450 &  9.354391 & ⋯ &  0.8520962 &  1.073332 &  2.908247 &  2.554659 &  1.415061 &  2.205820 &  1.766954 &  0.000000 &  2.168787 &  2.123295\\\\\n",
       "\tENSG00000187642 &  5.893869 &  5.235840 & 4.882240 & 3.630229 &  5.180796 &  0.000000 &  4.543546 &  8.704273 &  7.474367 &  9.638684 & ⋯ &  2.0774096 &  2.930874 &  3.808809 &  3.055357 &  2.772622 &  3.949859 &  3.294587 &  1.772979 &  3.788720 &  2.671522\\\\\n",
       "\tENSG00000188290 &  9.059733 &  5.931367 & 2.288429 & 2.397374 &  7.095906 &  3.000424 &  6.203313 & 11.125015 &  9.725734 & 10.026759 & ⋯ &  7.8022813 &  9.416691 &  9.317137 &  8.957277 &  7.552066 &  9.751855 &  6.852492 &  9.684714 &  9.593485 &  8.318462\\\\\n",
       "\\end{tabular}\n"
      ],
      "text/markdown": [
       "\n",
       "A matrix: 6 × 6295 of type dbl\n",
       "\n",
       "| <!--/--> | TCGA-AA-3542-01A-02R-1873-07 | TCGA-CW-6088-11A-01R-1672-07 | TCGA-CZ-5989-01A-11R-1672-07 | TCGA-B4-5832-01A-11R-1672-07 | TCGA-B8-5549-11A-01R-1541-07 | TCGA-AK-3447-01A-01R-1766-07 | TCGA-CZ-5462-11A-01R-1503-07 | TCGA-G9-6369-01A-21R-1965-07 | TCGA-FC-A5OB-01A-11R-A29R-07 | TCGA-FC-A6HD-01A-11R-A31N-07 | ⋯ | TCGA-DU-7309-01A-11R-2090-07 | TCGA-HT-7681-01A-11R-2403-07 | TCGA-S9-A7IQ-01A-21R-A34F-07 | TCGA-DB-A64L-01A-11R-A29R-07 | TCGA-HT-8558-01A-21R-2404-07 | TCGA-P5-A5F4-01A-11R-A28M-07 | TCGA-HT-7607-01A-11R-2090-07 | TCGA-E1-A7Z3-01A-11R-A34R-07 | TCGA-DU-A6S6-01A-21R-A32Q-07 | TCGA-HT-7610-01A-21R-2090-07 |\n",
       "|---|---|---|---|---|---|---|---|---|---|---|---|---|---|---|---|---|---|---|---|---|---|\n",
       "| ENSG00000187634 | 10.545931 |  9.269766 | 5.757510 | 5.855801 |  9.563594 |  7.672907 |  9.215545 | 10.951982 | 10.014761 | 12.136193 | ⋯ |  9.3369700 |  9.982171 |  9.520954 |  9.532988 |  9.233258 | 10.582206 |  8.765550 |  9.703661 | 10.094155 |  9.411731 |\n",
       "| ENSG00000188976 | 12.783824 | 11.306132 | 8.561739 | 7.634961 | 11.410587 | 10.055224 | 11.562807 | 12.579394 | 12.458062 | 13.483026 | ⋯ | 11.5806724 | 11.485693 | 12.097868 | 11.944064 | 11.987953 | 12.124741 | 11.452499 | 11.919600 | 11.891965 | 11.825936 |\n",
       "| ENSG00000187961 |  8.585878 |  7.537208 | 2.627681 | 1.943217 |  7.048642 |  5.426738 |  6.411635 |  7.951335 |  8.373291 |  9.558878 | ⋯ |  8.1920664 |  8.495846 |  8.831879 |  8.387832 |  8.284669 |  9.908319 |  7.527129 |  9.546962 |  9.512924 |  9.014824 |\n",
       "| ENSG00000187583 |  7.352188 |  4.346384 | 3.802276 | 2.742274 |  4.683169 |  1.263317 |  5.512279 |  7.939794 |  7.626450 |  9.354391 | ⋯ |  0.8520962 |  1.073332 |  2.908247 |  2.554659 |  1.415061 |  2.205820 |  1.766954 |  0.000000 |  2.168787 |  2.123295 |\n",
       "| ENSG00000187642 |  5.893869 |  5.235840 | 4.882240 | 3.630229 |  5.180796 |  0.000000 |  4.543546 |  8.704273 |  7.474367 |  9.638684 | ⋯ |  2.0774096 |  2.930874 |  3.808809 |  3.055357 |  2.772622 |  3.949859 |  3.294587 |  1.772979 |  3.788720 |  2.671522 |\n",
       "| ENSG00000188290 |  9.059733 |  5.931367 | 2.288429 | 2.397374 |  7.095906 |  3.000424 |  6.203313 | 11.125015 |  9.725734 | 10.026759 | ⋯ |  7.8022813 |  9.416691 |  9.317137 |  8.957277 |  7.552066 |  9.751855 |  6.852492 |  9.684714 |  9.593485 |  8.318462 |\n",
       "\n"
      ],
      "text/plain": [
       "                TCGA-AA-3542-01A-02R-1873-07 TCGA-CW-6088-11A-01R-1672-07\n",
       "ENSG00000187634 10.545931                     9.269766                   \n",
       "ENSG00000188976 12.783824                    11.306132                   \n",
       "ENSG00000187961  8.585878                     7.537208                   \n",
       "ENSG00000187583  7.352188                     4.346384                   \n",
       "ENSG00000187642  5.893869                     5.235840                   \n",
       "ENSG00000188290  9.059733                     5.931367                   \n",
       "                TCGA-CZ-5989-01A-11R-1672-07 TCGA-B4-5832-01A-11R-1672-07\n",
       "ENSG00000187634 5.757510                     5.855801                    \n",
       "ENSG00000188976 8.561739                     7.634961                    \n",
       "ENSG00000187961 2.627681                     1.943217                    \n",
       "ENSG00000187583 3.802276                     2.742274                    \n",
       "ENSG00000187642 4.882240                     3.630229                    \n",
       "ENSG00000188290 2.288429                     2.397374                    \n",
       "                TCGA-B8-5549-11A-01R-1541-07 TCGA-AK-3447-01A-01R-1766-07\n",
       "ENSG00000187634  9.563594                     7.672907                   \n",
       "ENSG00000188976 11.410587                    10.055224                   \n",
       "ENSG00000187961  7.048642                     5.426738                   \n",
       "ENSG00000187583  4.683169                     1.263317                   \n",
       "ENSG00000187642  5.180796                     0.000000                   \n",
       "ENSG00000188290  7.095906                     3.000424                   \n",
       "                TCGA-CZ-5462-11A-01R-1503-07 TCGA-G9-6369-01A-21R-1965-07\n",
       "ENSG00000187634  9.215545                    10.951982                   \n",
       "ENSG00000188976 11.562807                    12.579394                   \n",
       "ENSG00000187961  6.411635                     7.951335                   \n",
       "ENSG00000187583  5.512279                     7.939794                   \n",
       "ENSG00000187642  4.543546                     8.704273                   \n",
       "ENSG00000188290  6.203313                    11.125015                   \n",
       "                TCGA-FC-A5OB-01A-11R-A29R-07 TCGA-FC-A6HD-01A-11R-A31N-07 ⋯\n",
       "ENSG00000187634 10.014761                    12.136193                    ⋯\n",
       "ENSG00000188976 12.458062                    13.483026                    ⋯\n",
       "ENSG00000187961  8.373291                     9.558878                    ⋯\n",
       "ENSG00000187583  7.626450                     9.354391                    ⋯\n",
       "ENSG00000187642  7.474367                     9.638684                    ⋯\n",
       "ENSG00000188290  9.725734                    10.026759                    ⋯\n",
       "                TCGA-DU-7309-01A-11R-2090-07 TCGA-HT-7681-01A-11R-2403-07\n",
       "ENSG00000187634  9.3369700                    9.982171                   \n",
       "ENSG00000188976 11.5806724                   11.485693                   \n",
       "ENSG00000187961  8.1920664                    8.495846                   \n",
       "ENSG00000187583  0.8520962                    1.073332                   \n",
       "ENSG00000187642  2.0774096                    2.930874                   \n",
       "ENSG00000188290  7.8022813                    9.416691                   \n",
       "                TCGA-S9-A7IQ-01A-21R-A34F-07 TCGA-DB-A64L-01A-11R-A29R-07\n",
       "ENSG00000187634  9.520954                     9.532988                   \n",
       "ENSG00000188976 12.097868                    11.944064                   \n",
       "ENSG00000187961  8.831879                     8.387832                   \n",
       "ENSG00000187583  2.908247                     2.554659                   \n",
       "ENSG00000187642  3.808809                     3.055357                   \n",
       "ENSG00000188290  9.317137                     8.957277                   \n",
       "                TCGA-HT-8558-01A-21R-2404-07 TCGA-P5-A5F4-01A-11R-A28M-07\n",
       "ENSG00000187634  9.233258                    10.582206                   \n",
       "ENSG00000188976 11.987953                    12.124741                   \n",
       "ENSG00000187961  8.284669                     9.908319                   \n",
       "ENSG00000187583  1.415061                     2.205820                   \n",
       "ENSG00000187642  2.772622                     3.949859                   \n",
       "ENSG00000188290  7.552066                     9.751855                   \n",
       "                TCGA-HT-7607-01A-11R-2090-07 TCGA-E1-A7Z3-01A-11R-A34R-07\n",
       "ENSG00000187634  8.765550                     9.703661                   \n",
       "ENSG00000188976 11.452499                    11.919600                   \n",
       "ENSG00000187961  7.527129                     9.546962                   \n",
       "ENSG00000187583  1.766954                     0.000000                   \n",
       "ENSG00000187642  3.294587                     1.772979                   \n",
       "ENSG00000188290  6.852492                     9.684714                   \n",
       "                TCGA-DU-A6S6-01A-21R-A32Q-07 TCGA-HT-7610-01A-21R-2090-07\n",
       "ENSG00000187634 10.094155                     9.411731                   \n",
       "ENSG00000188976 11.891965                    11.825936                   \n",
       "ENSG00000187961  9.512924                     9.014824                   \n",
       "ENSG00000187583  2.168787                     2.123295                   \n",
       "ENSG00000187642  3.788720                     2.671522                   \n",
       "ENSG00000188290  9.593485                     8.318462                   "
      ]
     },
     "metadata": {},
     "output_type": "display_data"
    },
    {
     "data": {
      "text/html": [
       "<table class=\"dataframe\">\n",
       "<caption>A matrix: 6 × 6295 of type dbl</caption>\n",
       "<thead>\n",
       "\t<tr><th></th><th scope=col>TCGA-AA-3542-01A-02R-1873-07</th><th scope=col>TCGA-CW-6088-11A-01R-1672-07</th><th scope=col>TCGA-CZ-5989-01A-11R-1672-07</th><th scope=col>TCGA-B4-5832-01A-11R-1672-07</th><th scope=col>TCGA-B8-5549-11A-01R-1541-07</th><th scope=col>TCGA-AK-3447-01A-01R-1766-07</th><th scope=col>TCGA-CZ-5462-11A-01R-1503-07</th><th scope=col>TCGA-G9-6369-01A-21R-1965-07</th><th scope=col>TCGA-FC-A5OB-01A-11R-A29R-07</th><th scope=col>TCGA-FC-A6HD-01A-11R-A31N-07</th><th scope=col>⋯</th><th scope=col>TCGA-DU-7309-01A-11R-2090-07</th><th scope=col>TCGA-HT-7681-01A-11R-2403-07</th><th scope=col>TCGA-S9-A7IQ-01A-21R-A34F-07</th><th scope=col>TCGA-DB-A64L-01A-11R-A29R-07</th><th scope=col>TCGA-HT-8558-01A-21R-2404-07</th><th scope=col>TCGA-P5-A5F4-01A-11R-A28M-07</th><th scope=col>TCGA-HT-7607-01A-11R-2090-07</th><th scope=col>TCGA-E1-A7Z3-01A-11R-A34R-07</th><th scope=col>TCGA-DU-A6S6-01A-21R-A32Q-07</th><th scope=col>TCGA-HT-7610-01A-21R-2090-07</th></tr>\n",
       "</thead>\n",
       "<tbody>\n",
       "\t<tr><th scope=row>ENSG00000187634</th><td> 0.5824023</td><td>-0.6937622</td><td>-4.206018</td><td>-4.107727</td><td>-0.3999341</td><td>-2.290621</td><td>-0.7479836</td><td> 0.9884542</td><td> 0.051232284</td><td>2.172665</td><td>⋯</td><td>-0.6265582</td><td> 0.01864243</td><td>-0.442574385</td><td>-0.43054009</td><td>-0.73027021</td><td> 0.61867735</td><td>-1.1979781</td><td>-0.2598677</td><td> 0.1306267</td><td>-0.55179725</td></tr>\n",
       "\t<tr><th scope=row>ENSG00000188976</th><td> 0.6845525</td><td>-0.7931393</td><td>-3.537532</td><td>-4.464310</td><td>-0.6886839</td><td>-2.044048</td><td>-0.5364638</td><td> 0.4801230</td><td> 0.358791165</td><td>1.383755</td><td>⋯</td><td>-0.5185988</td><td>-0.61357773</td><td>-0.001402738</td><td>-0.15520681</td><td>-0.11131799</td><td> 0.02546956</td><td>-0.6467719</td><td>-0.1796711</td><td>-0.2073061</td><td>-0.27333516</td></tr>\n",
       "\t<tr><th scope=row>ENSG00000187961</th><td> 0.2212159</td><td>-0.8274539</td><td>-5.736981</td><td>-6.421445</td><td>-1.3160197</td><td>-2.937924</td><td>-1.9530270</td><td>-0.4133264</td><td> 0.008629546</td><td>1.194217</td><td>⋯</td><td>-0.1725954</td><td> 0.13118390</td><td> 0.467217304</td><td> 0.02317051</td><td>-0.07999273</td><td> 1.54365746</td><td>-0.8375331</td><td> 1.1823003</td><td> 1.1482623</td><td> 0.65016241</td></tr>\n",
       "\t<tr><th scope=row>ENSG00000187583</th><td>-0.3483619</td><td>-3.3541663</td><td>-3.898274</td><td>-4.958276</td><td>-3.0173815</td><td>-6.437233</td><td>-2.1882715</td><td> 0.2392444</td><td>-0.074100298</td><td>1.653841</td><td>⋯</td><td>-6.8484538</td><td>-6.62721833</td><td>-4.792302630</td><td>-5.14589108</td><td>-6.28548887</td><td>-5.49472999</td><td>-5.9335959</td><td>-7.7005501</td><td>-5.5317630</td><td>-5.57725472</td></tr>\n",
       "\t<tr><th scope=row>ENSG00000187642</th><td>-0.7721797</td><td>-1.4302092</td><td>-1.783809</td><td>-3.035820</td><td>-1.4852534</td><td>-6.666049</td><td>-2.1225027</td><td> 2.0382235</td><td> 0.808317817</td><td>2.972635</td><td>⋯</td><td>-4.5886395</td><td>-3.73517473</td><td>-2.857240456</td><td>-3.61069230</td><td>-3.89342722</td><td>-2.71619035</td><td>-3.3714619</td><td>-4.8930700</td><td>-2.8773295</td><td>-3.99452748</td></tr>\n",
       "\t<tr><th scope=row>ENSG00000188290</th><td> 0.6793659</td><td>-2.4490000</td><td>-6.091938</td><td>-5.982994</td><td>-1.2844609</td><td>-5.379944</td><td>-2.1770538</td><td> 2.7446476</td><td> 1.345366666</td><td>1.646392</td><td>⋯</td><td>-0.5780859</td><td> 1.03632386</td><td> 0.936769901</td><td> 0.57690983</td><td>-0.82830095</td><td> 1.37148773</td><td>-1.5278748</td><td> 1.3043470</td><td> 1.2131180</td><td>-0.06190484</td></tr>\n",
       "</tbody>\n",
       "</table>\n"
      ],
      "text/latex": [
       "A matrix: 6 × 6295 of type dbl\n",
       "\\begin{tabular}{r|lllllllllllllllllllll}\n",
       "  & TCGA-AA-3542-01A-02R-1873-07 & TCGA-CW-6088-11A-01R-1672-07 & TCGA-CZ-5989-01A-11R-1672-07 & TCGA-B4-5832-01A-11R-1672-07 & TCGA-B8-5549-11A-01R-1541-07 & TCGA-AK-3447-01A-01R-1766-07 & TCGA-CZ-5462-11A-01R-1503-07 & TCGA-G9-6369-01A-21R-1965-07 & TCGA-FC-A5OB-01A-11R-A29R-07 & TCGA-FC-A6HD-01A-11R-A31N-07 & ⋯ & TCGA-DU-7309-01A-11R-2090-07 & TCGA-HT-7681-01A-11R-2403-07 & TCGA-S9-A7IQ-01A-21R-A34F-07 & TCGA-DB-A64L-01A-11R-A29R-07 & TCGA-HT-8558-01A-21R-2404-07 & TCGA-P5-A5F4-01A-11R-A28M-07 & TCGA-HT-7607-01A-11R-2090-07 & TCGA-E1-A7Z3-01A-11R-A34R-07 & TCGA-DU-A6S6-01A-21R-A32Q-07 & TCGA-HT-7610-01A-21R-2090-07\\\\\n",
       "\\hline\n",
       "\tENSG00000187634 &  0.5824023 & -0.6937622 & -4.206018 & -4.107727 & -0.3999341 & -2.290621 & -0.7479836 &  0.9884542 &  0.051232284 & 2.172665 & ⋯ & -0.6265582 &  0.01864243 & -0.442574385 & -0.43054009 & -0.73027021 &  0.61867735 & -1.1979781 & -0.2598677 &  0.1306267 & -0.55179725\\\\\n",
       "\tENSG00000188976 &  0.6845525 & -0.7931393 & -3.537532 & -4.464310 & -0.6886839 & -2.044048 & -0.5364638 &  0.4801230 &  0.358791165 & 1.383755 & ⋯ & -0.5185988 & -0.61357773 & -0.001402738 & -0.15520681 & -0.11131799 &  0.02546956 & -0.6467719 & -0.1796711 & -0.2073061 & -0.27333516\\\\\n",
       "\tENSG00000187961 &  0.2212159 & -0.8274539 & -5.736981 & -6.421445 & -1.3160197 & -2.937924 & -1.9530270 & -0.4133264 &  0.008629546 & 1.194217 & ⋯ & -0.1725954 &  0.13118390 &  0.467217304 &  0.02317051 & -0.07999273 &  1.54365746 & -0.8375331 &  1.1823003 &  1.1482623 &  0.65016241\\\\\n",
       "\tENSG00000187583 & -0.3483619 & -3.3541663 & -3.898274 & -4.958276 & -3.0173815 & -6.437233 & -2.1882715 &  0.2392444 & -0.074100298 & 1.653841 & ⋯ & -6.8484538 & -6.62721833 & -4.792302630 & -5.14589108 & -6.28548887 & -5.49472999 & -5.9335959 & -7.7005501 & -5.5317630 & -5.57725472\\\\\n",
       "\tENSG00000187642 & -0.7721797 & -1.4302092 & -1.783809 & -3.035820 & -1.4852534 & -6.666049 & -2.1225027 &  2.0382235 &  0.808317817 & 2.972635 & ⋯ & -4.5886395 & -3.73517473 & -2.857240456 & -3.61069230 & -3.89342722 & -2.71619035 & -3.3714619 & -4.8930700 & -2.8773295 & -3.99452748\\\\\n",
       "\tENSG00000188290 &  0.6793659 & -2.4490000 & -6.091938 & -5.982994 & -1.2844609 & -5.379944 & -2.1770538 &  2.7446476 &  1.345366666 & 1.646392 & ⋯ & -0.5780859 &  1.03632386 &  0.936769901 &  0.57690983 & -0.82830095 &  1.37148773 & -1.5278748 &  1.3043470 &  1.2131180 & -0.06190484\\\\\n",
       "\\end{tabular}\n"
      ],
      "text/markdown": [
       "\n",
       "A matrix: 6 × 6295 of type dbl\n",
       "\n",
       "| <!--/--> | TCGA-AA-3542-01A-02R-1873-07 | TCGA-CW-6088-11A-01R-1672-07 | TCGA-CZ-5989-01A-11R-1672-07 | TCGA-B4-5832-01A-11R-1672-07 | TCGA-B8-5549-11A-01R-1541-07 | TCGA-AK-3447-01A-01R-1766-07 | TCGA-CZ-5462-11A-01R-1503-07 | TCGA-G9-6369-01A-21R-1965-07 | TCGA-FC-A5OB-01A-11R-A29R-07 | TCGA-FC-A6HD-01A-11R-A31N-07 | ⋯ | TCGA-DU-7309-01A-11R-2090-07 | TCGA-HT-7681-01A-11R-2403-07 | TCGA-S9-A7IQ-01A-21R-A34F-07 | TCGA-DB-A64L-01A-11R-A29R-07 | TCGA-HT-8558-01A-21R-2404-07 | TCGA-P5-A5F4-01A-11R-A28M-07 | TCGA-HT-7607-01A-11R-2090-07 | TCGA-E1-A7Z3-01A-11R-A34R-07 | TCGA-DU-A6S6-01A-21R-A32Q-07 | TCGA-HT-7610-01A-21R-2090-07 |\n",
       "|---|---|---|---|---|---|---|---|---|---|---|---|---|---|---|---|---|---|---|---|---|---|\n",
       "| ENSG00000187634 |  0.5824023 | -0.6937622 | -4.206018 | -4.107727 | -0.3999341 | -2.290621 | -0.7479836 |  0.9884542 |  0.051232284 | 2.172665 | ⋯ | -0.6265582 |  0.01864243 | -0.442574385 | -0.43054009 | -0.73027021 |  0.61867735 | -1.1979781 | -0.2598677 |  0.1306267 | -0.55179725 |\n",
       "| ENSG00000188976 |  0.6845525 | -0.7931393 | -3.537532 | -4.464310 | -0.6886839 | -2.044048 | -0.5364638 |  0.4801230 |  0.358791165 | 1.383755 | ⋯ | -0.5185988 | -0.61357773 | -0.001402738 | -0.15520681 | -0.11131799 |  0.02546956 | -0.6467719 | -0.1796711 | -0.2073061 | -0.27333516 |\n",
       "| ENSG00000187961 |  0.2212159 | -0.8274539 | -5.736981 | -6.421445 | -1.3160197 | -2.937924 | -1.9530270 | -0.4133264 |  0.008629546 | 1.194217 | ⋯ | -0.1725954 |  0.13118390 |  0.467217304 |  0.02317051 | -0.07999273 |  1.54365746 | -0.8375331 |  1.1823003 |  1.1482623 |  0.65016241 |\n",
       "| ENSG00000187583 | -0.3483619 | -3.3541663 | -3.898274 | -4.958276 | -3.0173815 | -6.437233 | -2.1882715 |  0.2392444 | -0.074100298 | 1.653841 | ⋯ | -6.8484538 | -6.62721833 | -4.792302630 | -5.14589108 | -6.28548887 | -5.49472999 | -5.9335959 | -7.7005501 | -5.5317630 | -5.57725472 |\n",
       "| ENSG00000187642 | -0.7721797 | -1.4302092 | -1.783809 | -3.035820 | -1.4852534 | -6.666049 | -2.1225027 |  2.0382235 |  0.808317817 | 2.972635 | ⋯ | -4.5886395 | -3.73517473 | -2.857240456 | -3.61069230 | -3.89342722 | -2.71619035 | -3.3714619 | -4.8930700 | -2.8773295 | -3.99452748 |\n",
       "| ENSG00000188290 |  0.6793659 | -2.4490000 | -6.091938 | -5.982994 | -1.2844609 | -5.379944 | -2.1770538 |  2.7446476 |  1.345366666 | 1.646392 | ⋯ | -0.5780859 |  1.03632386 |  0.936769901 |  0.57690983 | -0.82830095 |  1.37148773 | -1.5278748 |  1.3043470 |  1.2131180 | -0.06190484 |\n",
       "\n"
      ],
      "text/plain": [
       "                TCGA-AA-3542-01A-02R-1873-07 TCGA-CW-6088-11A-01R-1672-07\n",
       "ENSG00000187634  0.5824023                   -0.6937622                  \n",
       "ENSG00000188976  0.6845525                   -0.7931393                  \n",
       "ENSG00000187961  0.2212159                   -0.8274539                  \n",
       "ENSG00000187583 -0.3483619                   -3.3541663                  \n",
       "ENSG00000187642 -0.7721797                   -1.4302092                  \n",
       "ENSG00000188290  0.6793659                   -2.4490000                  \n",
       "                TCGA-CZ-5989-01A-11R-1672-07 TCGA-B4-5832-01A-11R-1672-07\n",
       "ENSG00000187634 -4.206018                    -4.107727                   \n",
       "ENSG00000188976 -3.537532                    -4.464310                   \n",
       "ENSG00000187961 -5.736981                    -6.421445                   \n",
       "ENSG00000187583 -3.898274                    -4.958276                   \n",
       "ENSG00000187642 -1.783809                    -3.035820                   \n",
       "ENSG00000188290 -6.091938                    -5.982994                   \n",
       "                TCGA-B8-5549-11A-01R-1541-07 TCGA-AK-3447-01A-01R-1766-07\n",
       "ENSG00000187634 -0.3999341                   -2.290621                   \n",
       "ENSG00000188976 -0.6886839                   -2.044048                   \n",
       "ENSG00000187961 -1.3160197                   -2.937924                   \n",
       "ENSG00000187583 -3.0173815                   -6.437233                   \n",
       "ENSG00000187642 -1.4852534                   -6.666049                   \n",
       "ENSG00000188290 -1.2844609                   -5.379944                   \n",
       "                TCGA-CZ-5462-11A-01R-1503-07 TCGA-G9-6369-01A-21R-1965-07\n",
       "ENSG00000187634 -0.7479836                    0.9884542                  \n",
       "ENSG00000188976 -0.5364638                    0.4801230                  \n",
       "ENSG00000187961 -1.9530270                   -0.4133264                  \n",
       "ENSG00000187583 -2.1882715                    0.2392444                  \n",
       "ENSG00000187642 -2.1225027                    2.0382235                  \n",
       "ENSG00000188290 -2.1770538                    2.7446476                  \n",
       "                TCGA-FC-A5OB-01A-11R-A29R-07 TCGA-FC-A6HD-01A-11R-A31N-07 ⋯\n",
       "ENSG00000187634  0.051232284                 2.172665                     ⋯\n",
       "ENSG00000188976  0.358791165                 1.383755                     ⋯\n",
       "ENSG00000187961  0.008629546                 1.194217                     ⋯\n",
       "ENSG00000187583 -0.074100298                 1.653841                     ⋯\n",
       "ENSG00000187642  0.808317817                 2.972635                     ⋯\n",
       "ENSG00000188290  1.345366666                 1.646392                     ⋯\n",
       "                TCGA-DU-7309-01A-11R-2090-07 TCGA-HT-7681-01A-11R-2403-07\n",
       "ENSG00000187634 -0.6265582                    0.01864243                 \n",
       "ENSG00000188976 -0.5185988                   -0.61357773                 \n",
       "ENSG00000187961 -0.1725954                    0.13118390                 \n",
       "ENSG00000187583 -6.8484538                   -6.62721833                 \n",
       "ENSG00000187642 -4.5886395                   -3.73517473                 \n",
       "ENSG00000188290 -0.5780859                    1.03632386                 \n",
       "                TCGA-S9-A7IQ-01A-21R-A34F-07 TCGA-DB-A64L-01A-11R-A29R-07\n",
       "ENSG00000187634 -0.442574385                 -0.43054009                 \n",
       "ENSG00000188976 -0.001402738                 -0.15520681                 \n",
       "ENSG00000187961  0.467217304                  0.02317051                 \n",
       "ENSG00000187583 -4.792302630                 -5.14589108                 \n",
       "ENSG00000187642 -2.857240456                 -3.61069230                 \n",
       "ENSG00000188290  0.936769901                  0.57690983                 \n",
       "                TCGA-HT-8558-01A-21R-2404-07 TCGA-P5-A5F4-01A-11R-A28M-07\n",
       "ENSG00000187634 -0.73027021                   0.61867735                 \n",
       "ENSG00000188976 -0.11131799                   0.02546956                 \n",
       "ENSG00000187961 -0.07999273                   1.54365746                 \n",
       "ENSG00000187583 -6.28548887                  -5.49472999                 \n",
       "ENSG00000187642 -3.89342722                  -2.71619035                 \n",
       "ENSG00000188290 -0.82830095                   1.37148773                 \n",
       "                TCGA-HT-7607-01A-11R-2090-07 TCGA-E1-A7Z3-01A-11R-A34R-07\n",
       "ENSG00000187634 -1.1979781                   -0.2598677                  \n",
       "ENSG00000188976 -0.6467719                   -0.1796711                  \n",
       "ENSG00000187961 -0.8375331                    1.1823003                  \n",
       "ENSG00000187583 -5.9335959                   -7.7005501                  \n",
       "ENSG00000187642 -3.3714619                   -4.8930700                  \n",
       "ENSG00000188290 -1.5278748                    1.3043470                  \n",
       "                TCGA-DU-A6S6-01A-21R-A32Q-07 TCGA-HT-7610-01A-21R-2090-07\n",
       "ENSG00000187634  0.1306267                   -0.55179725                 \n",
       "ENSG00000188976 -0.2073061                   -0.27333516                 \n",
       "ENSG00000187961  1.1482623                    0.65016241                 \n",
       "ENSG00000187583 -5.5317630                   -5.57725472                 \n",
       "ENSG00000187642 -2.8773295                   -3.99452748                 \n",
       "ENSG00000188290  1.2131180                   -0.06190484                 "
      ]
     },
     "metadata": {},
     "output_type": "display_data"
    }
   ],
   "source": [
    "#exp <- readRDS(\"/home/elisalaegsgaard/jsp_student_projects/miRNA_DGD_DE_F2024/data/pseudocount_1e-6/counts_filtered_normalized.rds\")\n",
    "#exp <- readRDS(\"/home/elisalaegsgaard/jsp_student_projects/miRNA_DGD_DE_F2024/data/pseudocount_1/counts_filtered_normalized.rds\")\n",
    "#\n",
    "exp <- readRDS(\"/home/elisalaegsgaard/jsp_student_projects/miRNA_DGD_DE_F2024/data/filtered_by_paper/counts_filtered_normalized.rds\")\n",
    "\n",
    "\n",
    "head(exp)\n",
    "pred_means_morten <- apply(exp,1,median) \n",
    "FC_morten <- apply(exp,2,function(x)(x-pred_means_morten))\n",
    "head(FC_morten)"
   ]
  },
  {
   "cell_type": "code",
   "execution_count": 31,
   "metadata": {
    "vscode": {
     "languageId": "r"
    }
   },
   "outputs": [],
   "source": [
    "#saveRDS(FC_morten,\"/faststorage/project/jsp_student_projects//miRNA_DGD_DE_F2024/data/pseudocount_1e-6/morten_log2_fold_change_scores.rds\" )\n",
    "#saveRDS(FC_morten,\"/faststorage/project/jsp_student_projects/miRNA_DGD_DE_F2024/data/pseudocount_1/morten_log2_fold_change_scores.rds\" )\n",
    "saveRDS(FC_morten,\"/faststorage/project/jsp_student_projects/miRNA_DGD_DE_F2024/data/filtered_by_paper/morten_log2_fold_change_scores.rds\" )"
   ]
  },
  {
   "cell_type": "markdown",
   "metadata": {},
   "source": [
    "### DGD fold change calculation"
   ]
  },
  {
   "cell_type": "code",
   "execution_count": 12,
   "metadata": {
    "vscode": {
     "languageId": "r"
    }
   },
   "outputs": [
    {
     "data": {
      "text/html": [
       "<table class=\"dataframe\">\n",
       "<caption>A matrix: 6 × 10682 of type dbl</caption>\n",
       "<thead>\n",
       "\t<tr><th></th><th scope=col>TCGA-EW-A6SA-01A-21R-A32P-07</th><th scope=col>TCGA-E2-A14W-01A-11R-A12D-07</th><th scope=col>TCGA-EW-A1PD-01A-11R-A144-07</th><th scope=col>TCGA-55-1594-01A-01R-0946-07</th><th scope=col>TCGA-49-6742-11A-01R-1858-07</th><th scope=col>TCGA-50-5932-11A-01R-1755-07</th><th scope=col>TCGA-95-7947-01A-11R-2187-07</th><th scope=col>TCGA-CG-4476-01A-01R-1157-13</th><th scope=col>TCGA-05-4410-01A-21R-1858-07</th><th scope=col>TCGA-CG-5717-01A-11R-1602-13</th><th scope=col>⋯</th><th scope=col>TCGA-D8-A1Y1-01A-21R-A14M-07</th><th scope=col>TCGA-E2-A14X-01A-11R-A115-07</th><th scope=col>TCGA-A8-A08R-01A-11R-A034-07</th><th scope=col>TCGA-E2-A573-01A-11R-A29R-07</th><th scope=col>TCGA-HN-A2OB-01A-21R-A27Q-07</th><th scope=col>TCGA-E9-A1RD-11A-33R-A157-07</th><th scope=col>TCGA-A2-A4S3-01A-21R-A266-07</th><th scope=col>TCGA-AR-A0TV-01A-21R-A084-07</th><th scope=col>TCGA-AR-A2LQ-01A-22R-A18M-07</th><th scope=col>TCGA-C8-A12Z-01A-11R-A115-07</th></tr>\n",
       "</thead>\n",
       "<tbody>\n",
       "\t<tr><th scope=row>ENSG00000187634</th><td>-0.6690956</td><td> 0.10430325</td><td>-0.2616608</td><td>-1.6052005</td><td>-0.07266354</td><td> 0.330637546</td><td>-0.4468625</td><td>-0.3576655</td><td>-0.7380466</td><td>-0.6792083</td><td>⋯</td><td>-1.8186441</td><td>-0.4835141</td><td>-1.26786412</td><td>-0.38547385</td><td> 0.7560948</td><td> 0.5174638</td><td>-0.08544263</td><td>-0.81098918</td><td> 0.55027805</td><td> 0.5495310</td></tr>\n",
       "\t<tr><th scope=row>ENSG00000188976</th><td> 0.1296037</td><td> 0.53982259</td><td> 0.3776404</td><td>-0.2295698</td><td>-0.12058053</td><td> 0.008442869</td><td>-0.1806268</td><td>-0.0120198</td><td> 0.2224058</td><td>-0.4792184</td><td>⋯</td><td>-0.6708856</td><td> 0.4524334</td><td>-0.09556162</td><td> 0.09059078</td><td> 0.3740467</td><td> 0.2363872</td><td> 0.17627898</td><td> 0.33765982</td><td>-0.01201886</td><td>-0.6413488</td></tr>\n",
       "\t<tr><th scope=row>ENSG00000187961</th><td>-0.1747046</td><td>-0.66661234</td><td>-0.3806571</td><td>-0.3097152</td><td>-0.45308044</td><td>-0.358534756</td><td>-1.4471696</td><td>-0.1368108</td><td>-0.4219527</td><td>-0.6772766</td><td>⋯</td><td>-0.9223471</td><td>-1.1856045</td><td>-0.93130241</td><td>-1.29842938</td><td>-0.3276069</td><td>-0.5351137</td><td>-1.05365986</td><td>-0.59348423</td><td>-0.95858668</td><td>-1.0725378</td></tr>\n",
       "\t<tr><th scope=row>ENSG00000187583</th><td>-1.8373751</td><td>-0.09886767</td><td>-2.1309072</td><td>-4.2326392</td><td>-0.37925395</td><td>-0.138239904</td><td>-3.6563055</td><td>-2.7557187</td><td>-0.7713062</td><td>-0.3316729</td><td>⋯</td><td>-1.9473882</td><td>-0.2252726</td><td>-2.07679922</td><td>-1.72155429</td><td>-0.3684210</td><td> 0.6345923</td><td>-1.77607660</td><td>-1.65341786</td><td>-0.18547781</td><td>-2.7442575</td></tr>\n",
       "\t<tr><th scope=row>ENSG00000187642</th><td>-1.4905083</td><td> 0.37230353</td><td>-1.8324869</td><td>-3.5975047</td><td> 0.03275488</td><td>-0.292001024</td><td>-2.4122159</td><td>-2.5064603</td><td>-0.1754008</td><td>-1.0894703</td><td>⋯</td><td>-1.7524960</td><td> 0.5740644</td><td>-1.80520636</td><td>-1.28153542</td><td> 0.4259042</td><td> 1.1848386</td><td>-1.32813375</td><td>-0.10648977</td><td> 0.88542524</td><td>-1.4075156</td></tr>\n",
       "\t<tr><th scope=row>ENSG00000188290</th><td>-0.9489165</td><td>-2.54955163</td><td>-0.7467762</td><td>-1.0418243</td><td>-0.50515466</td><td>-0.188218840</td><td> 0.2613114</td><td>-0.3224437</td><td>-0.2611461</td><td> 0.5617456</td><td>⋯</td><td>-1.3677945</td><td>-1.9361331</td><td>-1.75840198</td><td>-1.62425139</td><td>-1.0416426</td><td> 0.5004089</td><td>-0.34242748</td><td> 0.07028516</td><td>-0.11637540</td><td>-0.7159485</td></tr>\n",
       "</tbody>\n",
       "</table>\n"
      ],
      "text/latex": [
       "A matrix: 6 × 10682 of type dbl\n",
       "\\begin{tabular}{r|lllllllllllllllllllll}\n",
       "  & TCGA-EW-A6SA-01A-21R-A32P-07 & TCGA-E2-A14W-01A-11R-A12D-07 & TCGA-EW-A1PD-01A-11R-A144-07 & TCGA-55-1594-01A-01R-0946-07 & TCGA-49-6742-11A-01R-1858-07 & TCGA-50-5932-11A-01R-1755-07 & TCGA-95-7947-01A-11R-2187-07 & TCGA-CG-4476-01A-01R-1157-13 & TCGA-05-4410-01A-21R-1858-07 & TCGA-CG-5717-01A-11R-1602-13 & ⋯ & TCGA-D8-A1Y1-01A-21R-A14M-07 & TCGA-E2-A14X-01A-11R-A115-07 & TCGA-A8-A08R-01A-11R-A034-07 & TCGA-E2-A573-01A-11R-A29R-07 & TCGA-HN-A2OB-01A-21R-A27Q-07 & TCGA-E9-A1RD-11A-33R-A157-07 & TCGA-A2-A4S3-01A-21R-A266-07 & TCGA-AR-A0TV-01A-21R-A084-07 & TCGA-AR-A2LQ-01A-22R-A18M-07 & TCGA-C8-A12Z-01A-11R-A115-07\\\\\n",
       "\\hline\n",
       "\tENSG00000187634 & -0.6690956 &  0.10430325 & -0.2616608 & -1.6052005 & -0.07266354 &  0.330637546 & -0.4468625 & -0.3576655 & -0.7380466 & -0.6792083 & ⋯ & -1.8186441 & -0.4835141 & -1.26786412 & -0.38547385 &  0.7560948 &  0.5174638 & -0.08544263 & -0.81098918 &  0.55027805 &  0.5495310\\\\\n",
       "\tENSG00000188976 &  0.1296037 &  0.53982259 &  0.3776404 & -0.2295698 & -0.12058053 &  0.008442869 & -0.1806268 & -0.0120198 &  0.2224058 & -0.4792184 & ⋯ & -0.6708856 &  0.4524334 & -0.09556162 &  0.09059078 &  0.3740467 &  0.2363872 &  0.17627898 &  0.33765982 & -0.01201886 & -0.6413488\\\\\n",
       "\tENSG00000187961 & -0.1747046 & -0.66661234 & -0.3806571 & -0.3097152 & -0.45308044 & -0.358534756 & -1.4471696 & -0.1368108 & -0.4219527 & -0.6772766 & ⋯ & -0.9223471 & -1.1856045 & -0.93130241 & -1.29842938 & -0.3276069 & -0.5351137 & -1.05365986 & -0.59348423 & -0.95858668 & -1.0725378\\\\\n",
       "\tENSG00000187583 & -1.8373751 & -0.09886767 & -2.1309072 & -4.2326392 & -0.37925395 & -0.138239904 & -3.6563055 & -2.7557187 & -0.7713062 & -0.3316729 & ⋯ & -1.9473882 & -0.2252726 & -2.07679922 & -1.72155429 & -0.3684210 &  0.6345923 & -1.77607660 & -1.65341786 & -0.18547781 & -2.7442575\\\\\n",
       "\tENSG00000187642 & -1.4905083 &  0.37230353 & -1.8324869 & -3.5975047 &  0.03275488 & -0.292001024 & -2.4122159 & -2.5064603 & -0.1754008 & -1.0894703 & ⋯ & -1.7524960 &  0.5740644 & -1.80520636 & -1.28153542 &  0.4259042 &  1.1848386 & -1.32813375 & -0.10648977 &  0.88542524 & -1.4075156\\\\\n",
       "\tENSG00000188290 & -0.9489165 & -2.54955163 & -0.7467762 & -1.0418243 & -0.50515466 & -0.188218840 &  0.2613114 & -0.3224437 & -0.2611461 &  0.5617456 & ⋯ & -1.3677945 & -1.9361331 & -1.75840198 & -1.62425139 & -1.0416426 &  0.5004089 & -0.34242748 &  0.07028516 & -0.11637540 & -0.7159485\\\\\n",
       "\\end{tabular}\n"
      ],
      "text/markdown": [
       "\n",
       "A matrix: 6 × 10682 of type dbl\n",
       "\n",
       "| <!--/--> | TCGA-EW-A6SA-01A-21R-A32P-07 | TCGA-E2-A14W-01A-11R-A12D-07 | TCGA-EW-A1PD-01A-11R-A144-07 | TCGA-55-1594-01A-01R-0946-07 | TCGA-49-6742-11A-01R-1858-07 | TCGA-50-5932-11A-01R-1755-07 | TCGA-95-7947-01A-11R-2187-07 | TCGA-CG-4476-01A-01R-1157-13 | TCGA-05-4410-01A-21R-1858-07 | TCGA-CG-5717-01A-11R-1602-13 | ⋯ | TCGA-D8-A1Y1-01A-21R-A14M-07 | TCGA-E2-A14X-01A-11R-A115-07 | TCGA-A8-A08R-01A-11R-A034-07 | TCGA-E2-A573-01A-11R-A29R-07 | TCGA-HN-A2OB-01A-21R-A27Q-07 | TCGA-E9-A1RD-11A-33R-A157-07 | TCGA-A2-A4S3-01A-21R-A266-07 | TCGA-AR-A0TV-01A-21R-A084-07 | TCGA-AR-A2LQ-01A-22R-A18M-07 | TCGA-C8-A12Z-01A-11R-A115-07 |\n",
       "|---|---|---|---|---|---|---|---|---|---|---|---|---|---|---|---|---|---|---|---|---|---|\n",
       "| ENSG00000187634 | -0.6690956 |  0.10430325 | -0.2616608 | -1.6052005 | -0.07266354 |  0.330637546 | -0.4468625 | -0.3576655 | -0.7380466 | -0.6792083 | ⋯ | -1.8186441 | -0.4835141 | -1.26786412 | -0.38547385 |  0.7560948 |  0.5174638 | -0.08544263 | -0.81098918 |  0.55027805 |  0.5495310 |\n",
       "| ENSG00000188976 |  0.1296037 |  0.53982259 |  0.3776404 | -0.2295698 | -0.12058053 |  0.008442869 | -0.1806268 | -0.0120198 |  0.2224058 | -0.4792184 | ⋯ | -0.6708856 |  0.4524334 | -0.09556162 |  0.09059078 |  0.3740467 |  0.2363872 |  0.17627898 |  0.33765982 | -0.01201886 | -0.6413488 |\n",
       "| ENSG00000187961 | -0.1747046 | -0.66661234 | -0.3806571 | -0.3097152 | -0.45308044 | -0.358534756 | -1.4471696 | -0.1368108 | -0.4219527 | -0.6772766 | ⋯ | -0.9223471 | -1.1856045 | -0.93130241 | -1.29842938 | -0.3276069 | -0.5351137 | -1.05365986 | -0.59348423 | -0.95858668 | -1.0725378 |\n",
       "| ENSG00000187583 | -1.8373751 | -0.09886767 | -2.1309072 | -4.2326392 | -0.37925395 | -0.138239904 | -3.6563055 | -2.7557187 | -0.7713062 | -0.3316729 | ⋯ | -1.9473882 | -0.2252726 | -2.07679922 | -1.72155429 | -0.3684210 |  0.6345923 | -1.77607660 | -1.65341786 | -0.18547781 | -2.7442575 |\n",
       "| ENSG00000187642 | -1.4905083 |  0.37230353 | -1.8324869 | -3.5975047 |  0.03275488 | -0.292001024 | -2.4122159 | -2.5064603 | -0.1754008 | -1.0894703 | ⋯ | -1.7524960 |  0.5740644 | -1.80520636 | -1.28153542 |  0.4259042 |  1.1848386 | -1.32813375 | -0.10648977 |  0.88542524 | -1.4075156 |\n",
       "| ENSG00000188290 | -0.9489165 | -2.54955163 | -0.7467762 | -1.0418243 | -0.50515466 | -0.188218840 |  0.2613114 | -0.3224437 | -0.2611461 |  0.5617456 | ⋯ | -1.3677945 | -1.9361331 | -1.75840198 | -1.62425139 | -1.0416426 |  0.5004089 | -0.34242748 |  0.07028516 | -0.11637540 | -0.7159485 |\n",
       "\n"
      ],
      "text/plain": [
       "                TCGA-EW-A6SA-01A-21R-A32P-07 TCGA-E2-A14W-01A-11R-A12D-07\n",
       "ENSG00000187634 -0.6690956                    0.10430325                 \n",
       "ENSG00000188976  0.1296037                    0.53982259                 \n",
       "ENSG00000187961 -0.1747046                   -0.66661234                 \n",
       "ENSG00000187583 -1.8373751                   -0.09886767                 \n",
       "ENSG00000187642 -1.4905083                    0.37230353                 \n",
       "ENSG00000188290 -0.9489165                   -2.54955163                 \n",
       "                TCGA-EW-A1PD-01A-11R-A144-07 TCGA-55-1594-01A-01R-0946-07\n",
       "ENSG00000187634 -0.2616608                   -1.6052005                  \n",
       "ENSG00000188976  0.3776404                   -0.2295698                  \n",
       "ENSG00000187961 -0.3806571                   -0.3097152                  \n",
       "ENSG00000187583 -2.1309072                   -4.2326392                  \n",
       "ENSG00000187642 -1.8324869                   -3.5975047                  \n",
       "ENSG00000188290 -0.7467762                   -1.0418243                  \n",
       "                TCGA-49-6742-11A-01R-1858-07 TCGA-50-5932-11A-01R-1755-07\n",
       "ENSG00000187634 -0.07266354                   0.330637546                \n",
       "ENSG00000188976 -0.12058053                   0.008442869                \n",
       "ENSG00000187961 -0.45308044                  -0.358534756                \n",
       "ENSG00000187583 -0.37925395                  -0.138239904                \n",
       "ENSG00000187642  0.03275488                  -0.292001024                \n",
       "ENSG00000188290 -0.50515466                  -0.188218840                \n",
       "                TCGA-95-7947-01A-11R-2187-07 TCGA-CG-4476-01A-01R-1157-13\n",
       "ENSG00000187634 -0.4468625                   -0.3576655                  \n",
       "ENSG00000188976 -0.1806268                   -0.0120198                  \n",
       "ENSG00000187961 -1.4471696                   -0.1368108                  \n",
       "ENSG00000187583 -3.6563055                   -2.7557187                  \n",
       "ENSG00000187642 -2.4122159                   -2.5064603                  \n",
       "ENSG00000188290  0.2613114                   -0.3224437                  \n",
       "                TCGA-05-4410-01A-21R-1858-07 TCGA-CG-5717-01A-11R-1602-13 ⋯\n",
       "ENSG00000187634 -0.7380466                   -0.6792083                   ⋯\n",
       "ENSG00000188976  0.2224058                   -0.4792184                   ⋯\n",
       "ENSG00000187961 -0.4219527                   -0.6772766                   ⋯\n",
       "ENSG00000187583 -0.7713062                   -0.3316729                   ⋯\n",
       "ENSG00000187642 -0.1754008                   -1.0894703                   ⋯\n",
       "ENSG00000188290 -0.2611461                    0.5617456                   ⋯\n",
       "                TCGA-D8-A1Y1-01A-21R-A14M-07 TCGA-E2-A14X-01A-11R-A115-07\n",
       "ENSG00000187634 -1.8186441                   -0.4835141                  \n",
       "ENSG00000188976 -0.6708856                    0.4524334                  \n",
       "ENSG00000187961 -0.9223471                   -1.1856045                  \n",
       "ENSG00000187583 -1.9473882                   -0.2252726                  \n",
       "ENSG00000187642 -1.7524960                    0.5740644                  \n",
       "ENSG00000188290 -1.3677945                   -1.9361331                  \n",
       "                TCGA-A8-A08R-01A-11R-A034-07 TCGA-E2-A573-01A-11R-A29R-07\n",
       "ENSG00000187634 -1.26786412                  -0.38547385                 \n",
       "ENSG00000188976 -0.09556162                   0.09059078                 \n",
       "ENSG00000187961 -0.93130241                  -1.29842938                 \n",
       "ENSG00000187583 -2.07679922                  -1.72155429                 \n",
       "ENSG00000187642 -1.80520636                  -1.28153542                 \n",
       "ENSG00000188290 -1.75840198                  -1.62425139                 \n",
       "                TCGA-HN-A2OB-01A-21R-A27Q-07 TCGA-E9-A1RD-11A-33R-A157-07\n",
       "ENSG00000187634  0.7560948                    0.5174638                  \n",
       "ENSG00000188976  0.3740467                    0.2363872                  \n",
       "ENSG00000187961 -0.3276069                   -0.5351137                  \n",
       "ENSG00000187583 -0.3684210                    0.6345923                  \n",
       "ENSG00000187642  0.4259042                    1.1848386                  \n",
       "ENSG00000188290 -1.0416426                    0.5004089                  \n",
       "                TCGA-A2-A4S3-01A-21R-A266-07 TCGA-AR-A0TV-01A-21R-A084-07\n",
       "ENSG00000187634 -0.08544263                  -0.81098918                 \n",
       "ENSG00000188976  0.17627898                   0.33765982                 \n",
       "ENSG00000187961 -1.05365986                  -0.59348423                 \n",
       "ENSG00000187583 -1.77607660                  -1.65341786                 \n",
       "ENSG00000187642 -1.32813375                  -0.10648977                 \n",
       "ENSG00000188290 -0.34242748                   0.07028516                 \n",
       "                TCGA-AR-A2LQ-01A-22R-A18M-07 TCGA-C8-A12Z-01A-11R-A115-07\n",
       "ENSG00000187634  0.55027805                   0.5495310                  \n",
       "ENSG00000188976 -0.01201886                  -0.6413488                  \n",
       "ENSG00000187961 -0.95858668                  -1.0725378                  \n",
       "ENSG00000187583 -0.18547781                  -2.7442575                  \n",
       "ENSG00000187642  0.88542524                  -1.4075156                  \n",
       "ENSG00000188290 -0.11637540                  -0.7159485                  "
      ]
     },
     "metadata": {},
     "output_type": "display_data"
    }
   ],
   "source": [
    "# for pseudocount = 1e-6\n",
    "exp <- readRDS(\"/home/elisalaegsgaard/jsp_student_projects/miRNA_DGD_DE_F2024/data/pseudocount_1e-6/counts_filtered_normalized.rds\")\n",
    "pred_means_DGD <- readRDS(\"/home/elisalaegsgaard/jsp_student_projects/miRNA_DGD_DE_F2024/data/pseudocount_1e-6/rescaled_decoder_outputs_filtered_normalized.rds\")\n",
    "FC_DGD <- exp-pred_means_DGD\n",
    "head(FC_DGD)"
   ]
  },
  {
   "cell_type": "code",
   "execution_count": 14,
   "metadata": {
    "vscode": {
     "languageId": "r"
    }
   },
   "outputs": [
    {
     "data": {
      "text/html": [
       "<table class=\"dataframe\">\n",
       "<caption>A matrix: 6 × 10682 of type dbl</caption>\n",
       "<thead>\n",
       "\t<tr><th></th><th scope=col>TCGA-EW-A6SA-01A-21R-A32P-07</th><th scope=col>TCGA-E2-A14W-01A-11R-A12D-07</th><th scope=col>TCGA-EW-A1PD-01A-11R-A144-07</th><th scope=col>TCGA-55-1594-01A-01R-0946-07</th><th scope=col>TCGA-49-6742-11A-01R-1858-07</th><th scope=col>TCGA-50-5932-11A-01R-1755-07</th><th scope=col>TCGA-95-7947-01A-11R-2187-07</th><th scope=col>TCGA-CG-4476-01A-01R-1157-13</th><th scope=col>TCGA-05-4410-01A-21R-1858-07</th><th scope=col>TCGA-CG-5717-01A-11R-1602-13</th><th scope=col>⋯</th><th scope=col>TCGA-D8-A1Y1-01A-21R-A14M-07</th><th scope=col>TCGA-E2-A14X-01A-11R-A115-07</th><th scope=col>TCGA-A8-A08R-01A-11R-A034-07</th><th scope=col>TCGA-E2-A573-01A-11R-A29R-07</th><th scope=col>TCGA-HN-A2OB-01A-21R-A27Q-07</th><th scope=col>TCGA-E9-A1RD-11A-33R-A157-07</th><th scope=col>TCGA-A2-A4S3-01A-21R-A266-07</th><th scope=col>TCGA-AR-A0TV-01A-21R-A084-07</th><th scope=col>TCGA-AR-A2LQ-01A-22R-A18M-07</th><th scope=col>TCGA-C8-A12Z-01A-11R-A115-07</th></tr>\n",
       "</thead>\n",
       "<tbody>\n",
       "\t<tr><th scope=row>ENSG00000187634</th><td>-0.6686186</td><td> 0.10424362</td><td>-0.2613479</td><td>-1.6032246</td><td>-0.07248217</td><td> 0.329743656</td><td>-0.4460837</td><td>-0.35722030</td><td>-0.7369617</td><td>-0.6783719</td><td>⋯</td><td>-1.8159016</td><td>-0.4829046</td><td>-1.26593326</td><td>-0.38523102</td><td> 0.7554111</td><td> 0.5155075</td><td>-0.0853889</td><td>-0.80996871</td><td> 0.54960366</td><td> 0.5490546</td></tr>\n",
       "\t<tr><th scope=row>ENSG00000188976</th><td> 0.1295861</td><td> 0.53973521</td><td> 0.3775673</td><td>-0.2295186</td><td>-0.12052736</td><td> 0.008439137</td><td>-0.1805859</td><td>-0.01201603</td><td> 0.2223531</td><td>-0.4791045</td><td>⋯</td><td>-0.6706933</td><td> 0.4523418</td><td>-0.09553983</td><td> 0.09057339</td><td> 0.3739646</td><td> 0.2362695</td><td> 0.1762548</td><td> 0.33759882</td><td>-0.01201478</td><td>-0.6411648</td></tr>\n",
       "\t<tr><th scope=row>ENSG00000187961</th><td>-0.1745465</td><td>-0.66507752</td><td>-0.3797495</td><td>-0.3090949</td><td>-0.44966303</td><td>-0.356308948</td><td>-1.4423449</td><td>-0.13629447</td><td>-0.4208714</td><td>-0.6753850</td><td>⋯</td><td>-0.9191271</td><td>-1.1810469</td><td>-0.92860975</td><td>-1.29628310</td><td>-0.3270103</td><td>-0.5310561</td><td>-1.0520873</td><td>-0.59215622</td><td>-0.95386324</td><td>-1.0670088</td></tr>\n",
       "\t<tr><th scope=row>ENSG00000187583</th><td>-1.8313373</td><td>-0.09869957</td><td>-2.1155841</td><td>-4.1853065</td><td>-0.37282541</td><td>-0.134431784</td><td>-3.6423054</td><td>-2.72243103</td><td>-0.7702684</td><td>-0.3315825</td><td>⋯</td><td>-1.9393280</td><td>-0.2249377</td><td>-2.06955809</td><td>-1.71945159</td><td>-0.3672406</td><td> 0.6185600</td><td>-1.7718215</td><td>-1.64743318</td><td>-0.18461185</td><td>-2.7334759</td></tr>\n",
       "\t<tr><th scope=row>ENSG00000187642</th><td>-1.4767106</td><td> 0.37083943</td><td>-1.7803592</td><td>-3.4975244</td><td> 0.03130602</td><td>-0.272140214</td><td>-2.3870238</td><td>-2.40600937</td><td>-0.1745713</td><td>-1.0881023</td><td>⋯</td><td>-1.7326639</td><td> 0.5706410</td><td>-1.78495544</td><td>-1.27845209</td><td> 0.4221173</td><td> 1.1027936</td><td>-1.3197304</td><td>-0.10570228</td><td> 0.87158356</td><td>-1.3900978</td></tr>\n",
       "\t<tr><th scope=row>ENSG00000188290</th><td>-0.9480161</td><td>-2.53472060</td><td>-0.7448321</td><td>-1.0361892</td><td>-0.50206741</td><td>-0.186765478</td><td> 0.2606364</td><td>-0.32014188</td><td>-0.2598708</td><td> 0.5609995</td><td>⋯</td><td>-1.3627974</td><td>-1.9274252</td><td>-1.74964589</td><td>-1.62274686</td><td>-1.0387899</td><td> 0.4892908</td><td>-0.3418875</td><td> 0.07008916</td><td>-0.11572808</td><td>-0.7110009</td></tr>\n",
       "</tbody>\n",
       "</table>\n"
      ],
      "text/latex": [
       "A matrix: 6 × 10682 of type dbl\n",
       "\\begin{tabular}{r|lllllllllllllllllllll}\n",
       "  & TCGA-EW-A6SA-01A-21R-A32P-07 & TCGA-E2-A14W-01A-11R-A12D-07 & TCGA-EW-A1PD-01A-11R-A144-07 & TCGA-55-1594-01A-01R-0946-07 & TCGA-49-6742-11A-01R-1858-07 & TCGA-50-5932-11A-01R-1755-07 & TCGA-95-7947-01A-11R-2187-07 & TCGA-CG-4476-01A-01R-1157-13 & TCGA-05-4410-01A-21R-1858-07 & TCGA-CG-5717-01A-11R-1602-13 & ⋯ & TCGA-D8-A1Y1-01A-21R-A14M-07 & TCGA-E2-A14X-01A-11R-A115-07 & TCGA-A8-A08R-01A-11R-A034-07 & TCGA-E2-A573-01A-11R-A29R-07 & TCGA-HN-A2OB-01A-21R-A27Q-07 & TCGA-E9-A1RD-11A-33R-A157-07 & TCGA-A2-A4S3-01A-21R-A266-07 & TCGA-AR-A0TV-01A-21R-A084-07 & TCGA-AR-A2LQ-01A-22R-A18M-07 & TCGA-C8-A12Z-01A-11R-A115-07\\\\\n",
       "\\hline\n",
       "\tENSG00000187634 & -0.6686186 &  0.10424362 & -0.2613479 & -1.6032246 & -0.07248217 &  0.329743656 & -0.4460837 & -0.35722030 & -0.7369617 & -0.6783719 & ⋯ & -1.8159016 & -0.4829046 & -1.26593326 & -0.38523102 &  0.7554111 &  0.5155075 & -0.0853889 & -0.80996871 &  0.54960366 &  0.5490546\\\\\n",
       "\tENSG00000188976 &  0.1295861 &  0.53973521 &  0.3775673 & -0.2295186 & -0.12052736 &  0.008439137 & -0.1805859 & -0.01201603 &  0.2223531 & -0.4791045 & ⋯ & -0.6706933 &  0.4523418 & -0.09553983 &  0.09057339 &  0.3739646 &  0.2362695 &  0.1762548 &  0.33759882 & -0.01201478 & -0.6411648\\\\\n",
       "\tENSG00000187961 & -0.1745465 & -0.66507752 & -0.3797495 & -0.3090949 & -0.44966303 & -0.356308948 & -1.4423449 & -0.13629447 & -0.4208714 & -0.6753850 & ⋯ & -0.9191271 & -1.1810469 & -0.92860975 & -1.29628310 & -0.3270103 & -0.5310561 & -1.0520873 & -0.59215622 & -0.95386324 & -1.0670088\\\\\n",
       "\tENSG00000187583 & -1.8313373 & -0.09869957 & -2.1155841 & -4.1853065 & -0.37282541 & -0.134431784 & -3.6423054 & -2.72243103 & -0.7702684 & -0.3315825 & ⋯ & -1.9393280 & -0.2249377 & -2.06955809 & -1.71945159 & -0.3672406 &  0.6185600 & -1.7718215 & -1.64743318 & -0.18461185 & -2.7334759\\\\\n",
       "\tENSG00000187642 & -1.4767106 &  0.37083943 & -1.7803592 & -3.4975244 &  0.03130602 & -0.272140214 & -2.3870238 & -2.40600937 & -0.1745713 & -1.0881023 & ⋯ & -1.7326639 &  0.5706410 & -1.78495544 & -1.27845209 &  0.4221173 &  1.1027936 & -1.3197304 & -0.10570228 &  0.87158356 & -1.3900978\\\\\n",
       "\tENSG00000188290 & -0.9480161 & -2.53472060 & -0.7448321 & -1.0361892 & -0.50206741 & -0.186765478 &  0.2606364 & -0.32014188 & -0.2598708 &  0.5609995 & ⋯ & -1.3627974 & -1.9274252 & -1.74964589 & -1.62274686 & -1.0387899 &  0.4892908 & -0.3418875 &  0.07008916 & -0.11572808 & -0.7110009\\\\\n",
       "\\end{tabular}\n"
      ],
      "text/markdown": [
       "\n",
       "A matrix: 6 × 10682 of type dbl\n",
       "\n",
       "| <!--/--> | TCGA-EW-A6SA-01A-21R-A32P-07 | TCGA-E2-A14W-01A-11R-A12D-07 | TCGA-EW-A1PD-01A-11R-A144-07 | TCGA-55-1594-01A-01R-0946-07 | TCGA-49-6742-11A-01R-1858-07 | TCGA-50-5932-11A-01R-1755-07 | TCGA-95-7947-01A-11R-2187-07 | TCGA-CG-4476-01A-01R-1157-13 | TCGA-05-4410-01A-21R-1858-07 | TCGA-CG-5717-01A-11R-1602-13 | ⋯ | TCGA-D8-A1Y1-01A-21R-A14M-07 | TCGA-E2-A14X-01A-11R-A115-07 | TCGA-A8-A08R-01A-11R-A034-07 | TCGA-E2-A573-01A-11R-A29R-07 | TCGA-HN-A2OB-01A-21R-A27Q-07 | TCGA-E9-A1RD-11A-33R-A157-07 | TCGA-A2-A4S3-01A-21R-A266-07 | TCGA-AR-A0TV-01A-21R-A084-07 | TCGA-AR-A2LQ-01A-22R-A18M-07 | TCGA-C8-A12Z-01A-11R-A115-07 |\n",
       "|---|---|---|---|---|---|---|---|---|---|---|---|---|---|---|---|---|---|---|---|---|---|\n",
       "| ENSG00000187634 | -0.6686186 |  0.10424362 | -0.2613479 | -1.6032246 | -0.07248217 |  0.329743656 | -0.4460837 | -0.35722030 | -0.7369617 | -0.6783719 | ⋯ | -1.8159016 | -0.4829046 | -1.26593326 | -0.38523102 |  0.7554111 |  0.5155075 | -0.0853889 | -0.80996871 |  0.54960366 |  0.5490546 |\n",
       "| ENSG00000188976 |  0.1295861 |  0.53973521 |  0.3775673 | -0.2295186 | -0.12052736 |  0.008439137 | -0.1805859 | -0.01201603 |  0.2223531 | -0.4791045 | ⋯ | -0.6706933 |  0.4523418 | -0.09553983 |  0.09057339 |  0.3739646 |  0.2362695 |  0.1762548 |  0.33759882 | -0.01201478 | -0.6411648 |\n",
       "| ENSG00000187961 | -0.1745465 | -0.66507752 | -0.3797495 | -0.3090949 | -0.44966303 | -0.356308948 | -1.4423449 | -0.13629447 | -0.4208714 | -0.6753850 | ⋯ | -0.9191271 | -1.1810469 | -0.92860975 | -1.29628310 | -0.3270103 | -0.5310561 | -1.0520873 | -0.59215622 | -0.95386324 | -1.0670088 |\n",
       "| ENSG00000187583 | -1.8313373 | -0.09869957 | -2.1155841 | -4.1853065 | -0.37282541 | -0.134431784 | -3.6423054 | -2.72243103 | -0.7702684 | -0.3315825 | ⋯ | -1.9393280 | -0.2249377 | -2.06955809 | -1.71945159 | -0.3672406 |  0.6185600 | -1.7718215 | -1.64743318 | -0.18461185 | -2.7334759 |\n",
       "| ENSG00000187642 | -1.4767106 |  0.37083943 | -1.7803592 | -3.4975244 |  0.03130602 | -0.272140214 | -2.3870238 | -2.40600937 | -0.1745713 | -1.0881023 | ⋯ | -1.7326639 |  0.5706410 | -1.78495544 | -1.27845209 |  0.4221173 |  1.1027936 | -1.3197304 | -0.10570228 |  0.87158356 | -1.3900978 |\n",
       "| ENSG00000188290 | -0.9480161 | -2.53472060 | -0.7448321 | -1.0361892 | -0.50206741 | -0.186765478 |  0.2606364 | -0.32014188 | -0.2598708 |  0.5609995 | ⋯ | -1.3627974 | -1.9274252 | -1.74964589 | -1.62274686 | -1.0387899 |  0.4892908 | -0.3418875 |  0.07008916 | -0.11572808 | -0.7110009 |\n",
       "\n"
      ],
      "text/plain": [
       "                TCGA-EW-A6SA-01A-21R-A32P-07 TCGA-E2-A14W-01A-11R-A12D-07\n",
       "ENSG00000187634 -0.6686186                    0.10424362                 \n",
       "ENSG00000188976  0.1295861                    0.53973521                 \n",
       "ENSG00000187961 -0.1745465                   -0.66507752                 \n",
       "ENSG00000187583 -1.8313373                   -0.09869957                 \n",
       "ENSG00000187642 -1.4767106                    0.37083943                 \n",
       "ENSG00000188290 -0.9480161                   -2.53472060                 \n",
       "                TCGA-EW-A1PD-01A-11R-A144-07 TCGA-55-1594-01A-01R-0946-07\n",
       "ENSG00000187634 -0.2613479                   -1.6032246                  \n",
       "ENSG00000188976  0.3775673                   -0.2295186                  \n",
       "ENSG00000187961 -0.3797495                   -0.3090949                  \n",
       "ENSG00000187583 -2.1155841                   -4.1853065                  \n",
       "ENSG00000187642 -1.7803592                   -3.4975244                  \n",
       "ENSG00000188290 -0.7448321                   -1.0361892                  \n",
       "                TCGA-49-6742-11A-01R-1858-07 TCGA-50-5932-11A-01R-1755-07\n",
       "ENSG00000187634 -0.07248217                   0.329743656                \n",
       "ENSG00000188976 -0.12052736                   0.008439137                \n",
       "ENSG00000187961 -0.44966303                  -0.356308948                \n",
       "ENSG00000187583 -0.37282541                  -0.134431784                \n",
       "ENSG00000187642  0.03130602                  -0.272140214                \n",
       "ENSG00000188290 -0.50206741                  -0.186765478                \n",
       "                TCGA-95-7947-01A-11R-2187-07 TCGA-CG-4476-01A-01R-1157-13\n",
       "ENSG00000187634 -0.4460837                   -0.35722030                 \n",
       "ENSG00000188976 -0.1805859                   -0.01201603                 \n",
       "ENSG00000187961 -1.4423449                   -0.13629447                 \n",
       "ENSG00000187583 -3.6423054                   -2.72243103                 \n",
       "ENSG00000187642 -2.3870238                   -2.40600937                 \n",
       "ENSG00000188290  0.2606364                   -0.32014188                 \n",
       "                TCGA-05-4410-01A-21R-1858-07 TCGA-CG-5717-01A-11R-1602-13 ⋯\n",
       "ENSG00000187634 -0.7369617                   -0.6783719                   ⋯\n",
       "ENSG00000188976  0.2223531                   -0.4791045                   ⋯\n",
       "ENSG00000187961 -0.4208714                   -0.6753850                   ⋯\n",
       "ENSG00000187583 -0.7702684                   -0.3315825                   ⋯\n",
       "ENSG00000187642 -0.1745713                   -1.0881023                   ⋯\n",
       "ENSG00000188290 -0.2598708                    0.5609995                   ⋯\n",
       "                TCGA-D8-A1Y1-01A-21R-A14M-07 TCGA-E2-A14X-01A-11R-A115-07\n",
       "ENSG00000187634 -1.8159016                   -0.4829046                  \n",
       "ENSG00000188976 -0.6706933                    0.4523418                  \n",
       "ENSG00000187961 -0.9191271                   -1.1810469                  \n",
       "ENSG00000187583 -1.9393280                   -0.2249377                  \n",
       "ENSG00000187642 -1.7326639                    0.5706410                  \n",
       "ENSG00000188290 -1.3627974                   -1.9274252                  \n",
       "                TCGA-A8-A08R-01A-11R-A034-07 TCGA-E2-A573-01A-11R-A29R-07\n",
       "ENSG00000187634 -1.26593326                  -0.38523102                 \n",
       "ENSG00000188976 -0.09553983                   0.09057339                 \n",
       "ENSG00000187961 -0.92860975                  -1.29628310                 \n",
       "ENSG00000187583 -2.06955809                  -1.71945159                 \n",
       "ENSG00000187642 -1.78495544                  -1.27845209                 \n",
       "ENSG00000188290 -1.74964589                  -1.62274686                 \n",
       "                TCGA-HN-A2OB-01A-21R-A27Q-07 TCGA-E9-A1RD-11A-33R-A157-07\n",
       "ENSG00000187634  0.7554111                    0.5155075                  \n",
       "ENSG00000188976  0.3739646                    0.2362695                  \n",
       "ENSG00000187961 -0.3270103                   -0.5310561                  \n",
       "ENSG00000187583 -0.3672406                    0.6185600                  \n",
       "ENSG00000187642  0.4221173                    1.1027936                  \n",
       "ENSG00000188290 -1.0387899                    0.4892908                  \n",
       "                TCGA-A2-A4S3-01A-21R-A266-07 TCGA-AR-A0TV-01A-21R-A084-07\n",
       "ENSG00000187634 -0.0853889                   -0.80996871                 \n",
       "ENSG00000188976  0.1762548                    0.33759882                 \n",
       "ENSG00000187961 -1.0520873                   -0.59215622                 \n",
       "ENSG00000187583 -1.7718215                   -1.64743318                 \n",
       "ENSG00000187642 -1.3197304                   -0.10570228                 \n",
       "ENSG00000188290 -0.3418875                    0.07008916                 \n",
       "                TCGA-AR-A2LQ-01A-22R-A18M-07 TCGA-C8-A12Z-01A-11R-A115-07\n",
       "ENSG00000187634  0.54960366                   0.5490546                  \n",
       "ENSG00000188976 -0.01201478                  -0.6411648                  \n",
       "ENSG00000187961 -0.95386324                  -1.0670088                  \n",
       "ENSG00000187583 -0.18461185                  -2.7334759                  \n",
       "ENSG00000187642  0.87158356                  -1.3900978                  \n",
       "ENSG00000188290 -0.11572808                  -0.7110009                  "
      ]
     },
     "metadata": {},
     "output_type": "display_data"
    }
   ],
   "source": [
    "# for pseudocount = 1\n",
    "exp <- readRDS(\"/home/elisalaegsgaard/jsp_student_projects/miRNA_DGD_DE_F2024/data/pseudocount_1/counts_filtered_normalized.rds\")\n",
    "pred_means_DGD <- readRDS(\"/home/elisalaegsgaard/jsp_student_projects/miRNA_DGD_DE_F2024/data/pseudocount_1/rescaled_decoder_outputs_filtered_normalized.rds\")\n",
    "FC_DGD <- exp-pred_means_DGD\n",
    "head(FC_DGD)"
   ]
  },
  {
   "cell_type": "code",
   "execution_count": 32,
   "metadata": {
    "vscode": {
     "languageId": "r"
    }
   },
   "outputs": [
    {
     "data": {
      "text/html": [
       "<style>\n",
       ".list-inline {list-style: none; margin:0; padding: 0}\n",
       ".list-inline>li {display: inline-block}\n",
       ".list-inline>li:not(:last-child)::after {content: \"\\00b7\"; padding: 0 .5ex}\n",
       "</style>\n",
       "<ol class=list-inline><li>16126</li><li>6295</li></ol>\n"
      ],
      "text/latex": [
       "\\begin{enumerate*}\n",
       "\\item 16126\n",
       "\\item 6295\n",
       "\\end{enumerate*}\n"
      ],
      "text/markdown": [
       "1. 16126\n",
       "2. 6295\n",
       "\n",
       "\n"
      ],
      "text/plain": [
       "[1] 16126  6295"
      ]
     },
     "metadata": {},
     "output_type": "display_data"
    },
    {
     "data": {
      "text/html": [
       "<style>\n",
       ".list-inline {list-style: none; margin:0; padding: 0}\n",
       ".list-inline>li {display: inline-block}\n",
       ".list-inline>li:not(:last-child)::after {content: \"\\00b7\"; padding: 0 .5ex}\n",
       "</style>\n",
       "<ol class=list-inline><li>16126</li><li>6295</li></ol>\n"
      ],
      "text/latex": [
       "\\begin{enumerate*}\n",
       "\\item 16126\n",
       "\\item 6295\n",
       "\\end{enumerate*}\n"
      ],
      "text/markdown": [
       "1. 16126\n",
       "2. 6295\n",
       "\n",
       "\n"
      ],
      "text/plain": [
       "[1] 16126  6295"
      ]
     },
     "metadata": {},
     "output_type": "display_data"
    },
    {
     "data": {
      "text/html": [
       "<table class=\"dataframe\">\n",
       "<caption>A matrix: 6 × 6295 of type dbl</caption>\n",
       "<thead>\n",
       "\t<tr><th></th><th scope=col>TCGA-AA-3542-01A-02R-1873-07</th><th scope=col>TCGA-CW-6088-11A-01R-1672-07</th><th scope=col>TCGA-CZ-5989-01A-11R-1672-07</th><th scope=col>TCGA-B4-5832-01A-11R-1672-07</th><th scope=col>TCGA-B8-5549-11A-01R-1541-07</th><th scope=col>TCGA-AK-3447-01A-01R-1766-07</th><th scope=col>TCGA-CZ-5462-11A-01R-1503-07</th><th scope=col>TCGA-G9-6369-01A-21R-1965-07</th><th scope=col>TCGA-FC-A5OB-01A-11R-A29R-07</th><th scope=col>TCGA-FC-A6HD-01A-11R-A31N-07</th><th scope=col>⋯</th><th scope=col>TCGA-DU-7309-01A-11R-2090-07</th><th scope=col>TCGA-HT-7681-01A-11R-2403-07</th><th scope=col>TCGA-S9-A7IQ-01A-21R-A34F-07</th><th scope=col>TCGA-DB-A64L-01A-11R-A29R-07</th><th scope=col>TCGA-HT-8558-01A-21R-2404-07</th><th scope=col>TCGA-P5-A5F4-01A-11R-A28M-07</th><th scope=col>TCGA-HT-7607-01A-11R-2090-07</th><th scope=col>TCGA-E1-A7Z3-01A-11R-A34R-07</th><th scope=col>TCGA-DU-A6S6-01A-21R-A32Q-07</th><th scope=col>TCGA-HT-7610-01A-21R-2090-07</th></tr>\n",
       "</thead>\n",
       "<tbody>\n",
       "\t<tr><th scope=row>ENSG00000187634</th><td>-0.30195364</td><td>-1.497479</td><td>-4.129844</td><td>-4.732295</td><td> 0.8343864</td><td>-0.7429563</td><td>-0.2243236</td><td> 1.07316998</td><td> 0.1738456</td><td> 2.0715715</td><td>⋯</td><td>-1.0851800</td><td> 0.05546264</td><td>-0.56381925</td><td>-1.343109</td><td>-0.56326682</td><td> 2.7384978</td><td>-1.959212</td><td>-0.4013139</td><td> 0.6411496</td><td>-0.5411083</td></tr>\n",
       "\t<tr><th scope=row>ENSG00000188976</th><td>-0.04741618</td><td>-1.072059</td><td>-3.635615</td><td>-4.657355</td><td> 0.1561554</td><td>-1.1307868</td><td>-0.6843728</td><td> 0.88857146</td><td> 0.4779507</td><td> 1.1518566</td><td>⋯</td><td>-0.5833174</td><td>-0.61110265</td><td>-0.09554698</td><td>-0.405022</td><td>-0.03077239</td><td> 1.2226483</td><td>-1.340745</td><td>-0.3960265</td><td> 0.3159922</td><td>-0.3198475</td></tr>\n",
       "\t<tr><th scope=row>ENSG00000187961</th><td>-1.65882732</td><td>-1.617481</td><td>-6.325247</td><td>-7.224650</td><td>-0.2793155</td><td>-2.1332964</td><td>-2.6447818</td><td>-0.21376099</td><td>-0.4971572</td><td> 0.6773380</td><td>⋯</td><td>-0.5007611</td><td>-0.20484325</td><td>-0.13814907</td><td>-1.596121</td><td>-1.02952247</td><td> 2.5449628</td><td>-2.465655</td><td> 0.3902309</td><td> 1.2980049</td><td> 0.8018231</td></tr>\n",
       "\t<tr><th scope=row>ENSG00000187583</th><td>-1.95581213</td><td>-4.950012</td><td>-4.550596</td><td>-6.364257</td><td>-1.4360193</td><td>-4.0319718</td><td>-4.7517356</td><td>-0.05229478</td><td>-2.3601813</td><td>-2.7015362</td><td>⋯</td><td>-8.1886785</td><td>-8.48115987</td><td>-6.45965302</td><td>-8.113672</td><td>-7.10511008</td><td>-2.8486255</td><td>-7.960952</td><td>-9.0584778</td><td>-5.7138179</td><td>-7.4931558</td></tr>\n",
       "\t<tr><th scope=row>ENSG00000187642</th><td>-1.70985226</td><td>-2.619643</td><td>-1.285301</td><td>-3.690062</td><td> 0.6529772</td><td>-4.0604309</td><td>-3.4420883</td><td> 2.63731518</td><td>-0.3846183</td><td>-0.6236183</td><td>⋯</td><td>-5.3884837</td><td>-4.22940693</td><td>-3.70112844</td><td>-6.376874</td><td>-3.88122605</td><td> 0.5667684</td><td>-4.766692</td><td>-5.4058791</td><td>-1.8431561</td><td>-4.4631771</td></tr>\n",
       "\t<tr><th scope=row>ENSG00000188290</th><td>-1.52839317</td><td>-2.991226</td><td>-6.732188</td><td>-5.729003</td><td>-0.5632932</td><td>-4.1573032</td><td>-2.3115224</td><td> 3.78533653</td><td> 1.8693480</td><td> 0.6951584</td><td>⋯</td><td>-1.0759891</td><td> 0.50297855</td><td> 0.65767172</td><td>-2.052500</td><td>-1.55754339</td><td> 4.4515773</td><td>-2.677304</td><td> 1.1867196</td><td> 1.9985928</td><td> 0.7246718</td></tr>\n",
       "</tbody>\n",
       "</table>\n"
      ],
      "text/latex": [
       "A matrix: 6 × 6295 of type dbl\n",
       "\\begin{tabular}{r|lllllllllllllllllllll}\n",
       "  & TCGA-AA-3542-01A-02R-1873-07 & TCGA-CW-6088-11A-01R-1672-07 & TCGA-CZ-5989-01A-11R-1672-07 & TCGA-B4-5832-01A-11R-1672-07 & TCGA-B8-5549-11A-01R-1541-07 & TCGA-AK-3447-01A-01R-1766-07 & TCGA-CZ-5462-11A-01R-1503-07 & TCGA-G9-6369-01A-21R-1965-07 & TCGA-FC-A5OB-01A-11R-A29R-07 & TCGA-FC-A6HD-01A-11R-A31N-07 & ⋯ & TCGA-DU-7309-01A-11R-2090-07 & TCGA-HT-7681-01A-11R-2403-07 & TCGA-S9-A7IQ-01A-21R-A34F-07 & TCGA-DB-A64L-01A-11R-A29R-07 & TCGA-HT-8558-01A-21R-2404-07 & TCGA-P5-A5F4-01A-11R-A28M-07 & TCGA-HT-7607-01A-11R-2090-07 & TCGA-E1-A7Z3-01A-11R-A34R-07 & TCGA-DU-A6S6-01A-21R-A32Q-07 & TCGA-HT-7610-01A-21R-2090-07\\\\\n",
       "\\hline\n",
       "\tENSG00000187634 & -0.30195364 & -1.497479 & -4.129844 & -4.732295 &  0.8343864 & -0.7429563 & -0.2243236 &  1.07316998 &  0.1738456 &  2.0715715 & ⋯ & -1.0851800 &  0.05546264 & -0.56381925 & -1.343109 & -0.56326682 &  2.7384978 & -1.959212 & -0.4013139 &  0.6411496 & -0.5411083\\\\\n",
       "\tENSG00000188976 & -0.04741618 & -1.072059 & -3.635615 & -4.657355 &  0.1561554 & -1.1307868 & -0.6843728 &  0.88857146 &  0.4779507 &  1.1518566 & ⋯ & -0.5833174 & -0.61110265 & -0.09554698 & -0.405022 & -0.03077239 &  1.2226483 & -1.340745 & -0.3960265 &  0.3159922 & -0.3198475\\\\\n",
       "\tENSG00000187961 & -1.65882732 & -1.617481 & -6.325247 & -7.224650 & -0.2793155 & -2.1332964 & -2.6447818 & -0.21376099 & -0.4971572 &  0.6773380 & ⋯ & -0.5007611 & -0.20484325 & -0.13814907 & -1.596121 & -1.02952247 &  2.5449628 & -2.465655 &  0.3902309 &  1.2980049 &  0.8018231\\\\\n",
       "\tENSG00000187583 & -1.95581213 & -4.950012 & -4.550596 & -6.364257 & -1.4360193 & -4.0319718 & -4.7517356 & -0.05229478 & -2.3601813 & -2.7015362 & ⋯ & -8.1886785 & -8.48115987 & -6.45965302 & -8.113672 & -7.10511008 & -2.8486255 & -7.960952 & -9.0584778 & -5.7138179 & -7.4931558\\\\\n",
       "\tENSG00000187642 & -1.70985226 & -2.619643 & -1.285301 & -3.690062 &  0.6529772 & -4.0604309 & -3.4420883 &  2.63731518 & -0.3846183 & -0.6236183 & ⋯ & -5.3884837 & -4.22940693 & -3.70112844 & -6.376874 & -3.88122605 &  0.5667684 & -4.766692 & -5.4058791 & -1.8431561 & -4.4631771\\\\\n",
       "\tENSG00000188290 & -1.52839317 & -2.991226 & -6.732188 & -5.729003 & -0.5632932 & -4.1573032 & -2.3115224 &  3.78533653 &  1.8693480 &  0.6951584 & ⋯ & -1.0759891 &  0.50297855 &  0.65767172 & -2.052500 & -1.55754339 &  4.4515773 & -2.677304 &  1.1867196 &  1.9985928 &  0.7246718\\\\\n",
       "\\end{tabular}\n"
      ],
      "text/markdown": [
       "\n",
       "A matrix: 6 × 6295 of type dbl\n",
       "\n",
       "| <!--/--> | TCGA-AA-3542-01A-02R-1873-07 | TCGA-CW-6088-11A-01R-1672-07 | TCGA-CZ-5989-01A-11R-1672-07 | TCGA-B4-5832-01A-11R-1672-07 | TCGA-B8-5549-11A-01R-1541-07 | TCGA-AK-3447-01A-01R-1766-07 | TCGA-CZ-5462-11A-01R-1503-07 | TCGA-G9-6369-01A-21R-1965-07 | TCGA-FC-A5OB-01A-11R-A29R-07 | TCGA-FC-A6HD-01A-11R-A31N-07 | ⋯ | TCGA-DU-7309-01A-11R-2090-07 | TCGA-HT-7681-01A-11R-2403-07 | TCGA-S9-A7IQ-01A-21R-A34F-07 | TCGA-DB-A64L-01A-11R-A29R-07 | TCGA-HT-8558-01A-21R-2404-07 | TCGA-P5-A5F4-01A-11R-A28M-07 | TCGA-HT-7607-01A-11R-2090-07 | TCGA-E1-A7Z3-01A-11R-A34R-07 | TCGA-DU-A6S6-01A-21R-A32Q-07 | TCGA-HT-7610-01A-21R-2090-07 |\n",
       "|---|---|---|---|---|---|---|---|---|---|---|---|---|---|---|---|---|---|---|---|---|---|\n",
       "| ENSG00000187634 | -0.30195364 | -1.497479 | -4.129844 | -4.732295 |  0.8343864 | -0.7429563 | -0.2243236 |  1.07316998 |  0.1738456 |  2.0715715 | ⋯ | -1.0851800 |  0.05546264 | -0.56381925 | -1.343109 | -0.56326682 |  2.7384978 | -1.959212 | -0.4013139 |  0.6411496 | -0.5411083 |\n",
       "| ENSG00000188976 | -0.04741618 | -1.072059 | -3.635615 | -4.657355 |  0.1561554 | -1.1307868 | -0.6843728 |  0.88857146 |  0.4779507 |  1.1518566 | ⋯ | -0.5833174 | -0.61110265 | -0.09554698 | -0.405022 | -0.03077239 |  1.2226483 | -1.340745 | -0.3960265 |  0.3159922 | -0.3198475 |\n",
       "| ENSG00000187961 | -1.65882732 | -1.617481 | -6.325247 | -7.224650 | -0.2793155 | -2.1332964 | -2.6447818 | -0.21376099 | -0.4971572 |  0.6773380 | ⋯ | -0.5007611 | -0.20484325 | -0.13814907 | -1.596121 | -1.02952247 |  2.5449628 | -2.465655 |  0.3902309 |  1.2980049 |  0.8018231 |\n",
       "| ENSG00000187583 | -1.95581213 | -4.950012 | -4.550596 | -6.364257 | -1.4360193 | -4.0319718 | -4.7517356 | -0.05229478 | -2.3601813 | -2.7015362 | ⋯ | -8.1886785 | -8.48115987 | -6.45965302 | -8.113672 | -7.10511008 | -2.8486255 | -7.960952 | -9.0584778 | -5.7138179 | -7.4931558 |\n",
       "| ENSG00000187642 | -1.70985226 | -2.619643 | -1.285301 | -3.690062 |  0.6529772 | -4.0604309 | -3.4420883 |  2.63731518 | -0.3846183 | -0.6236183 | ⋯ | -5.3884837 | -4.22940693 | -3.70112844 | -6.376874 | -3.88122605 |  0.5667684 | -4.766692 | -5.4058791 | -1.8431561 | -4.4631771 |\n",
       "| ENSG00000188290 | -1.52839317 | -2.991226 | -6.732188 | -5.729003 | -0.5632932 | -4.1573032 | -2.3115224 |  3.78533653 |  1.8693480 |  0.6951584 | ⋯ | -1.0759891 |  0.50297855 |  0.65767172 | -2.052500 | -1.55754339 |  4.4515773 | -2.677304 |  1.1867196 |  1.9985928 |  0.7246718 |\n",
       "\n"
      ],
      "text/plain": [
       "                TCGA-AA-3542-01A-02R-1873-07 TCGA-CW-6088-11A-01R-1672-07\n",
       "ENSG00000187634 -0.30195364                  -1.497479                   \n",
       "ENSG00000188976 -0.04741618                  -1.072059                   \n",
       "ENSG00000187961 -1.65882732                  -1.617481                   \n",
       "ENSG00000187583 -1.95581213                  -4.950012                   \n",
       "ENSG00000187642 -1.70985226                  -2.619643                   \n",
       "ENSG00000188290 -1.52839317                  -2.991226                   \n",
       "                TCGA-CZ-5989-01A-11R-1672-07 TCGA-B4-5832-01A-11R-1672-07\n",
       "ENSG00000187634 -4.129844                    -4.732295                   \n",
       "ENSG00000188976 -3.635615                    -4.657355                   \n",
       "ENSG00000187961 -6.325247                    -7.224650                   \n",
       "ENSG00000187583 -4.550596                    -6.364257                   \n",
       "ENSG00000187642 -1.285301                    -3.690062                   \n",
       "ENSG00000188290 -6.732188                    -5.729003                   \n",
       "                TCGA-B8-5549-11A-01R-1541-07 TCGA-AK-3447-01A-01R-1766-07\n",
       "ENSG00000187634  0.8343864                   -0.7429563                  \n",
       "ENSG00000188976  0.1561554                   -1.1307868                  \n",
       "ENSG00000187961 -0.2793155                   -2.1332964                  \n",
       "ENSG00000187583 -1.4360193                   -4.0319718                  \n",
       "ENSG00000187642  0.6529772                   -4.0604309                  \n",
       "ENSG00000188290 -0.5632932                   -4.1573032                  \n",
       "                TCGA-CZ-5462-11A-01R-1503-07 TCGA-G9-6369-01A-21R-1965-07\n",
       "ENSG00000187634 -0.2243236                    1.07316998                 \n",
       "ENSG00000188976 -0.6843728                    0.88857146                 \n",
       "ENSG00000187961 -2.6447818                   -0.21376099                 \n",
       "ENSG00000187583 -4.7517356                   -0.05229478                 \n",
       "ENSG00000187642 -3.4420883                    2.63731518                 \n",
       "ENSG00000188290 -2.3115224                    3.78533653                 \n",
       "                TCGA-FC-A5OB-01A-11R-A29R-07 TCGA-FC-A6HD-01A-11R-A31N-07 ⋯\n",
       "ENSG00000187634  0.1738456                    2.0715715                   ⋯\n",
       "ENSG00000188976  0.4779507                    1.1518566                   ⋯\n",
       "ENSG00000187961 -0.4971572                    0.6773380                   ⋯\n",
       "ENSG00000187583 -2.3601813                   -2.7015362                   ⋯\n",
       "ENSG00000187642 -0.3846183                   -0.6236183                   ⋯\n",
       "ENSG00000188290  1.8693480                    0.6951584                   ⋯\n",
       "                TCGA-DU-7309-01A-11R-2090-07 TCGA-HT-7681-01A-11R-2403-07\n",
       "ENSG00000187634 -1.0851800                    0.05546264                 \n",
       "ENSG00000188976 -0.5833174                   -0.61110265                 \n",
       "ENSG00000187961 -0.5007611                   -0.20484325                 \n",
       "ENSG00000187583 -8.1886785                   -8.48115987                 \n",
       "ENSG00000187642 -5.3884837                   -4.22940693                 \n",
       "ENSG00000188290 -1.0759891                    0.50297855                 \n",
       "                TCGA-S9-A7IQ-01A-21R-A34F-07 TCGA-DB-A64L-01A-11R-A29R-07\n",
       "ENSG00000187634 -0.56381925                  -1.343109                   \n",
       "ENSG00000188976 -0.09554698                  -0.405022                   \n",
       "ENSG00000187961 -0.13814907                  -1.596121                   \n",
       "ENSG00000187583 -6.45965302                  -8.113672                   \n",
       "ENSG00000187642 -3.70112844                  -6.376874                   \n",
       "ENSG00000188290  0.65767172                  -2.052500                   \n",
       "                TCGA-HT-8558-01A-21R-2404-07 TCGA-P5-A5F4-01A-11R-A28M-07\n",
       "ENSG00000187634 -0.56326682                   2.7384978                  \n",
       "ENSG00000188976 -0.03077239                   1.2226483                  \n",
       "ENSG00000187961 -1.02952247                   2.5449628                  \n",
       "ENSG00000187583 -7.10511008                  -2.8486255                  \n",
       "ENSG00000187642 -3.88122605                   0.5667684                  \n",
       "ENSG00000188290 -1.55754339                   4.4515773                  \n",
       "                TCGA-HT-7607-01A-11R-2090-07 TCGA-E1-A7Z3-01A-11R-A34R-07\n",
       "ENSG00000187634 -1.959212                    -0.4013139                  \n",
       "ENSG00000188976 -1.340745                    -0.3960265                  \n",
       "ENSG00000187961 -2.465655                     0.3902309                  \n",
       "ENSG00000187583 -7.960952                    -9.0584778                  \n",
       "ENSG00000187642 -4.766692                    -5.4058791                  \n",
       "ENSG00000188290 -2.677304                     1.1867196                  \n",
       "                TCGA-DU-A6S6-01A-21R-A32Q-07 TCGA-HT-7610-01A-21R-2090-07\n",
       "ENSG00000187634  0.6411496                   -0.5411083                  \n",
       "ENSG00000188976  0.3159922                   -0.3198475                  \n",
       "ENSG00000187961  1.2980049                    0.8018231                  \n",
       "ENSG00000187583 -5.7138179                   -7.4931558                  \n",
       "ENSG00000187642 -1.8431561                   -4.4631771                  \n",
       "ENSG00000188290  1.9985928                    0.7246718                  "
      ]
     },
     "metadata": {},
     "output_type": "display_data"
    }
   ],
   "source": [
    "# for Filtered by paper AND pseudocount = 1\n",
    "exp <- readRDS(\"/home/elisalaegsgaard/jsp_student_projects/miRNA_DGD_DE_F2024/data/filtered_by_paper/counts_filtered_normalized.rds\")\n",
    "pred_means_DGD <- readRDS(\"/home/elisalaegsgaard/jsp_student_projects/miRNA_DGD_DE_F2024/data/filtered_by_paper/rescaled_decoder_outputs_filtered_normalized.rds\")\n",
    "dim(exp)\n",
    "dim(pred_means_DGD)\n",
    "FC_DGD <- exp-pred_means_DGD\n",
    "head(FC_DGD)"
   ]
  },
  {
   "cell_type": "code",
   "execution_count": 33,
   "metadata": {
    "vscode": {
     "languageId": "r"
    }
   },
   "outputs": [],
   "source": [
    "#saveRDS(FC_DGD,\"/faststorage/project/jsp_student_projects//miRNA_DGD_DE_F2024/data/pseudocount_1e-6/log2_fold_changes_filtered_normalized.rds\")\n",
    "#saveRDS(FC_DGD,\"/faststorage/project/jsp_student_projects//miRNA_DGD_DE_F2024/data/pseudocount_1/log2_fold_changes_filtered_normalized.rds\")\n",
    "saveRDS(FC_DGD,\"/faststorage/project/jsp_student_projects//miRNA_DGD_DE_F2024/data/filtered_by_paper/log2_fold_changes_filtered_normalized.rds\")"
   ]
  },
  {
   "cell_type": "markdown",
   "metadata": {},
   "source": [
    "### rescale DGD"
   ]
  },
  {
   "cell_type": "markdown",
   "metadata": {},
   "source": [
    "\n",
    "Rescaling the negative binomials by the means of the raw counts\n"
   ]
  },
  {
   "cell_type": "code",
   "execution_count": 9,
   "metadata": {
    "vscode": {
     "languageId": "r"
    }
   },
   "outputs": [
    {
     "name": "stderr",
     "output_type": "stream",
     "text": [
      "\u001b[1m\u001b[22mNew names:\n",
      "\u001b[36m•\u001b[39m `` -> `...1`\n",
      "\u001b[1mRows: \u001b[22m\u001b[34m10682\u001b[39m \u001b[1mColumns: \u001b[22m\u001b[34m16884\u001b[39m\n",
      "\u001b[36m──\u001b[39m \u001b[1mColumn specification\u001b[22m \u001b[36m────────────────────────────────────────────────────────\u001b[39m\n",
      "\u001b[1mDelimiter:\u001b[22m \",\"\n",
      "\u001b[31mchr\u001b[39m     (1): ...1\n",
      "\u001b[32mdbl\u001b[39m (16883): ENSG00000187634, ENSG00000188976, ENSG00000187961, ENSG00000187...\n",
      "\n",
      "\u001b[36mℹ\u001b[39m Use `spec()` to retrieve the full column specification for this data.\n",
      "\u001b[36mℹ\u001b[39m Specify the column types or set `show_col_types = FALSE` to quiet this message.\n",
      "\u001b[1m\u001b[22mNew names:\n",
      "\u001b[36m•\u001b[39m `` -> `...1`\n",
      "\u001b[1mRows: \u001b[22m\u001b[34m10682\u001b[39m \u001b[1mColumns: \u001b[22m\u001b[34m16884\u001b[39m\n",
      "\u001b[36m──\u001b[39m \u001b[1mColumn specification\u001b[22m \u001b[36m────────────────────────────────────────────────────────\u001b[39m\n",
      "\u001b[1mDelimiter:\u001b[22m \",\"\n",
      "\u001b[31mchr\u001b[39m     (1): ...1\n",
      "\u001b[32mdbl\u001b[39m (16883): ENSG00000187634, ENSG00000188976, ENSG00000187961, ENSG00000187...\n",
      "\n",
      "\u001b[36mℹ\u001b[39m Use `spec()` to retrieve the full column specification for this data.\n",
      "\u001b[36mℹ\u001b[39m Specify the column types or set `show_col_types = FALSE` to quiet this message.\n"
     ]
    }
   ],
   "source": [
    "pred_means_DGD <- read_csv(\"/faststorage/project/jsp_student_projects/miRNA_DGD_DE_F2024/DGD/data/full_TCGA/decoder_outputs.csv\")\n",
    "obs_counts_DGD <- read_csv(\"/faststorage/project/jsp_student_projects/miRNA_DGD_DE_F2024/DGD/data/full_TCGA/samples_preprocessed.csv\")"
   ]
  },
  {
   "cell_type": "code",
   "execution_count": 10,
   "metadata": {
    "vscode": {
     "languageId": "r"
    }
   },
   "outputs": [],
   "source": [
    "pred_means_DGD <- pred_means_DGD %>%\n",
    "    column_to_rownames(\"...1\")\n",
    "\n",
    "obs_counts_DGD <- obs_counts_DGD %>%\n",
    "    column_to_rownames(\"...1\")"
   ]
  },
  {
   "cell_type": "code",
   "execution_count": 11,
   "metadata": {
    "vscode": {
     "languageId": "r"
    }
   },
   "outputs": [
    {
     "data": {
      "text/html": [
       "<style>\n",
       ".list-inline {list-style: none; margin:0; padding: 0}\n",
       ".list-inline>li {display: inline-block}\n",
       ".list-inline>li:not(:last-child)::after {content: \"\\00b7\"; padding: 0 .5ex}\n",
       "</style>\n",
       "<ol class=list-inline><li>10682</li><li>16883</li></ol>\n"
      ],
      "text/latex": [
       "\\begin{enumerate*}\n",
       "\\item 10682\n",
       "\\item 16883\n",
       "\\end{enumerate*}\n"
      ],
      "text/markdown": [
       "1. 10682\n",
       "2. 16883\n",
       "\n",
       "\n"
      ],
      "text/plain": [
       "[1] 10682 16883"
      ]
     },
     "metadata": {},
     "output_type": "display_data"
    },
    {
     "data": {
      "text/html": [
       "<style>\n",
       ".list-inline {list-style: none; margin:0; padding: 0}\n",
       ".list-inline>li {display: inline-block}\n",
       ".list-inline>li:not(:last-child)::after {content: \"\\00b7\"; padding: 0 .5ex}\n",
       "</style>\n",
       "<ol class=list-inline><li>10682</li><li>16883</li></ol>\n"
      ],
      "text/latex": [
       "\\begin{enumerate*}\n",
       "\\item 10682\n",
       "\\item 16883\n",
       "\\end{enumerate*}\n"
      ],
      "text/markdown": [
       "1. 10682\n",
       "2. 16883\n",
       "\n",
       "\n"
      ],
      "text/plain": [
       "[1] 10682 16883"
      ]
     },
     "metadata": {},
     "output_type": "display_data"
    },
    {
     "data": {
      "text/html": [
       "<style>\n",
       ".list-inline {list-style: none; margin:0; padding: 0}\n",
       ".list-inline>li {display: inline-block}\n",
       ".list-inline>li:not(:last-child)::after {content: \"\\00b7\"; padding: 0 .5ex}\n",
       "</style>\n",
       "<ol class=list-inline><li>10682</li><li>16126</li></ol>\n"
      ],
      "text/latex": [
       "\\begin{enumerate*}\n",
       "\\item 10682\n",
       "\\item 16126\n",
       "\\end{enumerate*}\n"
      ],
      "text/markdown": [
       "1. 10682\n",
       "2. 16126\n",
       "\n",
       "\n"
      ],
      "text/plain": [
       "[1] 10682 16126"
      ]
     },
     "metadata": {},
     "output_type": "display_data"
    },
    {
     "data": {
      "text/html": [
       "<style>\n",
       ".list-inline {list-style: none; margin:0; padding: 0}\n",
       ".list-inline>li {display: inline-block}\n",
       ".list-inline>li:not(:last-child)::after {content: \"\\00b7\"; padding: 0 .5ex}\n",
       "</style>\n",
       "<ol class=list-inline><li>10682</li><li>16126</li></ol>\n"
      ],
      "text/latex": [
       "\\begin{enumerate*}\n",
       "\\item 10682\n",
       "\\item 16126\n",
       "\\end{enumerate*}\n"
      ],
      "text/markdown": [
       "1. 10682\n",
       "2. 16126\n",
       "\n",
       "\n"
      ],
      "text/plain": [
       "[1] 10682 16126"
      ]
     },
     "metadata": {},
     "output_type": "display_data"
    }
   ],
   "source": [
    "# Filter away the genes that we do not want\n",
    "exp <- readRDS(\"/home/elisalaegsgaard/jsp_student_projects/miRNA_DGD_DE_F2024/data/preprocessed/TCGA_counts/counts_filtered.rds\")\n",
    "dim(obs_counts_DGD)\n",
    "dim(pred_means_DGD)\n",
    "row_names <- intersect(rownames(exp), colnames(obs_counts_DGD))\n",
    "obs_counts_DGD <- obs_counts_DGD[,row_names , drop = FALSE] \n",
    "row_names <- intersect(rownames(exp), colnames(pred_means_DGD))\n",
    "pred_means_DGD <- pred_means_DGD[,row_names , drop = FALSE] \n",
    "dim(obs_counts_DGD)\n",
    "dim(pred_means_DGD)"
   ]
  },
  {
   "cell_type": "code",
   "execution_count": 12,
   "metadata": {
    "vscode": {
     "languageId": "r"
    }
   },
   "outputs": [
    {
     "data": {
      "text/html": [
       "<table class=\"dataframe\">\n",
       "<caption>A data.frame: 6 × 16126</caption>\n",
       "<thead>\n",
       "\t<tr><th></th><th scope=col>ENSG00000187634</th><th scope=col>ENSG00000188976</th><th scope=col>ENSG00000187961</th><th scope=col>ENSG00000187583</th><th scope=col>ENSG00000187642</th><th scope=col>ENSG00000188290</th><th scope=col>ENSG00000187608</th><th scope=col>ENSG00000188157</th><th scope=col>ENSG00000131591</th><th scope=col>ENSG00000162571</th><th scope=col>⋯</th><th scope=col>ENSG00000129824</th><th scope=col>ENSG00000067646</th><th scope=col>ENSG00000099715</th><th scope=col>ENSG00000114374</th><th scope=col>ENSG00000067048</th><th scope=col>ENSG00000183878</th><th scope=col>ENSG00000154620</th><th scope=col>ENSG00000165246</th><th scope=col>ENSG00000012817</th><th scope=col>ENSG00000198692</th></tr>\n",
       "\t<tr><th></th><th scope=col>&lt;dbl&gt;</th><th scope=col>&lt;dbl&gt;</th><th scope=col>&lt;dbl&gt;</th><th scope=col>&lt;dbl&gt;</th><th scope=col>&lt;dbl&gt;</th><th scope=col>&lt;dbl&gt;</th><th scope=col>&lt;dbl&gt;</th><th scope=col>&lt;dbl&gt;</th><th scope=col>&lt;dbl&gt;</th><th scope=col>&lt;dbl&gt;</th><th scope=col>⋯</th><th scope=col>&lt;dbl&gt;</th><th scope=col>&lt;dbl&gt;</th><th scope=col>&lt;dbl&gt;</th><th scope=col>&lt;dbl&gt;</th><th scope=col>&lt;dbl&gt;</th><th scope=col>&lt;dbl&gt;</th><th scope=col>&lt;dbl&gt;</th><th scope=col>&lt;dbl&gt;</th><th scope=col>&lt;dbl&gt;</th><th scope=col>&lt;dbl&gt;</th></tr>\n",
       "</thead>\n",
       "<tbody>\n",
       "\t<tr><th scope=row>TCGA-EW-A6SA-01A-21R-A32P-07</th><td>1413</td><td>9723</td><td>1310</td><td>216</td><td> 84</td><td>972</td><td> 834</td><td>26778</td><td>2022</td><td> 69</td><td>⋯</td><td> 7408</td><td>1192</td><td>1</td><td> 846</td><td>6239</td><td>2542</td><td>  9</td><td> 600</td><td> 239</td><td>  93</td></tr>\n",
       "\t<tr><th scope=row>TCGA-E2-A14W-01A-11R-A12D-07</th><td>1562</td><td>6455</td><td> 299</td><td>489</td><td>249</td><td> 69</td><td> 538</td><td> 4353</td><td> 480</td><td>  3</td><td>⋯</td><td> 9090</td><td> 800</td><td>2</td><td>1398</td><td>1813</td><td> 558</td><td>105</td><td> 791</td><td> 130</td><td>  55</td></tr>\n",
       "\t<tr><th scope=row>TCGA-EW-A1PD-01A-11R-A144-07</th><td> 912</td><td>7050</td><td> 439</td><td> 86</td><td> 23</td><td>357</td><td>1281</td><td>15155</td><td> 773</td><td> 24</td><td>⋯</td><td>12622</td><td> 855</td><td>7</td><td>2183</td><td>3703</td><td>1745</td><td>165</td><td>1072</td><td>3496</td><td>1612</td></tr>\n",
       "\t<tr><th scope=row>TCGA-55-1594-01A-01R-0946-07</th><td> 501</td><td>4238</td><td> 459</td><td> 29</td><td> 13</td><td>134</td><td>1300</td><td>10850</td><td> 553</td><td> 52</td><td>⋯</td><td> 1354</td><td> 144</td><td>0</td><td> 220</td><td> 678</td><td> 200</td><td> 14</td><td>  78</td><td> 571</td><td> 179</td></tr>\n",
       "\t<tr><th scope=row>TCGA-49-6742-11A-01R-1858-07</th><td> 321</td><td>1791</td><td>  93</td><td> 42</td><td> 18</td><td>113</td><td> 831</td><td>15436</td><td> 175</td><td>396</td><td>⋯</td><td> 9588</td><td> 686</td><td>4</td><td> 793</td><td>2766</td><td> 783</td><td>100</td><td> 288</td><td> 892</td><td> 842</td></tr>\n",
       "\t<tr><th scope=row>TCGA-50-5932-11A-01R-1755-07</th><td> 234</td><td>1280</td><td>  80</td><td> 19</td><td>  7</td><td> 68</td><td> 759</td><td> 9293</td><td> 153</td><td> 57</td><td>⋯</td><td> 4081</td><td> 573</td><td>4</td><td> 683</td><td>2230</td><td> 580</td><td> 47</td><td> 146</td><td> 962</td><td> 463</td></tr>\n",
       "</tbody>\n",
       "</table>\n"
      ],
      "text/latex": [
       "A data.frame: 6 × 16126\n",
       "\\begin{tabular}{r|lllllllllllllllllllll}\n",
       "  & ENSG00000187634 & ENSG00000188976 & ENSG00000187961 & ENSG00000187583 & ENSG00000187642 & ENSG00000188290 & ENSG00000187608 & ENSG00000188157 & ENSG00000131591 & ENSG00000162571 & ⋯ & ENSG00000129824 & ENSG00000067646 & ENSG00000099715 & ENSG00000114374 & ENSG00000067048 & ENSG00000183878 & ENSG00000154620 & ENSG00000165246 & ENSG00000012817 & ENSG00000198692\\\\\n",
       "  & <dbl> & <dbl> & <dbl> & <dbl> & <dbl> & <dbl> & <dbl> & <dbl> & <dbl> & <dbl> & ⋯ & <dbl> & <dbl> & <dbl> & <dbl> & <dbl> & <dbl> & <dbl> & <dbl> & <dbl> & <dbl>\\\\\n",
       "\\hline\n",
       "\tTCGA-EW-A6SA-01A-21R-A32P-07 & 1413 & 9723 & 1310 & 216 &  84 & 972 &  834 & 26778 & 2022 &  69 & ⋯ &  7408 & 1192 & 1 &  846 & 6239 & 2542 &   9 &  600 &  239 &   93\\\\\n",
       "\tTCGA-E2-A14W-01A-11R-A12D-07 & 1562 & 6455 &  299 & 489 & 249 &  69 &  538 &  4353 &  480 &   3 & ⋯ &  9090 &  800 & 2 & 1398 & 1813 &  558 & 105 &  791 &  130 &   55\\\\\n",
       "\tTCGA-EW-A1PD-01A-11R-A144-07 &  912 & 7050 &  439 &  86 &  23 & 357 & 1281 & 15155 &  773 &  24 & ⋯ & 12622 &  855 & 7 & 2183 & 3703 & 1745 & 165 & 1072 & 3496 & 1612\\\\\n",
       "\tTCGA-55-1594-01A-01R-0946-07 &  501 & 4238 &  459 &  29 &  13 & 134 & 1300 & 10850 &  553 &  52 & ⋯ &  1354 &  144 & 0 &  220 &  678 &  200 &  14 &   78 &  571 &  179\\\\\n",
       "\tTCGA-49-6742-11A-01R-1858-07 &  321 & 1791 &   93 &  42 &  18 & 113 &  831 & 15436 &  175 & 396 & ⋯ &  9588 &  686 & 4 &  793 & 2766 &  783 & 100 &  288 &  892 &  842\\\\\n",
       "\tTCGA-50-5932-11A-01R-1755-07 &  234 & 1280 &   80 &  19 &   7 &  68 &  759 &  9293 &  153 &  57 & ⋯ &  4081 &  573 & 4 &  683 & 2230 &  580 &  47 &  146 &  962 &  463\\\\\n",
       "\\end{tabular}\n"
      ],
      "text/markdown": [
       "\n",
       "A data.frame: 6 × 16126\n",
       "\n",
       "| <!--/--> | ENSG00000187634 &lt;dbl&gt; | ENSG00000188976 &lt;dbl&gt; | ENSG00000187961 &lt;dbl&gt; | ENSG00000187583 &lt;dbl&gt; | ENSG00000187642 &lt;dbl&gt; | ENSG00000188290 &lt;dbl&gt; | ENSG00000187608 &lt;dbl&gt; | ENSG00000188157 &lt;dbl&gt; | ENSG00000131591 &lt;dbl&gt; | ENSG00000162571 &lt;dbl&gt; | ⋯ ⋯ | ENSG00000129824 &lt;dbl&gt; | ENSG00000067646 &lt;dbl&gt; | ENSG00000099715 &lt;dbl&gt; | ENSG00000114374 &lt;dbl&gt; | ENSG00000067048 &lt;dbl&gt; | ENSG00000183878 &lt;dbl&gt; | ENSG00000154620 &lt;dbl&gt; | ENSG00000165246 &lt;dbl&gt; | ENSG00000012817 &lt;dbl&gt; | ENSG00000198692 &lt;dbl&gt; |\n",
       "|---|---|---|---|---|---|---|---|---|---|---|---|---|---|---|---|---|---|---|---|---|---|\n",
       "| TCGA-EW-A6SA-01A-21R-A32P-07 | 1413 | 9723 | 1310 | 216 |  84 | 972 |  834 | 26778 | 2022 |  69 | ⋯ |  7408 | 1192 | 1 |  846 | 6239 | 2542 |   9 |  600 |  239 |   93 |\n",
       "| TCGA-E2-A14W-01A-11R-A12D-07 | 1562 | 6455 |  299 | 489 | 249 |  69 |  538 |  4353 |  480 |   3 | ⋯ |  9090 |  800 | 2 | 1398 | 1813 |  558 | 105 |  791 |  130 |   55 |\n",
       "| TCGA-EW-A1PD-01A-11R-A144-07 |  912 | 7050 |  439 |  86 |  23 | 357 | 1281 | 15155 |  773 |  24 | ⋯ | 12622 |  855 | 7 | 2183 | 3703 | 1745 | 165 | 1072 | 3496 | 1612 |\n",
       "| TCGA-55-1594-01A-01R-0946-07 |  501 | 4238 |  459 |  29 |  13 | 134 | 1300 | 10850 |  553 |  52 | ⋯ |  1354 |  144 | 0 |  220 |  678 |  200 |  14 |   78 |  571 |  179 |\n",
       "| TCGA-49-6742-11A-01R-1858-07 |  321 | 1791 |   93 |  42 |  18 | 113 |  831 | 15436 |  175 | 396 | ⋯ |  9588 |  686 | 4 |  793 | 2766 |  783 | 100 |  288 |  892 |  842 |\n",
       "| TCGA-50-5932-11A-01R-1755-07 |  234 | 1280 |   80 |  19 |   7 |  68 |  759 |  9293 |  153 |  57 | ⋯ |  4081 |  573 | 4 |  683 | 2230 |  580 |  47 |  146 |  962 |  463 |\n",
       "\n"
      ],
      "text/plain": [
       "                             ENSG00000187634 ENSG00000188976 ENSG00000187961\n",
       "TCGA-EW-A6SA-01A-21R-A32P-07 1413            9723            1310           \n",
       "TCGA-E2-A14W-01A-11R-A12D-07 1562            6455             299           \n",
       "TCGA-EW-A1PD-01A-11R-A144-07  912            7050             439           \n",
       "TCGA-55-1594-01A-01R-0946-07  501            4238             459           \n",
       "TCGA-49-6742-11A-01R-1858-07  321            1791              93           \n",
       "TCGA-50-5932-11A-01R-1755-07  234            1280              80           \n",
       "                             ENSG00000187583 ENSG00000187642 ENSG00000188290\n",
       "TCGA-EW-A6SA-01A-21R-A32P-07 216              84             972            \n",
       "TCGA-E2-A14W-01A-11R-A12D-07 489             249              69            \n",
       "TCGA-EW-A1PD-01A-11R-A144-07  86              23             357            \n",
       "TCGA-55-1594-01A-01R-0946-07  29              13             134            \n",
       "TCGA-49-6742-11A-01R-1858-07  42              18             113            \n",
       "TCGA-50-5932-11A-01R-1755-07  19               7              68            \n",
       "                             ENSG00000187608 ENSG00000188157 ENSG00000131591\n",
       "TCGA-EW-A6SA-01A-21R-A32P-07  834            26778           2022           \n",
       "TCGA-E2-A14W-01A-11R-A12D-07  538             4353            480           \n",
       "TCGA-EW-A1PD-01A-11R-A144-07 1281            15155            773           \n",
       "TCGA-55-1594-01A-01R-0946-07 1300            10850            553           \n",
       "TCGA-49-6742-11A-01R-1858-07  831            15436            175           \n",
       "TCGA-50-5932-11A-01R-1755-07  759             9293            153           \n",
       "                             ENSG00000162571 ⋯ ENSG00000129824 ENSG00000067646\n",
       "TCGA-EW-A6SA-01A-21R-A32P-07  69             ⋯  7408           1192           \n",
       "TCGA-E2-A14W-01A-11R-A12D-07   3             ⋯  9090            800           \n",
       "TCGA-EW-A1PD-01A-11R-A144-07  24             ⋯ 12622            855           \n",
       "TCGA-55-1594-01A-01R-0946-07  52             ⋯  1354            144           \n",
       "TCGA-49-6742-11A-01R-1858-07 396             ⋯  9588            686           \n",
       "TCGA-50-5932-11A-01R-1755-07  57             ⋯  4081            573           \n",
       "                             ENSG00000099715 ENSG00000114374 ENSG00000067048\n",
       "TCGA-EW-A6SA-01A-21R-A32P-07 1                846            6239           \n",
       "TCGA-E2-A14W-01A-11R-A12D-07 2               1398            1813           \n",
       "TCGA-EW-A1PD-01A-11R-A144-07 7               2183            3703           \n",
       "TCGA-55-1594-01A-01R-0946-07 0                220             678           \n",
       "TCGA-49-6742-11A-01R-1858-07 4                793            2766           \n",
       "TCGA-50-5932-11A-01R-1755-07 4                683            2230           \n",
       "                             ENSG00000183878 ENSG00000154620 ENSG00000165246\n",
       "TCGA-EW-A6SA-01A-21R-A32P-07 2542              9              600           \n",
       "TCGA-E2-A14W-01A-11R-A12D-07  558            105              791           \n",
       "TCGA-EW-A1PD-01A-11R-A144-07 1745            165             1072           \n",
       "TCGA-55-1594-01A-01R-0946-07  200             14               78           \n",
       "TCGA-49-6742-11A-01R-1858-07  783            100              288           \n",
       "TCGA-50-5932-11A-01R-1755-07  580             47              146           \n",
       "                             ENSG00000012817 ENSG00000198692\n",
       "TCGA-EW-A6SA-01A-21R-A32P-07  239              93           \n",
       "TCGA-E2-A14W-01A-11R-A12D-07  130              55           \n",
       "TCGA-EW-A1PD-01A-11R-A144-07 3496            1612           \n",
       "TCGA-55-1594-01A-01R-0946-07  571             179           \n",
       "TCGA-49-6742-11A-01R-1858-07  892             842           \n",
       "TCGA-50-5932-11A-01R-1755-07  962             463           "
      ]
     },
     "metadata": {},
     "output_type": "display_data"
    },
    {
     "data": {
      "text/html": [
       "<style>\n",
       ".list-inline {list-style: none; margin:0; padding: 0}\n",
       ".list-inline>li {display: inline-block}\n",
       ".list-inline>li:not(:last-child)::after {content: \"\\00b7\"; padding: 0 .5ex}\n",
       "</style>\n",
       "<ol class=list-inline><li>10682</li><li>16126</li></ol>\n"
      ],
      "text/latex": [
       "\\begin{enumerate*}\n",
       "\\item 10682\n",
       "\\item 16126\n",
       "\\end{enumerate*}\n"
      ],
      "text/markdown": [
       "1. 10682\n",
       "2. 16126\n",
       "\n",
       "\n"
      ],
      "text/plain": [
       "[1] 10682 16126"
      ]
     },
     "metadata": {},
     "output_type": "display_data"
    }
   ],
   "source": [
    "head(obs_counts_DGD)\n",
    "dim(obs_counts_DGD)\n"
   ]
  },
  {
   "cell_type": "code",
   "execution_count": 13,
   "metadata": {
    "vscode": {
     "languageId": "r"
    }
   },
   "outputs": [
    {
     "name": "stdout",
     "output_type": "stream",
     "text": [
      "nrow:  10682"
     ]
    },
    {
     "data": {
      "text/html": [
       "<style>\n",
       ".list-inline {list-style: none; margin:0; padding: 0}\n",
       ".list-inline>li {display: inline-block}\n",
       ".list-inline>li:not(:last-child)::after {content: \"\\00b7\"; padding: 0 .5ex}\n",
       "</style>\n",
       "<ol class=list-inline><li>'TCGA-EW-A6SA-01A-21R-A32P-07'</li><li>'TCGA-E2-A14W-01A-11R-A12D-07'</li><li>'TCGA-EW-A1PD-01A-11R-A144-07'</li><li>'TCGA-55-1594-01A-01R-0946-07'</li><li>'TCGA-49-6742-11A-01R-1858-07'</li></ol>\n"
      ],
      "text/latex": [
       "\\begin{enumerate*}\n",
       "\\item 'TCGA-EW-A6SA-01A-21R-A32P-07'\n",
       "\\item 'TCGA-E2-A14W-01A-11R-A12D-07'\n",
       "\\item 'TCGA-EW-A1PD-01A-11R-A144-07'\n",
       "\\item 'TCGA-55-1594-01A-01R-0946-07'\n",
       "\\item 'TCGA-49-6742-11A-01R-1858-07'\n",
       "\\end{enumerate*}\n"
      ],
      "text/markdown": [
       "1. 'TCGA-EW-A6SA-01A-21R-A32P-07'\n",
       "2. 'TCGA-E2-A14W-01A-11R-A12D-07'\n",
       "3. 'TCGA-EW-A1PD-01A-11R-A144-07'\n",
       "4. 'TCGA-55-1594-01A-01R-0946-07'\n",
       "5. 'TCGA-49-6742-11A-01R-1858-07'\n",
       "\n",
       "\n"
      ],
      "text/plain": [
       "[1] \"TCGA-EW-A6SA-01A-21R-A32P-07\" \"TCGA-E2-A14W-01A-11R-A12D-07\"\n",
       "[3] \"TCGA-EW-A1PD-01A-11R-A144-07\" \"TCGA-55-1594-01A-01R-0946-07\"\n",
       "[5] \"TCGA-49-6742-11A-01R-1858-07\""
      ]
     },
     "metadata": {},
     "output_type": "display_data"
    }
   ],
   "source": [
    "cat(\"nrow: \", nrow(obs_counts_DGD))\n",
    "rownames(obs_counts_DGD)[1:5]"
   ]
  },
  {
   "cell_type": "code",
   "execution_count": 16,
   "metadata": {
    "vscode": {
     "languageId": "r"
    }
   },
   "outputs": [
    {
     "data": {
      "text/html": [
       "<style>\n",
       ".list-inline {list-style: none; margin:0; padding: 0}\n",
       ".list-inline>li {display: inline-block}\n",
       ".list-inline>li:not(:last-child)::after {content: \"\\00b7\"; padding: 0 .5ex}\n",
       "</style>\n",
       "<ol class=list-inline><li>10682</li><li>1</li></ol>\n"
      ],
      "text/latex": [
       "\\begin{enumerate*}\n",
       "\\item 10682\n",
       "\\item 1\n",
       "\\end{enumerate*}\n"
      ],
      "text/markdown": [
       "1. 10682\n",
       "2. 1\n",
       "\n",
       "\n"
      ],
      "text/plain": [
       "[1] 10682     1"
      ]
     },
     "metadata": {},
     "output_type": "display_data"
    }
   ],
   "source": [
    "# find mean gene count of samples \n",
    "mean_obs <- as.data.frame(apply(obs_counts_DGD,1,mean))\n",
    "dim(mean_obs)\n",
    "# multiply that by each col to rescale\n",
    "rescaled <- apply(pred_means_DGD,2,function(x)(x*mean_obs))\n",
    "rescaled <- as.data.frame(rescaled)\n",
    "colnames(rescaled) <- colnames(pred_means_DGD)"
   ]
  },
  {
   "cell_type": "code",
   "execution_count": 17,
   "metadata": {
    "vscode": {
     "languageId": "r"
    }
   },
   "outputs": [
    {
     "data": {
      "text/html": [
       "<style>\n",
       ".list-inline {list-style: none; margin:0; padding: 0}\n",
       ".list-inline>li {display: inline-block}\n",
       ".list-inline>li:not(:last-child)::after {content: \"\\00b7\"; padding: 0 .5ex}\n",
       "</style>\n",
       "<ol class=list-inline><li>10682</li><li>16126</li></ol>\n"
      ],
      "text/latex": [
       "\\begin{enumerate*}\n",
       "\\item 10682\n",
       "\\item 16126\n",
       "\\end{enumerate*}\n"
      ],
      "text/markdown": [
       "1. 10682\n",
       "2. 16126\n",
       "\n",
       "\n"
      ],
      "text/plain": [
       "[1] 10682 16126"
      ]
     },
     "metadata": {},
     "output_type": "display_data"
    },
    {
     "data": {
      "text/html": [
       "<table class=\"dataframe\">\n",
       "<caption>A data.frame: 6 × 16126</caption>\n",
       "<thead>\n",
       "\t<tr><th></th><th scope=col>ENSG00000187634</th><th scope=col>ENSG00000188976</th><th scope=col>ENSG00000187961</th><th scope=col>ENSG00000187583</th><th scope=col>ENSG00000187642</th><th scope=col>ENSG00000188290</th><th scope=col>ENSG00000187608</th><th scope=col>ENSG00000188157</th><th scope=col>ENSG00000131591</th><th scope=col>ENSG00000162571</th><th scope=col>⋯</th><th scope=col>ENSG00000129824</th><th scope=col>ENSG00000067646</th><th scope=col>ENSG00000099715</th><th scope=col>ENSG00000114374</th><th scope=col>ENSG00000067048</th><th scope=col>ENSG00000183878</th><th scope=col>ENSG00000154620</th><th scope=col>ENSG00000165246</th><th scope=col>ENSG00000012817</th><th scope=col>ENSG00000198692</th></tr>\n",
       "\t<tr><th></th><th scope=col>&lt;dbl&gt;</th><th scope=col>&lt;dbl&gt;</th><th scope=col>&lt;dbl&gt;</th><th scope=col>&lt;dbl&gt;</th><th scope=col>&lt;dbl&gt;</th><th scope=col>&lt;dbl&gt;</th><th scope=col>&lt;dbl&gt;</th><th scope=col>&lt;dbl&gt;</th><th scope=col>&lt;dbl&gt;</th><th scope=col>&lt;dbl&gt;</th><th scope=col>⋯</th><th scope=col>&lt;dbl&gt;</th><th scope=col>&lt;dbl&gt;</th><th scope=col>&lt;dbl&gt;</th><th scope=col>&lt;dbl&gt;</th><th scope=col>&lt;dbl&gt;</th><th scope=col>&lt;dbl&gt;</th><th scope=col>&lt;dbl&gt;</th><th scope=col>&lt;dbl&gt;</th><th scope=col>&lt;dbl&gt;</th><th scope=col>&lt;dbl&gt;</th></tr>\n",
       "</thead>\n",
       "<tbody>\n",
       "\t<tr><th scope=row>TCGA-EW-A6SA-01A-21R-A32P-07</th><td>2310.3406</td><td>9139.063</td><td>1520.47262</td><td>793.73359</td><td>242.707389</td><td>1929.45474</td><td>1117.4473</td><td>19028.070</td><td>2114.8164</td><td>119.57313</td><td>⋯</td><td>21167.689</td><td>1321.75530</td><td>20.864318</td><td>4348.5882</td><td>10000.2374</td><td>1760.1786</td><td>268.40429</td><td>322.68874</td><td>7318.5681</td><td>2515.4001</td></tr>\n",
       "\t<tr><th scope=row>TCGA-E2-A14W-01A-11R-A12D-07</th><td>1428.9973</td><td>4366.588</td><td> 466.75640</td><td>515.01488</td><td>189.179295</td><td> 397.27332</td><td> 784.3496</td><td> 9610.073</td><td> 608.6834</td><td> 48.46396</td><td>⋯</td><td> 5561.191</td><td> 184.07626</td><td> 4.312737</td><td> 417.6698</td><td>  940.1876</td><td> 196.7939</td><td> 38.47986</td><td>103.97807</td><td> 421.1055</td><td> 374.1556</td></tr>\n",
       "\t<tr><th scope=row>TCGA-EW-A1PD-01A-11R-A144-07</th><td>1116.3503</td><td>5540.462</td><td> 583.56823</td><td>384.59477</td><td> 83.637167</td><td> 611.65731</td><td> 933.7001</td><td>18154.421</td><td> 925.8916</td><td> 57.36299</td><td>⋯</td><td> 8383.794</td><td> 609.51948</td><td>18.114367</td><td>1387.1117</td><td> 2730.0287</td><td> 810.8627</td><td> 75.31684</td><td>448.34581</td><td>1964.2439</td><td> 733.4288</td></tr>\n",
       "\t<tr><th scope=row>TCGA-55-1594-01A-01R-0946-07</th><td>1479.2856</td><td>4822.466</td><td> 552.13725</td><td>529.11513</td><td>152.721794</td><td> 267.74784</td><td>1295.8194</td><td>12008.591</td><td> 642.7878</td><td>107.65976</td><td>⋯</td><td> 6419.025</td><td> 601.84567</td><td>13.059228</td><td>1134.4092</td><td> 1923.8761</td><td> 735.7088</td><td>143.75839</td><td>260.08426</td><td>1771.9658</td><td>1239.4983</td></tr>\n",
       "\t<tr><th scope=row>TCGA-49-6742-11A-01R-1858-07</th><td> 288.1781</td><td>1662.172</td><td> 108.68155</td><td> 46.63352</td><td> 15.020845</td><td> 136.90749</td><td>1052.4950</td><td> 7026.947</td><td> 212.7491</td><td>719.74591</td><td>⋯</td><td> 2684.682</td><td>  91.99661</td><td> 3.260468</td><td> 188.8650</td><td>  396.7989</td><td> 128.9595</td><td> 16.07005</td><td> 37.47350</td><td> 208.1401</td><td> 196.5468</td></tr>\n",
       "\t<tr><th scope=row>TCGA-50-5932-11A-01R-1755-07</th><td> 173.4054</td><td>1185.897</td><td>  95.58689</td><td> 19.48707</td><td>  7.986891</td><td>  72.20164</td><td> 728.1915</td><td> 5954.528</td><td> 174.7308</td><td> 55.77457</td><td>⋯</td><td> 1794.643</td><td> 144.90459</td><td> 3.529298</td><td> 268.0972</td><td>  691.4012</td><td> 170.7816</td><td> 12.44671</td><td> 44.51676</td><td> 361.9491</td><td> 142.6248</td></tr>\n",
       "</tbody>\n",
       "</table>\n"
      ],
      "text/latex": [
       "A data.frame: 6 × 16126\n",
       "\\begin{tabular}{r|lllllllllllllllllllll}\n",
       "  & ENSG00000187634 & ENSG00000188976 & ENSG00000187961 & ENSG00000187583 & ENSG00000187642 & ENSG00000188290 & ENSG00000187608 & ENSG00000188157 & ENSG00000131591 & ENSG00000162571 & ⋯ & ENSG00000129824 & ENSG00000067646 & ENSG00000099715 & ENSG00000114374 & ENSG00000067048 & ENSG00000183878 & ENSG00000154620 & ENSG00000165246 & ENSG00000012817 & ENSG00000198692\\\\\n",
       "  & <dbl> & <dbl> & <dbl> & <dbl> & <dbl> & <dbl> & <dbl> & <dbl> & <dbl> & <dbl> & ⋯ & <dbl> & <dbl> & <dbl> & <dbl> & <dbl> & <dbl> & <dbl> & <dbl> & <dbl> & <dbl>\\\\\n",
       "\\hline\n",
       "\tTCGA-EW-A6SA-01A-21R-A32P-07 & 2310.3406 & 9139.063 & 1520.47262 & 793.73359 & 242.707389 & 1929.45474 & 1117.4473 & 19028.070 & 2114.8164 & 119.57313 & ⋯ & 21167.689 & 1321.75530 & 20.864318 & 4348.5882 & 10000.2374 & 1760.1786 & 268.40429 & 322.68874 & 7318.5681 & 2515.4001\\\\\n",
       "\tTCGA-E2-A14W-01A-11R-A12D-07 & 1428.9973 & 4366.588 &  466.75640 & 515.01488 & 189.179295 &  397.27332 &  784.3496 &  9610.073 &  608.6834 &  48.46396 & ⋯ &  5561.191 &  184.07626 &  4.312737 &  417.6698 &   940.1876 &  196.7939 &  38.47986 & 103.97807 &  421.1055 &  374.1556\\\\\n",
       "\tTCGA-EW-A1PD-01A-11R-A144-07 & 1116.3503 & 5540.462 &  583.56823 & 384.59477 &  83.637167 &  611.65731 &  933.7001 & 18154.421 &  925.8916 &  57.36299 & ⋯ &  8383.794 &  609.51948 & 18.114367 & 1387.1117 &  2730.0287 &  810.8627 &  75.31684 & 448.34581 & 1964.2439 &  733.4288\\\\\n",
       "\tTCGA-55-1594-01A-01R-0946-07 & 1479.2856 & 4822.466 &  552.13725 & 529.11513 & 152.721794 &  267.74784 & 1295.8194 & 12008.591 &  642.7878 & 107.65976 & ⋯ &  6419.025 &  601.84567 & 13.059228 & 1134.4092 &  1923.8761 &  735.7088 & 143.75839 & 260.08426 & 1771.9658 & 1239.4983\\\\\n",
       "\tTCGA-49-6742-11A-01R-1858-07 &  288.1781 & 1662.172 &  108.68155 &  46.63352 &  15.020845 &  136.90749 & 1052.4950 &  7026.947 &  212.7491 & 719.74591 & ⋯ &  2684.682 &   91.99661 &  3.260468 &  188.8650 &   396.7989 &  128.9595 &  16.07005 &  37.47350 &  208.1401 &  196.5468\\\\\n",
       "\tTCGA-50-5932-11A-01R-1755-07 &  173.4054 & 1185.897 &   95.58689 &  19.48707 &   7.986891 &   72.20164 &  728.1915 &  5954.528 &  174.7308 &  55.77457 & ⋯ &  1794.643 &  144.90459 &  3.529298 &  268.0972 &   691.4012 &  170.7816 &  12.44671 &  44.51676 &  361.9491 &  142.6248\\\\\n",
       "\\end{tabular}\n"
      ],
      "text/markdown": [
       "\n",
       "A data.frame: 6 × 16126\n",
       "\n",
       "| <!--/--> | ENSG00000187634 &lt;dbl&gt; | ENSG00000188976 &lt;dbl&gt; | ENSG00000187961 &lt;dbl&gt; | ENSG00000187583 &lt;dbl&gt; | ENSG00000187642 &lt;dbl&gt; | ENSG00000188290 &lt;dbl&gt; | ENSG00000187608 &lt;dbl&gt; | ENSG00000188157 &lt;dbl&gt; | ENSG00000131591 &lt;dbl&gt; | ENSG00000162571 &lt;dbl&gt; | ⋯ ⋯ | ENSG00000129824 &lt;dbl&gt; | ENSG00000067646 &lt;dbl&gt; | ENSG00000099715 &lt;dbl&gt; | ENSG00000114374 &lt;dbl&gt; | ENSG00000067048 &lt;dbl&gt; | ENSG00000183878 &lt;dbl&gt; | ENSG00000154620 &lt;dbl&gt; | ENSG00000165246 &lt;dbl&gt; | ENSG00000012817 &lt;dbl&gt; | ENSG00000198692 &lt;dbl&gt; |\n",
       "|---|---|---|---|---|---|---|---|---|---|---|---|---|---|---|---|---|---|---|---|---|---|\n",
       "| TCGA-EW-A6SA-01A-21R-A32P-07 | 2310.3406 | 9139.063 | 1520.47262 | 793.73359 | 242.707389 | 1929.45474 | 1117.4473 | 19028.070 | 2114.8164 | 119.57313 | ⋯ | 21167.689 | 1321.75530 | 20.864318 | 4348.5882 | 10000.2374 | 1760.1786 | 268.40429 | 322.68874 | 7318.5681 | 2515.4001 |\n",
       "| TCGA-E2-A14W-01A-11R-A12D-07 | 1428.9973 | 4366.588 |  466.75640 | 515.01488 | 189.179295 |  397.27332 |  784.3496 |  9610.073 |  608.6834 |  48.46396 | ⋯ |  5561.191 |  184.07626 |  4.312737 |  417.6698 |   940.1876 |  196.7939 |  38.47986 | 103.97807 |  421.1055 |  374.1556 |\n",
       "| TCGA-EW-A1PD-01A-11R-A144-07 | 1116.3503 | 5540.462 |  583.56823 | 384.59477 |  83.637167 |  611.65731 |  933.7001 | 18154.421 |  925.8916 |  57.36299 | ⋯ |  8383.794 |  609.51948 | 18.114367 | 1387.1117 |  2730.0287 |  810.8627 |  75.31684 | 448.34581 | 1964.2439 |  733.4288 |\n",
       "| TCGA-55-1594-01A-01R-0946-07 | 1479.2856 | 4822.466 |  552.13725 | 529.11513 | 152.721794 |  267.74784 | 1295.8194 | 12008.591 |  642.7878 | 107.65976 | ⋯ |  6419.025 |  601.84567 | 13.059228 | 1134.4092 |  1923.8761 |  735.7088 | 143.75839 | 260.08426 | 1771.9658 | 1239.4983 |\n",
       "| TCGA-49-6742-11A-01R-1858-07 |  288.1781 | 1662.172 |  108.68155 |  46.63352 |  15.020845 |  136.90749 | 1052.4950 |  7026.947 |  212.7491 | 719.74591 | ⋯ |  2684.682 |   91.99661 |  3.260468 |  188.8650 |   396.7989 |  128.9595 |  16.07005 |  37.47350 |  208.1401 |  196.5468 |\n",
       "| TCGA-50-5932-11A-01R-1755-07 |  173.4054 | 1185.897 |   95.58689 |  19.48707 |   7.986891 |   72.20164 |  728.1915 |  5954.528 |  174.7308 |  55.77457 | ⋯ |  1794.643 |  144.90459 |  3.529298 |  268.0972 |   691.4012 |  170.7816 |  12.44671 |  44.51676 |  361.9491 |  142.6248 |\n",
       "\n"
      ],
      "text/plain": [
       "                             ENSG00000187634 ENSG00000188976 ENSG00000187961\n",
       "TCGA-EW-A6SA-01A-21R-A32P-07 2310.3406       9139.063        1520.47262     \n",
       "TCGA-E2-A14W-01A-11R-A12D-07 1428.9973       4366.588         466.75640     \n",
       "TCGA-EW-A1PD-01A-11R-A144-07 1116.3503       5540.462         583.56823     \n",
       "TCGA-55-1594-01A-01R-0946-07 1479.2856       4822.466         552.13725     \n",
       "TCGA-49-6742-11A-01R-1858-07  288.1781       1662.172         108.68155     \n",
       "TCGA-50-5932-11A-01R-1755-07  173.4054       1185.897          95.58689     \n",
       "                             ENSG00000187583 ENSG00000187642 ENSG00000188290\n",
       "TCGA-EW-A6SA-01A-21R-A32P-07 793.73359       242.707389      1929.45474     \n",
       "TCGA-E2-A14W-01A-11R-A12D-07 515.01488       189.179295       397.27332     \n",
       "TCGA-EW-A1PD-01A-11R-A144-07 384.59477        83.637167       611.65731     \n",
       "TCGA-55-1594-01A-01R-0946-07 529.11513       152.721794       267.74784     \n",
       "TCGA-49-6742-11A-01R-1858-07  46.63352        15.020845       136.90749     \n",
       "TCGA-50-5932-11A-01R-1755-07  19.48707         7.986891        72.20164     \n",
       "                             ENSG00000187608 ENSG00000188157 ENSG00000131591\n",
       "TCGA-EW-A6SA-01A-21R-A32P-07 1117.4473       19028.070       2114.8164      \n",
       "TCGA-E2-A14W-01A-11R-A12D-07  784.3496        9610.073        608.6834      \n",
       "TCGA-EW-A1PD-01A-11R-A144-07  933.7001       18154.421        925.8916      \n",
       "TCGA-55-1594-01A-01R-0946-07 1295.8194       12008.591        642.7878      \n",
       "TCGA-49-6742-11A-01R-1858-07 1052.4950        7026.947        212.7491      \n",
       "TCGA-50-5932-11A-01R-1755-07  728.1915        5954.528        174.7308      \n",
       "                             ENSG00000162571 ⋯ ENSG00000129824 ENSG00000067646\n",
       "TCGA-EW-A6SA-01A-21R-A32P-07 119.57313       ⋯ 21167.689       1321.75530     \n",
       "TCGA-E2-A14W-01A-11R-A12D-07  48.46396       ⋯  5561.191        184.07626     \n",
       "TCGA-EW-A1PD-01A-11R-A144-07  57.36299       ⋯  8383.794        609.51948     \n",
       "TCGA-55-1594-01A-01R-0946-07 107.65976       ⋯  6419.025        601.84567     \n",
       "TCGA-49-6742-11A-01R-1858-07 719.74591       ⋯  2684.682         91.99661     \n",
       "TCGA-50-5932-11A-01R-1755-07  55.77457       ⋯  1794.643        144.90459     \n",
       "                             ENSG00000099715 ENSG00000114374 ENSG00000067048\n",
       "TCGA-EW-A6SA-01A-21R-A32P-07 20.864318       4348.5882       10000.2374     \n",
       "TCGA-E2-A14W-01A-11R-A12D-07  4.312737        417.6698         940.1876     \n",
       "TCGA-EW-A1PD-01A-11R-A144-07 18.114367       1387.1117        2730.0287     \n",
       "TCGA-55-1594-01A-01R-0946-07 13.059228       1134.4092        1923.8761     \n",
       "TCGA-49-6742-11A-01R-1858-07  3.260468        188.8650         396.7989     \n",
       "TCGA-50-5932-11A-01R-1755-07  3.529298        268.0972         691.4012     \n",
       "                             ENSG00000183878 ENSG00000154620 ENSG00000165246\n",
       "TCGA-EW-A6SA-01A-21R-A32P-07 1760.1786       268.40429       322.68874      \n",
       "TCGA-E2-A14W-01A-11R-A12D-07  196.7939        38.47986       103.97807      \n",
       "TCGA-EW-A1PD-01A-11R-A144-07  810.8627        75.31684       448.34581      \n",
       "TCGA-55-1594-01A-01R-0946-07  735.7088       143.75839       260.08426      \n",
       "TCGA-49-6742-11A-01R-1858-07  128.9595        16.07005        37.47350      \n",
       "TCGA-50-5932-11A-01R-1755-07  170.7816        12.44671        44.51676      \n",
       "                             ENSG00000012817 ENSG00000198692\n",
       "TCGA-EW-A6SA-01A-21R-A32P-07 7318.5681       2515.4001      \n",
       "TCGA-E2-A14W-01A-11R-A12D-07  421.1055        374.1556      \n",
       "TCGA-EW-A1PD-01A-11R-A144-07 1964.2439        733.4288      \n",
       "TCGA-55-1594-01A-01R-0946-07 1771.9658       1239.4983      \n",
       "TCGA-49-6742-11A-01R-1858-07  208.1401        196.5468      \n",
       "TCGA-50-5932-11A-01R-1755-07  361.9491        142.6248      "
      ]
     },
     "metadata": {},
     "output_type": "display_data"
    }
   ],
   "source": [
    "dim(rescaled)\n",
    "head(rescaled)"
   ]
  },
  {
   "cell_type": "code",
   "execution_count": 18,
   "metadata": {
    "vscode": {
     "languageId": "r"
    }
   },
   "outputs": [],
   "source": [
    "saveRDS(t(rescaled),\"/home/elisalaegsgaard/jsp_student_projects/miRNA_DGD_DE_F2024/data/DGD_expression/DGD_rescaled_FINAL.rds\")"
   ]
  }
 ],
 "metadata": {
  "kernelspec": {
   "display_name": "R",
   "language": "R",
   "name": "ir"
  },
  "language_info": {
   "codemirror_mode": "r",
   "file_extension": ".r",
   "mimetype": "text/x-r-source",
   "name": "R",
   "pygments_lexer": "r",
   "version": "4.3.3"
  }
 },
 "nbformat": 4,
 "nbformat_minor": 2
}
